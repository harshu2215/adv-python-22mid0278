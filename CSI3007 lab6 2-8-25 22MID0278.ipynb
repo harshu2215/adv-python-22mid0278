{
 "cells": [
  {
   "cell_type": "code",
   "execution_count": 1,
   "id": "cf9f833e-e138-42c9-a422-e7b5ece0883d",
   "metadata": {},
   "outputs": [
    {
     "name": "stdout",
     "output_type": "stream",
     "text": [
      "I have a dog.\n",
      "My dog's name is Chikku.\n",
      "\n",
      "I have a cat.\n",
      "My cat's name is Tony.\n",
      "\n"
     ]
    }
   ],
   "source": [
    "def describe_pet(animal_type, pet_name):\n",
    "    \"\"\"Show basic info about a pet.\"\"\"\n",
    "    print(f\"I have a {animal_type}.\")\n",
    "    print(f\"My {animal_type}'s name is {pet_name}.\\n\")\n",
    "\n",
    "# Using positional arguments (order defines which value goes where)\n",
    "describe_pet('dog', 'Chikku')\n",
    "\n",
    "# Using keyword arguments (order doesn’t matter here)\n",
    "describe_pet(animal_type='cat', pet_name='Tony')\n"
   ]
  },
  {
   "cell_type": "code",
   "execution_count": 2,
   "id": "b84b7307-3eeb-4d38-9fbb-f5448ac6b84e",
   "metadata": {},
   "outputs": [
    {
     "name": "stdout",
     "output_type": "stream",
     "text": [
      "I have a dog.\n",
      "My dog's name is Chikku.\n",
      "\n",
      "I have a parrot.\n",
      "My parrot's name is Tony.\n",
      "\n",
      "I have a hamster.\n",
      "My hamster's name is Hana.\n",
      "\n"
     ]
    }
   ],
   "source": [
    "def describe_pet(animal_type, pet_name):\n",
    "    \"\"\"Print the details of any pet given.\"\"\"\n",
    "    print(f\"I have a {animal_type}.\")\n",
    "    print(f\"My {animal_type}'s name is {pet_name}.\\n\")\n",
    "\n",
    "# Reusing the same function for different pets\n",
    "describe_pet('dog', 'Chikku')\n",
    "describe_pet('parrot', 'Tony')\n",
    "describe_pet('hamster', 'Hana')\n"
   ]
  },
  {
   "cell_type": "code",
   "execution_count": 3,
   "id": "f5825788-c541-40fc-a93d-a4aa4a911cbb",
   "metadata": {},
   "outputs": [
    {
     "name": "stdout",
     "output_type": "stream",
     "text": [
      "I have a dog.\n",
      "My dog's name is Chikku.\n",
      "\n",
      "I have a Chikku.\n",
      "My Chikku's name is dog.\n",
      "\n"
     ]
    }
   ],
   "source": [
    "def describe_pet(animal_type, pet_name):\n",
    "    \"\"\"Display the pet details.\"\"\"\n",
    "    print(f\"I have a {animal_type}.\")\n",
    "    print(f\"My {animal_type}'s name is {pet_name}.\\n\")\n",
    "\n",
    "# Correct placement of values\n",
    "describe_pet('dog', 'Chikku')\n",
    "\n",
    "# Swapping order changes the output meaning\n",
    "describe_pet('Chikku', 'dog')\n"
   ]
  },
  {
   "cell_type": "code",
   "execution_count": 4,
   "id": "316df1e8-d55d-4c0e-a563-debb587b56b0",
   "metadata": {},
   "outputs": [
    {
     "name": "stdout",
     "output_type": "stream",
     "text": [
      "I have a dog.\n",
      "My dog's name is Chikku.\n",
      "\n",
      "I have a cat.\n",
      "My cat's name is Tony.\n",
      "\n"
     ]
    }
   ],
   "source": [
    "def describe_pet(animal_type, pet_name):\n",
    "    \"\"\"Output pet details in a neat format.\"\"\"\n",
    "    print(f\"I have a {animal_type}.\")\n",
    "    print(f\"My {animal_type}'s name is {pet_name}.\\n\")\n",
    "\n",
    "# Providing argument names removes dependency on order\n",
    "describe_pet(pet_name='Chikku', animal_type='dog')\n",
    "describe_pet(animal_type='cat', pet_name='Tony')\n"
   ]
  },
  {
   "cell_type": "code",
   "execution_count": 5,
   "id": "e1c2a402-58fd-4604-a8bc-b16ed9f154fd",
   "metadata": {},
   "outputs": [
    {
     "name": "stdout",
     "output_type": "stream",
     "text": [
      "I have a dog.\n",
      "My dog's name is Chikku.\n",
      "\n",
      "I have a cat.\n",
      "My cat's name is Tony.\n",
      "\n",
      "I have a parrot.\n",
      "My parrot's name is Hana.\n",
      "\n"
     ]
    }
   ],
   "source": [
    "def describe_pet(pet_name, animal_type='dog'):\n",
    "    \"\"\"animal_type defaults to 'dog' if not specified.\"\"\"\n",
    "    print(f\"I have a {animal_type}.\")\n",
    "    print(f\"My {animal_type}'s name is {pet_name}.\\n\")\n",
    "\n",
    "# animal_type not given, so default is used\n",
    "describe_pet('Chikku')\n",
    "\n",
    "# Default value overridden with a different animal type\n",
    "describe_pet('Tony', 'cat')\n",
    "describe_pet('Hana', 'parrot')\n"
   ]
  },
  {
   "cell_type": "code",
   "execution_count": 6,
   "id": "cd9e52fe-ec2e-4b2c-b1cd-f2e754233853",
   "metadata": {},
   "outputs": [
    {
     "name": "stdout",
     "output_type": "stream",
     "text": [
      "I have a dog.\n",
      "My dog's name is Chikku.\n",
      "\n",
      "I have a dog.\n",
      "My dog's name is Chikku.\n",
      "\n",
      "I have a cat.\n",
      "My cat's name is Tony.\n",
      "\n",
      "I have a parrot.\n",
      "My parrot's name is Hana.\n",
      "\n",
      "I have a hamster.\n",
      "My hamster's name is Chikku.\n",
      "\n"
     ]
    }
   ],
   "source": [
    "def describe_pet(pet_name, animal_type='dog'):\n",
    "    \"\"\"Show pet details; supports multiple calling styles.\"\"\"\n",
    "    print(f\"I have a {animal_type}.\")\n",
    "    print(f\"My {animal_type}'s name is {pet_name}.\\n\")\n",
    "\n",
    "# Positional for pet_name only, default type is used\n",
    "describe_pet('Chikku')\n",
    "\n",
    "# Keyword used for pet_name\n",
    "describe_pet(pet_name='Chikku')\n",
    "\n",
    "# Both values passed positionally\n",
    "describe_pet('Tony', 'cat')\n",
    "\n",
    "# Both values passed using keywords\n",
    "describe_pet(pet_name='Hana', animal_type='parrot')\n",
    "\n",
    "# Keywords provided in reverse order\n",
    "describe_pet(animal_type='hamster', pet_name='Chikku')\n"
   ]
  },
  {
   "cell_type": "code",
   "execution_count": 7,
   "id": "0cbe5705-7845-4964-ae7d-927dc3659597",
   "metadata": {},
   "outputs": [
    {
     "name": "stdout",
     "output_type": "stream",
     "text": [
      "Chikku\n",
      "Tony\n"
     ]
    }
   ],
   "source": [
    "def get_formatted_pet_name(pet_name):\n",
    "    \"\"\"Return pet name in proper title case form.\"\"\"\n",
    "    return pet_name.title()\n",
    "\n",
    "print(get_formatted_pet_name('chikku'))\n",
    "print(get_formatted_pet_name('tony'))\n"
   ]
  },
  {
   "cell_type": "code",
   "execution_count": 8,
   "id": "e262bf11-19ff-4c9b-8767-888ba46ff5a5",
   "metadata": {},
   "outputs": [
    {
     "name": "stdout",
     "output_type": "stream",
     "text": [
      "I have a dog.\n",
      "My dog's name is Chikku.\n",
      "\n",
      "I have a cat.\n",
      "My cat's name is Tony.\n",
      "\n"
     ]
    }
   ],
   "source": [
    "def describe_pet(pet_name, animal_type='dog'):\n",
    "    \"\"\"animal_type is optional; defaults to dog.\"\"\"\n",
    "    print(f\"I have a {animal_type}.\")\n",
    "    print(f\"My {animal_type}'s name is {pet_name}.\\n\")\n",
    "\n",
    "# Uses default animal_type\n",
    "describe_pet('Chikku')\n",
    "\n",
    "# Overrides default with custom type\n",
    "describe_pet('Tony', 'cat')\n"
   ]
  },
  {
   "cell_type": "code",
   "execution_count": 9,
   "id": "02f3afd3-b197-4b0f-bdf1-0acfef7db382",
   "metadata": {},
   "outputs": [
    {
     "name": "stdout",
     "output_type": "stream",
     "text": [
      "{'name': 'Chikku', 'animal_type': 'dog'}\n"
     ]
    }
   ],
   "source": [
    "def build_pet_profile(name, animal_type):\n",
    "    \"\"\"Create and return a dictionary storing pet info.\"\"\"\n",
    "    return {'name': name, 'animal_type': animal_type}\n",
    "\n",
    "profile = build_pet_profile('Chikku', 'dog')\n",
    "print(profile)\n"
   ]
  },
  {
   "cell_type": "code",
   "execution_count": 10,
   "id": "fcf8f45e-86aa-431b-b3f3-0c66cca6adf7",
   "metadata": {},
   "outputs": [
    {
     "name": "stdout",
     "output_type": "stream",
     "text": [
      "Hello, Chikku!\n",
      "Hello, Tony!\n",
      "Hello, Hana!\n"
     ]
    }
   ],
   "source": [
    "def greet_pets(pet_names):\n",
    "    \"\"\"Loop through list and greet each pet.\"\"\"\n",
    "    for name in pet_names:\n",
    "        print(f\"Hello, {name.title()}!\")\n",
    "\n",
    "pets = ['chikku', 'tony', 'hana']\n",
    "greet_pets(pets)\n"
   ]
  },
  {
   "cell_type": "code",
   "execution_count": 11,
   "id": "f1cb4aea-dfa5-4594-90c1-423c00e1c368",
   "metadata": {},
   "outputs": [
    {
     "name": "stdout",
     "output_type": "stream",
     "text": [
      "['CHIKKU', 'TONY', 'HANA']\n"
     ]
    }
   ],
   "source": [
    "def uppercase_pets(pet_names):\n",
    "    \"\"\"Change all pet names in the list to uppercase.\"\"\"\n",
    "    for i in range(len(pet_names)):\n",
    "        pet_names[i] = pet_names[i].upper()\n",
    "\n",
    "pet_list = ['chikku', 'tony', 'hana']\n",
    "uppercase_pets(pet_list)\n",
    "print(pet_list)\n"
   ]
  },
  {
   "cell_type": "code",
   "execution_count": 13,
   "id": "e1e3cce5-24e9-41fb-8f44-0bed7ba7baaa",
   "metadata": {},
   "outputs": [
    {
     "name": "stdout",
     "output_type": "stream",
     "text": [
      "Original: ['chikku', 'tony', 'hana']\n",
      "Changed: ['CHIKKU', 'TONY', 'HANA']\n"
     ]
    }
   ],
   "source": [
    "def uppercase_pets_copy(pet_names):\n",
    "    \"\"\"Use a copy so original list remains unchanged.\"\"\"\n",
    "    for i in range(len(pet_names)):\n",
    "        pet_names[i] = pet_names[i].upper()\n",
    "    return pet_names\n",
    "\n",
    "original_list = ['chikku', 'tony', 'hana']\n",
    "changed_list = uppercase_pets_copy(original_list[:])  # Passing a copy\n",
    "print(\"Original:\", original_list)\n",
    "print(\"Changed:\", changed_list)\n"
   ]
  },
  {
   "cell_type": "code",
   "execution_count": 15,
   "id": "5d75a0cf-39ac-4346-88be-5e80102a80ba",
   "metadata": {},
   "outputs": [
    {
     "name": "stdout",
     "output_type": "stream",
     "text": [
      "I have these pets:\n",
      "- Chikku\n",
      "I have these pets:\n",
      "- Chikku\n",
      "- Tony\n",
      "- Hana\n"
     ]
    }
   ],
   "source": [
    "def list_pets(*pets):\n",
    "    \"\"\"Handle any quantity of pets passed in.\"\"\"\n",
    "    print(\"I have these pets:\")\n",
    "    for pet in pets:\n",
    "        print(f\"- {pet}\")\n",
    "\n",
    "list_pets('Chikku')\n",
    "list_pets('Chikku', 'Tony', 'Hana')\n"
   ]
  },
  {
   "cell_type": "code",
   "execution_count": 17,
   "id": "e8ca12cf-2b7c-4d01-bef4-b57c91b485be",
   "metadata": {},
   "outputs": [
    {
     "name": "stdout",
     "output_type": "stream",
     "text": [
      "Owner: Harshini\n",
      "Pets owned:\n",
      "- Chikku\n",
      "- Tony\n",
      "- Hana\n"
     ]
    }
   ],
   "source": [
    "def show_pet_info(owner, *pets):\n",
    "    \"\"\"First arg is the owner's name, rest are pets.\"\"\"\n",
    "    print(f\"Owner: {owner}\")\n",
    "    print(\"Pets owned:\")\n",
    "    for pet in pets:\n",
    "        print(f\"- {pet}\")\n",
    "\n",
    "show_pet_info('Harshini', 'Chikku', 'Tony', 'Hana')\n"
   ]
  },
  {
   "cell_type": "code",
   "execution_count": 18,
   "id": "b98fe6c9-ad18-4bb4-b20b-746807fb2405",
   "metadata": {},
   "outputs": [
    {
     "name": "stdout",
     "output_type": "stream",
     "text": [
      "{'animal_type': 'dog', 'age': 3, 'color': 'brown', 'name': 'Chikku'}\n"
     ]
    }
   ],
   "source": [
    "def build_pet_profile(name, **details):\n",
    "    \"\"\"Accept any pet details and return as a dictionary.\"\"\"\n",
    "    details['name'] = name\n",
    "    return details\n",
    "\n",
    "pet_data = build_pet_profile('Chikku', animal_type='dog', age=3, color='brown')\n",
    "print(pet_data)\n"
   ]
  },
  {
   "cell_type": "code",
   "execution_count": 19,
   "id": "c0e9a224-358e-4ecc-8552-f7c83fe006ce",
   "metadata": {},
   "outputs": [
    {
     "name": "stdout",
     "output_type": "stream",
     "text": [
      "I have a dog.\n",
      "My dog's name is Chikku.\n"
     ]
    }
   ],
   "source": [
    "# Import the entire pets module\n",
    "import pets  \n",
    "\n",
    "# Call the function from the module by prefixing it with the module name\n",
    "pets.describe_pet('dog', 'Chikku')\n"
   ]
  },
  {
   "cell_type": "code",
   "execution_count": 20,
   "id": "b241e7fd-6325-4486-a89e-2b775f4447d4",
   "metadata": {},
   "outputs": [
    {
     "name": "stdout",
     "output_type": "stream",
     "text": [
      "I have a dog.\n",
      "My dog's name is Chikku.\n"
     ]
    }
   ],
   "source": [
    "# Bring only the needed function from the module into our program\n",
    "from pets import describe_pet  \n",
    "\n",
    "# Function can now be called directly without using the module name\n",
    "describe_pet('dog', 'Chikku')\n"
   ]
  },
  {
   "cell_type": "code",
   "execution_count": 21,
   "id": "30e9a51e-26bd-414d-b61f-83c31f3ab28b",
   "metadata": {},
   "outputs": [
    {
     "name": "stdout",
     "output_type": "stream",
     "text": [
      "I have a cat.\n",
      "My cat's name is Tony.\n"
     ]
    }
   ],
   "source": [
    "# Import the function and rename it for convenience\n",
    "from pets import describe_pet as dp  \n",
    "\n",
    "# The alias dp() works exactly like describe_pet()\n",
    "dp('cat', 'Tony')\n"
   ]
  },
  {
   "cell_type": "code",
   "execution_count": 22,
   "id": "96d761fd-1f92-4d48-b9f4-c4fd12c64a48",
   "metadata": {},
   "outputs": [
    {
     "name": "stdout",
     "output_type": "stream",
     "text": [
      "I have a parrot.\n",
      "My parrot's name is Hana.\n"
     ]
    }
   ],
   "source": [
    "# Import the entire module but give it a shorter nickname\n",
    "import pets as p  \n",
    "\n",
    "# Use the alias instead of the full module name\n",
    "p.describe_pet('parrot', 'Hana')\n"
   ]
  },
  {
   "cell_type": "code",
   "execution_count": 23,
   "id": "f87e4203-12d5-485a-9fcc-704fb996cee7",
   "metadata": {},
   "outputs": [
    {
     "name": "stdout",
     "output_type": "stream",
     "text": [
      "I have a dog.\n",
      "My dog's name is Chikku.\n"
     ]
    }
   ],
   "source": [
    "# Bring every function from pets into the current program's namespace\n",
    "from pets import *  \n",
    "\n",
    "# Can now call describe_pet() directly without prefix\n",
    "describe_pet('dog', 'Chikku')\n"
   ]
  },
  {
   "cell_type": "code",
   "execution_count": null,
   "id": "abd7795b-29e0-4c06-8c3b-b55d21f8a638",
   "metadata": {},
   "outputs": [],
   "source": []
  }
 ],
 "metadata": {
  "kernelspec": {
   "display_name": "Python 3 (ipykernel)",
   "language": "python",
   "name": "python3"
  },
  "language_info": {
   "codemirror_mode": {
    "name": "ipython",
    "version": 3
   },
   "file_extension": ".py",
   "mimetype": "text/x-python",
   "name": "python",
   "nbconvert_exporter": "python",
   "pygments_lexer": "ipython3",
   "version": "3.12.1"
  }
 },
 "nbformat": 4,
 "nbformat_minor": 5
}
