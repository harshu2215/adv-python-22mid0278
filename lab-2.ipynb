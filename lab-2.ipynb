{
 "cells": [
  {
   "cell_type": "code",
   "execution_count": 1,
   "id": "eb31c18b-7455-4710-8e40-a4a06d16ab1b",
   "metadata": {},
   "outputs": [
    {
     "name": "stdout",
     "output_type": "stream",
     "text": [
      "Hello, Python!\n"
     ]
    }
   ],
   "source": [
    "my_string = \"Hello, Python!\"\n",
    "print(my_string)"
   ]
  },
  {
   "cell_type": "code",
   "execution_count": 2,
   "id": "db9a1316-ada9-4d47-bdd8-a8daa58b7f89",
   "metadata": {},
   "outputs": [
    {
     "name": "stdout",
     "output_type": "stream",
     "text": [
      "P\n",
      "n\n"
     ]
    }
   ],
   "source": [
    "my_string = \"Python\"\n",
    "print(my_string[0])  # Output: P\n",
    "print(my_string[-1]) # Output: n (last character)"
   ]
  },
  {
   "cell_type": "code",
   "execution_count": 3,
   "id": "fb307695-b32b-4eb0-8466-915e83bcbc1b",
   "metadata": {},
   "outputs": [
    {
     "name": "stdout",
     "output_type": "stream",
     "text": [
      "Progra\n",
      "gramming\n"
     ]
    }
   ],
   "source": [
    "my_string = \"Programming\"\n",
    "print(my_string[0:6])   # Output: Progra\n",
    "print(my_string[3:])    # Output: gramming"
   ]
  },
  {
   "cell_type": "code",
   "execution_count": 4,
   "id": "6c760d3b-fc69-4e75-8f39-391a1749f05b",
   "metadata": {},
   "outputs": [
    {
     "name": "stdout",
     "output_type": "stream",
     "text": [
      "Data Science\n"
     ]
    }
   ],
   "source": [
    "first = \"Data\"\n",
    "second = \"Science\"\n",
    "combined = first + \" \" + second\n",
    "print(combined)  # Output: Data Science"
   ]
  },
  {
   "cell_type": "code",
   "execution_count": 5,
   "id": "33fdbd8d-c193-47a5-aeaa-ddd5402389b4",
   "metadata": {},
   "outputs": [
    {
     "name": "stdout",
     "output_type": "stream",
     "text": [
      "Hi! Hi! Hi! \n"
     ]
    }
   ],
   "source": [
    "print(\"Hi! \" * 3)  # Output: Hi! Hi! Hi! "
   ]
  },
  {
   "cell_type": "code",
   "execution_count": 6,
   "id": "2d7d8ef4-384e-4eef-af18-67f7c3287130",
   "metadata": {},
   "outputs": [
    {
     "name": "stdout",
     "output_type": "stream",
     "text": [
      "My name is Alice and I am 25 years old.\n"
     ]
    }
   ],
   "source": [
    "name = \"Alice\"\n",
    "age = 25\n",
    "print(f\"My name is {name} and I am {age} years old.\")"
   ]
  },
  {
   "cell_type": "code",
   "execution_count": 7,
   "id": "e814d36a-0130-431d-912b-3bc036f78f5a",
   "metadata": {},
   "outputs": [
    {
     "name": "stdout",
     "output_type": "stream",
     "text": [
      "She said, \"Python is fun!\"\n"
     ]
    }
   ],
   "source": [
    "quote = \"She said, \\\"Python is fun!\\\"\"\n",
    "print(quote)"
   ]
  },
  {
   "cell_type": "code",
   "execution_count": 8,
   "id": "81df78d3-8216-4e5e-8b54-3047cb62b4ea",
   "metadata": {},
   "outputs": [
    {
     "name": "stdout",
     "output_type": "stream",
     "text": [
      "This is\n",
      "a multiline\n",
      "string.\n"
     ]
    }
   ],
   "source": [
    "multiline = \"\"\"This is\n",
    "a multiline\n",
    "string.\"\"\"\n",
    "print(multiline)"
   ]
  },
  {
   "cell_type": "code",
   "execution_count": 9,
   "id": "8252fa84-e803-4f19-8aed-887dee407733",
   "metadata": {},
   "outputs": [
    {
     "name": "stdout",
     "output_type": "stream",
     "text": [
      "Machine Learning!\n",
      "   machine learning!  \n",
      "   Machine Learning.  \n"
     ]
    }
   ],
   "source": [
    "text = \"   Machine Learning!  \"\n",
    "print(text.strip())        # Removes leading/trailing spaces\n",
    "print(text.lower())        # Converts to lowercase\n",
    "print(text.replace(\"!\", \".\"))  # Replaces characters"
   ]
  },
  {
   "cell_type": "code",
   "execution_count": 10,
   "id": "916a43cf-87d8-4f76-abc5-3198da8de9f2",
   "metadata": {},
   "outputs": [
    {
     "name": "stdout",
     "output_type": "stream",
     "text": [
      "True\n"
     ]
    }
   ],
   "source": [
    "text = \"Artificial Intelligence\"\n",
    "print(\"Intel\" in text)   # Output: True"
   ]
  },
  {
   "cell_type": "code",
   "execution_count": 11,
   "id": "83b34e21-bf4b-4f06-a9ff-ce606654edfd",
   "metadata": {},
   "outputs": [
    {
     "name": "stdout",
     "output_type": "stream",
     "text": [
      "My name is Harshini and I am 21 years old.\n"
     ]
    }
   ],
   "source": [
    "name = \"Harshini\"\n",
    "age = 21\n",
    "print(f\"My name is {name} and I am {age} years old.\")"
   ]
  },
  {
   "cell_type": "code",
   "execution_count": 12,
   "id": "5d86397f-218e-468e-87f2-723b696081dc",
   "metadata": {},
   "outputs": [
    {
     "name": "stdout",
     "output_type": "stream",
     "text": [
      "My name is Harshini and I am 21 years old.\n"
     ]
    }
   ],
   "source": [
    "name = \"Harshini\"\n",
    "age = 21\n",
    "print(\"My name is {} and I am {} years old.\".format(name, age))"
   ]
  },
  {
   "cell_type": "code",
   "execution_count": 13,
   "id": "ef70d1b8-99a2-46ce-92fa-fc09c28565a7",
   "metadata": {},
   "outputs": [
    {
     "name": "stdout",
     "output_type": "stream",
     "text": [
      "PYTHON PROGRAMMING\n"
     ]
    }
   ],
   "source": [
    "text = \"python programming\"\n",
    "print(text.upper())  # Output: PYTHON PROGRAMMING"
   ]
  },
  {
   "cell_type": "code",
   "execution_count": 14,
   "id": "2c70f57b-d18e-461e-b2f1-72077afd3783",
   "metadata": {},
   "outputs": [
    {
     "name": "stdout",
     "output_type": "stream",
     "text": [
      "python programming\n"
     ]
    }
   ],
   "source": [
    "text = \"PYTHON Programming\"\n",
    "print(text.lower())  # Output: python programming"
   ]
  },
  {
   "cell_type": "code",
   "execution_count": 15,
   "id": "2b5d8f0f-c5c8-4f6d-8ea3-25cbdff5ccb9",
   "metadata": {},
   "outputs": [
    {
     "name": "stdout",
     "output_type": "stream",
     "text": [
      "Machine Learning With Python\n"
     ]
    }
   ],
   "source": [
    "text = \"machine learning with python\"\n",
    "print(text.title())  # Output: Machine Learning With Python"
   ]
  },
  {
   "cell_type": "code",
   "execution_count": 16,
   "id": "4e41b2ed-d56a-49c3-9bd1-b91debe513e3",
   "metadata": {},
   "outputs": [
    {
     "name": "stdout",
     "output_type": "stream",
     "text": [
      "Hello World\n"
     ]
    }
   ],
   "source": [
    "text = \"   Hello World\"\n",
    "print(text.lstrip())  # Output: 'Hello World' (without leading spaces)"
   ]
  },
  {
   "cell_type": "code",
   "execution_count": 37,
   "id": "a28c160b-b0f9-4827-98cd-a0bd81921d34",
   "metadata": {},
   "outputs": [
    {
     "name": "stdout",
     "output_type": "stream",
     "text": [
      "Defaulting to user installation because normal site-packages is not writeable\n",
      "Requirement already satisfied: nltk in c:\\users\\harshini supriya\\appdata\\roaming\\python\\python310\\site-packages (3.9.1)\n",
      "Requirement already satisfied: click in c:\\program files\\python310\\lib\\site-packages (from nltk) (8.1.7)\n",
      "Requirement already satisfied: joblib in c:\\users\\harshini supriya\\appdata\\roaming\\python\\python310\\site-packages (from nltk) (1.5.1)\n",
      "Requirement already satisfied: regex>=2021.8.3 in c:\\users\\harshini supriya\\appdata\\roaming\\python\\python310\\site-packages (from nltk) (2024.11.6)\n",
      "Requirement already satisfied: tqdm in c:\\users\\harshini supriya\\appdata\\roaming\\python\\python310\\site-packages (from nltk) (4.67.1)\n",
      "Requirement already satisfied: colorama in c:\\users\\harshini supriya\\appdata\\roaming\\python\\python310\\site-packages (from click->nltk) (0.4.6)\n"
     ]
    },
    {
     "name": "stderr",
     "output_type": "stream",
     "text": [
      "\n",
      "[notice] A new release of pip is available: 24.3.1 -> 25.1.1\n",
      "[notice] To update, run: python.exe -m pip install --upgrade pip\n"
     ]
    }
   ],
   "source": [
    "!pip install nltk"
   ]
  },
  {
   "cell_type": "code",
   "execution_count": 38,
   "id": "0e7cdaed-c550-4164-b694-1bf004d5088f",
   "metadata": {},
   "outputs": [
    {
     "name": "stderr",
     "output_type": "stream",
     "text": [
      "[nltk_data] Downloading package punkt to C:\\Users\\Harshini\n",
      "[nltk_data]     Supriya\\AppData\\Roaming\\nltk_data...\n",
      "[nltk_data]   Package punkt is already up-to-date!\n"
     ]
    },
    {
     "data": {
      "text/plain": [
       "True"
      ]
     },
     "execution_count": 38,
     "metadata": {},
     "output_type": "execute_result"
    }
   ],
   "source": [
    "import nltk\n",
    "from urllib import request\n",
    "from nltk.tokenize import word_tokenize\n",
    "\n",
    "# Download the tokenizer data (do this only once)\n",
    "nltk.download('punkt')"
   ]
  },
  {
   "cell_type": "code",
   "execution_count": 39,
   "id": "89359c5f-3230-4d5c-b21f-629f164005aa",
   "metadata": {},
   "outputs": [],
   "source": [
    "url = \"https://www.gutenberg.org/files/98/98-0.txt\""
   ]
  },
  {
   "cell_type": "code",
   "execution_count": 40,
   "id": "19059af5-2c74-4d21-ae73-505e9c0411d3",
   "metadata": {},
   "outputs": [],
   "source": [
    "response = request.urlopen(url)\n",
    "raw_text = response.read().decode('utf-8')"
   ]
  },
  {
   "cell_type": "code",
   "execution_count": 41,
   "id": "ba992af0-35c6-4371-902f-a7efd41c2d5b",
   "metadata": {},
   "outputs": [
    {
     "name": "stdout",
     "output_type": "stream",
     "text": [
      "['\\ufeffThe', 'Project', 'Gutenberg', 'eBook', 'of', 'A', 'Tale', 'of', 'Two', 'Cities', ',', 'by', 'Charles', 'Dickens', 'This', 'eBook', 'is', 'for', 'the', 'use', 'of', 'anyone', 'anywhere', 'in', 'the', 'United', 'States', 'and', 'most', 'other', 'parts', 'of', 'the', 'world', 'at', 'no', 'cost', 'and', 'with', 'almost', 'no', 'restrictions', 'whatsoever', '.', 'You', 'may', 'copy', 'it', ',', 'give', 'it', 'away', 'or', 're-use', 'it', 'under', 'the', 'terms', 'of', 'the', 'Project', 'Gutenberg', 'License', 'included', 'with', 'this', 'eBook', 'or', 'online', 'at', 'www.gutenberg.org', '.', 'If', 'you', 'are', 'not', 'located', 'in', 'the', 'United', 'States', ',', 'you', 'will', 'have', 'to', 'check', 'the', 'laws', 'of', 'the', 'country', 'where', 'you', 'are', 'located', 'before', 'using', 'this', 'eBook']\n"
     ]
    }
   ],
   "source": [
    "tokens = word_tokenize(raw_text)\n",
    "print(tokens[:100])  # Display first 100 tokens"
   ]
  },
  {
   "cell_type": "code",
   "execution_count": 42,
   "id": "58511438-825f-4e8a-b09e-62b461ba890b",
   "metadata": {},
   "outputs": [
    {
     "name": "stdout",
     "output_type": "stream",
     "text": [
      "Defaulting to user installation because normal site-packages is not writeable\n",
      "Requirement already satisfied: nltk in c:\\users\\harshini supriya\\appdata\\roaming\\python\\python310\\site-packages (3.9.1)\n",
      "Requirement already satisfied: html2text in c:\\users\\harshini supriya\\appdata\\roaming\\python\\python310\\site-packages (2025.4.15)\n",
      "Requirement already satisfied: click in c:\\program files\\python310\\lib\\site-packages (from nltk) (8.1.7)\n",
      "Requirement already satisfied: joblib in c:\\users\\harshini supriya\\appdata\\roaming\\python\\python310\\site-packages (from nltk) (1.5.1)\n",
      "Requirement already satisfied: regex>=2021.8.3 in c:\\users\\harshini supriya\\appdata\\roaming\\python\\python310\\site-packages (from nltk) (2024.11.6)\n",
      "Requirement already satisfied: tqdm in c:\\users\\harshini supriya\\appdata\\roaming\\python\\python310\\site-packages (from nltk) (4.67.1)\n",
      "Requirement already satisfied: colorama in c:\\users\\harshini supriya\\appdata\\roaming\\python\\python310\\site-packages (from click->nltk) (0.4.6)\n"
     ]
    },
    {
     "name": "stderr",
     "output_type": "stream",
     "text": [
      "\n",
      "[notice] A new release of pip is available: 24.3.1 -> 25.1.1\n",
      "[notice] To update, run: python.exe -m pip install --upgrade pip\n"
     ]
    }
   ],
   "source": [
    "!pip install nltk html2text"
   ]
  },
  {
   "cell_type": "code",
   "execution_count": 43,
   "id": "04b53c88-8a64-4d84-8489-72481a6cea91",
   "metadata": {},
   "outputs": [
    {
     "name": "stderr",
     "output_type": "stream",
     "text": [
      "[nltk_data] Downloading package punkt to C:\\Users\\Harshini\n",
      "[nltk_data]     Supriya\\AppData\\Roaming\\nltk_data...\n",
      "[nltk_data]   Package punkt is already up-to-date!\n"
     ]
    },
    {
     "data": {
      "text/plain": [
       "True"
      ]
     },
     "execution_count": 43,
     "metadata": {},
     "output_type": "execute_result"
    }
   ],
   "source": [
    "import nltk\n",
    "import html2text\n",
    "from urllib import request\n",
    "from nltk.tokenize import word_tokenize\n",
    "nltk.download('punkt')"
   ]
  },
  {
   "cell_type": "code",
   "execution_count": 44,
   "id": "57a20a66-948b-4c7d-8f21-99ed53fa4a24",
   "metadata": {},
   "outputs": [],
   "source": [
    "url = \"https://www.gutenberg.org/cache/epub/1497/pg1497-images.html\"\n",
    "response = request.urlopen(url)\n",
    "html_content = response.read().decode('utf-8')  # convert to UTF-8"
   ]
  },
  {
   "cell_type": "code",
   "execution_count": 45,
   "id": "1f708c4b-f797-4d69-a4cd-ffa56bf99a14",
   "metadata": {},
   "outputs": [],
   "source": [
    "text = html2text.html2text(html_content)"
   ]
  },
  {
   "cell_type": "code",
   "execution_count": 46,
   "id": "8a831778-be04-4ee0-95bf-6bb3984a5aaa",
   "metadata": {},
   "outputs": [],
   "source": [
    "tokens = word_tokenize(text)"
   ]
  },
  {
   "cell_type": "code",
   "execution_count": 47,
   "id": "64cc4edb-44ab-46d9-82fb-46e1328a00cf",
   "metadata": {},
   "outputs": [
    {
     "name": "stdout",
     "output_type": "stream",
     "text": [
      "['!', '#', '$', '%', '(', ')', '*', '+', ',', '-', '--', '-end', '.', '...', '//www.gutenberg.org', '//www.gutenberg.org/donate/', '1', '1.A', '1.B', '1.C', '1.D', '1.E', '1.E.1', '1.E.2', '1.E.3', '1.E.4', '1.E.5', '1.E.6', '1.E.7', '1.E.8', '1.E.9', '1.F', '1.F.1', '1.F.2', '1.F.3', '1.F.4', '1.F.5', '1.F.6', '1/1', '1/2', '1/3', '10', '10,000', '100', '1000', '1000.', '11', '12', '13', '1497', '150', '1500', '1514', '1568-1639', '16', '1688', '17,500', '18', '193', '1998', '1\\\\', '1st', '2', '2/1', '2/2', '20', '200,000', '2001', '2021', '21', '215', '216', '25', '27', '2700', '2\\\\', '2nd', '3', '3/2', '30', '300,000', '33', '34', '35', '365', '398-381', '3:4', '3\\\\', '3rd', '4', '4/3', '400', '400/9', '411', '435', '436', '456', '47', '48', '49']\n",
      "\n",
      "Total unique words (vocabulary size): 12353\n"
     ]
    }
   ],
   "source": [
    "vocabulary = sorted(set(tokens))  # removes duplicates and sorts\n",
    "print(vocabulary[:100])  # print first 100 unique words\n",
    "print(f\"\\nTotal unique words (vocabulary size): {len(vocabulary)}\")"
   ]
  },
  {
   "cell_type": "code",
   "execution_count": 48,
   "id": "fe4f509f-c998-4a71-ba30-d3c27f86eaeb",
   "metadata": {},
   "outputs": [
    {
     "name": "stderr",
     "output_type": "stream",
     "text": [
      "[nltk_data] Downloading package stopwords to C:\\Users\\Harshini\n",
      "[nltk_data]     Supriya\\AppData\\Roaming\\nltk_data...\n",
      "[nltk_data]   Package stopwords is already up-to-date!\n"
     ]
    },
    {
     "name": "stdout",
     "output_type": "stream",
     "text": [
      "['abandoned', 'abate', 'abated', 'abates', 'abdera', 'abhor', 'abhorrence', 'abide', 'abiding', 'ability', 'abject', 'able', 'abler', 'abnegation', 'abnormal', 'abode', 'abolished', 'abolishes', 'abolition', 'abominable', 'abominate', 'abominates', 'aborigines', 'abound', 'abounds', 'abroad', 'absence', 'absolute', 'absolutely', 'absolution', 'absorb', 'absorbed', 'absorbs', 'abstain', 'abstained', 'abstainer', 'abstains', 'abstinence', 'abstract', 'abstracted', 'abstraction', 'abstractions', 'abstracts', 'absurd', 'absurdities', 'absurdity', 'absurdum', 'abundance', 'abundantly', 'abuse', 'abusing', 'academic', 'accent', 'accept', 'acceptance', 'accepted', 'accepting', 'access', 'accessed', 'accessible', 'accessory', 'accident', 'accidental', 'accidents', 'accommodate', 'accommodated', 'accommodation', 'accommodations', 'accompanied', 'accompanies', 'accompaniment', 'accompaniments', 'accompany', 'accompanying', 'accomplish', 'accomplished', 'accomplishing', 'accomplishments', 'accord', 'accordance', 'according', 'accordingly', 'accords', 'account', 'accounted', 'accruing', 'accumulate', 'accumulating', 'accumulation', 'accumulations', 'accuracy', 'accurate', 'accursed', 'accusation', 'accusations', 'accuse', 'accused', 'accuser', 'accustomed', 'accustoming']\n",
      "\n",
      "Clean vocabulary size: 10175\n"
     ]
    }
   ],
   "source": [
    "import string\n",
    "from nltk.corpus import stopwords\n",
    "nltk.download('stopwords')\n",
    "\n",
    "words = [word.lower() for word in tokens if word.isalpha()]  # remove punctuation/numbers\n",
    "words = [word for word in words if word not in stopwords.words('english')]\n",
    "\n",
    "vocab_clean = sorted(set(words))\n",
    "print(vocab_clean[:100])\n",
    "print(f\"\\nClean vocabulary size: {len(vocab_clean)}\")"
   ]
  },
  {
   "cell_type": "code",
   "execution_count": null,
   "id": "5932e74f-7ddd-4e2e-9c46-50febdbe7d26",
   "metadata": {},
   "outputs": [],
   "source": []
  }
 ],
 "metadata": {
  "kernelspec": {
   "display_name": "Python 3 (ipykernel)",
   "language": "python",
   "name": "python3"
  },
  "language_info": {
   "codemirror_mode": {
    "name": "ipython",
    "version": 3
   },
   "file_extension": ".py",
   "mimetype": "text/x-python",
   "name": "python",
   "nbconvert_exporter": "python",
   "pygments_lexer": "ipython3",
   "version": "3.10.7"
  }
 },
 "nbformat": 4,
 "nbformat_minor": 5
}
