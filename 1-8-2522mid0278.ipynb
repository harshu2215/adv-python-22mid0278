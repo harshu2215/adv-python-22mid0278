{
 "cells": [
  {
   "cell_type": "code",
   "execution_count": 1,
   "id": "cf7fa396-fd3e-4046-b298-28d8c60970f1",
   "metadata": {},
   "outputs": [
    {
     "name": "stdout",
     "output_type": "stream",
     "text": [
      "1\n",
      "3\n",
      "5\n",
      "7\n"
     ]
    }
   ],
   "source": [
    "odds = [1, 3, 5, 7]\n",
    "\n",
    "# Assign each number in the list to a separate variable\n",
    "a, b, c, d = odds\n",
    "print(a)  # Shows: 1\n",
    "print(b)  # Shows: 3\n",
    "print(c)  # Shows: 5\n",
    "print(d)  # Shows: 7\n"
   ]
  },
  {
   "cell_type": "code",
   "execution_count": 2,
   "id": "95536a6e-03cb-4af9-8ee4-ffe55e7432f3",
   "metadata": {},
   "outputs": [
    {
     "name": "stdout",
     "output_type": "stream",
     "text": [
      "1\n",
      "3\n",
      "[5, 7]\n"
     ]
    }
   ],
   "source": [
    "odds = [1, 3, 5, 7]\n",
    "\n",
    "# Store the first two numbers in 'a' and 'b'\n",
    "# The rest of the numbers go into a new list called 'c'\n",
    "a, b, *c = odds\n",
    "print(a)  # 1\n",
    "print(b)  # 3\n",
    "print(c)  # [5, 7] – leftovers from the list\n"
   ]
  },
  {
   "cell_type": "code",
   "execution_count": 3,
   "id": "bc89b8c5-14dc-40fd-8304-2c9292c3f37c",
   "metadata": {},
   "outputs": [
    {
     "name": "stdout",
     "output_type": "stream",
     "text": [
      "3\n",
      "[5, 7]\n",
      "9\n"
     ]
    }
   ],
   "source": [
    "# First value → 'a', last value → 'c'\n",
    "# Everything between them → goes into 'b'\n",
    "a, *b, c = [3, 5, 7, 9]\n",
    "print(a)  # 3\n",
    "print(b)  # [5, 7]\n",
    "print(c)  # 9\n"
   ]
  },
  {
   "cell_type": "code",
   "execution_count": 4,
   "id": "24f705db-faa2-4547-98e4-ca73f99bed25",
   "metadata": {},
   "outputs": [
    {
     "name": "stdout",
     "output_type": "stream",
     "text": [
      "9\n"
     ]
    }
   ],
   "source": [
    "# Function to add 3 numbers together\n",
    "def a(x, y, z):\n",
    "    return (x + y + z)\n",
    "\n",
    "odds = [1, 3, 5]\n",
    "\n",
    "# Send the list values as separate inputs to the function\n",
    "print(a(*odds))  # 9\n"
   ]
  },
  {
   "cell_type": "code",
   "execution_count": 5,
   "id": "0aca2ad1-01cf-4724-9ef6-3eab9f006be9",
   "metadata": {},
   "outputs": [
    {
     "name": "stdout",
     "output_type": "stream",
     "text": [
      "hello,harshini\n",
      "hello,riya\n",
      "hello,lavanya\n"
     ]
    }
   ],
   "source": [
    "# This function accepts many names and greets each one\n",
    "def say_hi(*names):\n",
    "    for n in names:\n",
    "        print(f\"hello,{n}\")\n",
    "\n",
    "say_hi(\"harshini\", \"riya\", \"lavanya\")\n",
    "# Output:\n",
    "# hello,harshini\n",
    "# hello,riya\n",
    "# hello,lavanya\n"
   ]
  },
  {
   "cell_type": "code",
   "execution_count": 6,
   "id": "37382686-f23b-479c-a97f-b57f01d040f3",
   "metadata": {},
   "outputs": [
    {
     "name": "stdout",
     "output_type": "stream",
     "text": [
      "harshini\n",
      "30\n"
     ]
    }
   ],
   "source": [
    "# Dictionary with two pieces of information\n",
    "person = {\"name\": \"harshini\", \"age\": 30}\n",
    "\n",
    "# Pull out the values in order\n",
    "name, age = person.values()\n",
    "\n",
    "print(name)  # harshini\n",
    "print(age)   # 30\n"
   ]
  },
  {
   "cell_type": "code",
   "execution_count": 7,
   "id": "623a3536-8f13-4e12-b1d7-5c96f63697cd",
   "metadata": {},
   "outputs": [
    {
     "name": "stdout",
     "output_type": "stream",
     "text": [
      "{'name': 'harshini', 'age': 30}\n"
     ]
    }
   ],
   "source": [
    "# Create an empty dictionary and add values one by one\n",
    "dic = {}\n",
    "dic[\"name\"] = \"harshini\"\n",
    "dic[\"age\"] = 30\n",
    "\n",
    "print(dic)  \n",
    "# Output: {'name': 'harshini', 'age': 30}\n"
   ]
  },
  {
   "cell_type": "code",
   "execution_count": null,
   "id": "cb50c252-be84-4f0f-a173-c873c3714369",
   "metadata": {},
   "outputs": [],
   "source": []
  }
 ],
 "metadata": {
  "kernelspec": {
   "display_name": "Python 3 (ipykernel)",
   "language": "python",
   "name": "python3"
  },
  "language_info": {
   "codemirror_mode": {
    "name": "ipython",
    "version": 3
   },
   "file_extension": ".py",
   "mimetype": "text/x-python",
   "name": "python",
   "nbconvert_exporter": "python",
   "pygments_lexer": "ipython3",
   "version": "3.12.1"
  }
 },
 "nbformat": 4,
 "nbformat_minor": 5
}
