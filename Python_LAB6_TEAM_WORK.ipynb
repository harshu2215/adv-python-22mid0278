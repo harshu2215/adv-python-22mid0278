{
 "cells": [
  {
   "cell_type": "markdown",
   "id": "ad840ae6-70a3-44bc-bdb8-b7f6bae3d5e4",
   "metadata": {},
   "source": [
    "## Educational System"
   ]
  },
  {
   "cell_type": "code",
   "execution_count": 17,
   "id": "f346c7be-a937-47a0-a161-aae477005266",
   "metadata": {},
   "outputs": [],
   "source": [
    "# Educational System: In-Memory Dictionary-based \"Database\"\n",
    "\n",
    "# Initial Student Database with nested dict and lists\n",
    "student_db = {\n",
    "    \"S101\": {\n",
    "        \"name\": \"Sonali\",\n",
    "        \"age\": 21,\n",
    "        \"school\": \"SCOPE\",\n",
    "        \"department\": \"Computer Science\",\n",
    "        \"scores\": {\"math\": 99, \"science\": 99},\n",
    "        \"hobbies\": [\"reading\", \"coding\", \"sports\"],\n",
    "        \"senses\": {\"vision\": \"normal\", \"hearing\": \"good\"},\n",
    "        \"address\": {\n",
    "            \"city\": \"Vellore\",\n",
    "            \"state\": \"Tamil Nadu\",\n",
    "            \"zip\": \"632002\"\n",
    "        },\n",
    "        \"recent_updates\": []\n",
    "    },\n",
    "\n",
    "    \"S102\": {\n",
    "        \"name\": \"Bob\",\n",
    "        \"age\": 21,\n",
    "        \"school\": \"SENSE\",\n",
    "        \"department\": \"Electronics\",\n",
    "        \"scores\": {\"math\": 78, \"science\": 88},\n",
    "        \"hobbies\": [\"music\", \"chess\"],\n",
    "        \"senses\": {\"vision\": \"corrected\", \"hearing\": \"normal\"},\n",
    "        \"address\": {\n",
    "            \"city\": \"Vellore\",\n",
    "            \"state\": \"Tamil Nadu\",\n",
    "            \"zip\": \"632014\"\n",
    "        },\n",
    "        \"recent_updates\": []\n",
    "    },\n",
    "\n",
    "    \"S103\": {\n",
    "        \"name\": \"Charlie\",\n",
    "        \"age\": 19,\n",
    "        \"school\": \"SMBS\",\n",
    "        \"department\": \"Biotechnology\",\n",
    "        \"scores\": {\"biology\": 92, \"chemistry\": 89},\n",
    "        \"hobbies\": [\"gardening\", \"photography\"],\n",
    "        \"senses\": {\"vision\": \"normal\", \"hearing\": \"excellent\"},\n",
    "        \"address\": {\n",
    "            \"city\": \"Coimbatore\",\n",
    "            \"state\": \"Tamil Nadu\",\n",
    "            \"zip\": \"641001\"\n",
    "        },\n",
    "        \"recent_updates\": []\n",
    "    },\n",
    "\n",
    "    \"S104\": {\n",
    "        \"name\": \"Diana\",\n",
    "        \"age\": 22,\n",
    "        \"school\": \"SELECT\",\n",
    "        \"department\": \"Electrical\",\n",
    "        \"scores\": {\"math\": 82, \"physics\": 86},\n",
    "        \"hobbies\": [\"robotics\", \"gaming\"],\n",
    "        \"senses\": {\"vision\": \"spectacles\", \"hearing\": \"good\"},\n",
    "        \"address\": {\n",
    "            \"city\": \"Madurai\",\n",
    "            \"state\": \"Tamil Nadu\",\n",
    "            \"zip\": \"625001\"\n",
    "        },\n",
    "        \"recent_updates\": []\n",
    "    }\n",
    "}\n"
   ]
  },
  {
   "cell_type": "code",
   "execution_count": 19,
   "id": "2830bf79-c5f4-4e02-be9c-afe143309525",
   "metadata": {},
   "outputs": [
    {
     "name": "stdout",
     "output_type": "stream",
     "text": [
      "\n",
      "📥 Enter details for new Student ID S105. Type 'stop' as key to finish.\n",
      "\n"
     ]
    },
    {
     "name": "stdin",
     "output_type": "stream",
     "text": [
      "Enter key (or 'stop' to finish):  name\n",
      "Is 'name' a (1) normal value, (2) list, or (3) dict? Enter 1/2/3:  1\n",
      "Enter value for 'name':  Tom\n"
     ]
    },
    {
     "name": "stdout",
     "output_type": "stream",
     "text": [
      "✔️ Added 'name': Tom\n"
     ]
    },
    {
     "name": "stdin",
     "output_type": "stream",
     "text": [
      "Enter key (or 'stop' to finish):  age\n",
      "Is 'age' a (1) normal value, (2) list, or (3) dict? Enter 1/2/3:  1\n",
      "Enter value for 'age':  20\n"
     ]
    },
    {
     "name": "stdout",
     "output_type": "stream",
     "text": [
      "✔️ Added 'age': 20\n"
     ]
    },
    {
     "name": "stdin",
     "output_type": "stream",
     "text": [
      "Enter key (or 'stop' to finish):  school\n",
      "Is 'school' a (1) normal value, (2) list, or (3) dict? Enter 1/2/3:  1\n",
      "Enter value for 'school':  SCORE\n"
     ]
    },
    {
     "name": "stdout",
     "output_type": "stream",
     "text": [
      "✔️ Added 'school': SCORE\n"
     ]
    },
    {
     "name": "stdin",
     "output_type": "stream",
     "text": [
      "Enter key (or 'stop' to finish):  department\n",
      "Is 'department' a (1) normal value, (2) list, or (3) dict? Enter 1/2/3:  1\n",
      "Enter value for 'department':  Computer Science\n"
     ]
    },
    {
     "name": "stdout",
     "output_type": "stream",
     "text": [
      "✔️ Added 'department': Computer Science\n"
     ]
    },
    {
     "name": "stdin",
     "output_type": "stream",
     "text": [
      "Enter key (or 'stop' to finish):  scores\n",
      "Is 'scores' a (1) normal value, (2) list, or (3) dict? Enter 1/2/3:  3\n"
     ]
    },
    {
     "name": "stdout",
     "output_type": "stream",
     "text": [
      "➡️ Enter key-value pairs for 'scores'. Type 'stop' as dict-key to finish.\n"
     ]
    },
    {
     "name": "stdin",
     "output_type": "stream",
     "text": [
      "  Dict Key:  math\n",
      "  Value for 'math':  90\n",
      "  Dict Key:  science\n",
      "  Value for 'science':  92\n",
      "  Dict Key:  stop\n"
     ]
    },
    {
     "name": "stdout",
     "output_type": "stream",
     "text": [
      "✔️ Added nested dict 'scores': {'math': 90, 'science': 92}\n"
     ]
    },
    {
     "name": "stdin",
     "output_type": "stream",
     "text": [
      "Enter key (or 'stop' to finish):  hobbies\n",
      "Is 'hobbies' a (1) normal value, (2) list, or (3) dict? Enter 1/2/3:  2\n"
     ]
    },
    {
     "name": "stdout",
     "output_type": "stream",
     "text": [
      "➡️ Enter list items for 'hobbies'. Type 'done' to finish:\n"
     ]
    },
    {
     "name": "stdin",
     "output_type": "stream",
     "text": [
      "Item:  sports\n",
      "Item:  drawing\n",
      "Item:  reading\n",
      "Item:  done\n"
     ]
    },
    {
     "name": "stdout",
     "output_type": "stream",
     "text": [
      "✔️ Added list 'hobbies': ['sports', 'drawing', 'reading']\n"
     ]
    },
    {
     "name": "stdin",
     "output_type": "stream",
     "text": [
      "Enter key (or 'stop' to finish):  senses\n",
      "Is 'senses' a (1) normal value, (2) list, or (3) dict? Enter 1/2/3:  3\n"
     ]
    },
    {
     "name": "stdout",
     "output_type": "stream",
     "text": [
      "➡️ Enter key-value pairs for 'senses'. Type 'stop' as dict-key to finish.\n"
     ]
    },
    {
     "name": "stdin",
     "output_type": "stream",
     "text": [
      "  Dict Key:  vision\n",
      "  Value for 'vision':  normal\n",
      "  Dict Key:  hearing\n",
      "  Value for 'hearing':  good\n",
      "  Dict Key:  stop\n"
     ]
    },
    {
     "name": "stdout",
     "output_type": "stream",
     "text": [
      "✔️ Added nested dict 'senses': {'vision': 'normal', 'hearing': 'good'}\n"
     ]
    },
    {
     "name": "stdin",
     "output_type": "stream",
     "text": [
      "Enter key (or 'stop' to finish):  address\n",
      "Is 'address' a (1) normal value, (2) list, or (3) dict? Enter 1/2/3:  3\n"
     ]
    },
    {
     "name": "stdout",
     "output_type": "stream",
     "text": [
      "➡️ Enter key-value pairs for 'address'. Type 'stop' as dict-key to finish.\n"
     ]
    },
    {
     "name": "stdin",
     "output_type": "stream",
     "text": [
      "  Dict Key:  city\n",
      "  Value for 'city':  chennai\n",
      "  Dict Key:  state\n",
      "  Value for 'state':  Tamil Nadu\n",
      "  Dict Key:  zip\n",
      "  Value for 'zip':  600121\n",
      "  Dict Key:  stop\n"
     ]
    },
    {
     "name": "stdout",
     "output_type": "stream",
     "text": [
      "✔️ Added nested dict 'address': {'city': 'chennai', 'state': 'Tamil Nadu', 'zip': 600121}\n"
     ]
    },
    {
     "name": "stdin",
     "output_type": "stream",
     "text": [
      "Enter key (or 'stop' to finish):  recent_updates\n"
     ]
    },
    {
     "name": "stdout",
     "output_type": "stream",
     "text": [
      "⚠️ 'recent_updates' is reserved. Please choose another key.\n"
     ]
    },
    {
     "name": "stdin",
     "output_type": "stream",
     "text": [
      "Enter key (or 'stop' to finish):  stop\n"
     ]
    },
    {
     "name": "stdout",
     "output_type": "stream",
     "text": [
      "\n",
      "✅ Student ID 'S105' successfully added.\n",
      "\n"
     ]
    }
   ],
   "source": [
    "# Function to add a new student with interactive input (warns if ID already exists) and it intelligently add a new student with nested dict/list handling\n",
    "def add_new_student(student_id):\n",
    "    if student_id in student_db:\n",
    "        print(f\"❌ Student ID '{student_id}' already exists! Cannot add duplicate.\")\n",
    "        return\n",
    "\n",
    "    student_db[student_id] = {}\n",
    "    student_db[student_id][\"recent_updates\"] = []\n",
    "\n",
    "    print(f\"\\n📥 Enter details for new Student ID {student_id}. Type 'stop' as key to finish.\\n\")\n",
    "\n",
    "    while True:\n",
    "        key = input(\"Enter key (or 'stop' to finish): \").strip()\n",
    "        if key.lower() == \"stop\":\n",
    "            break\n",
    "\n",
    "        # Skip reserved key\n",
    "        if key == \"recent_updates\":\n",
    "            print(\"⚠️ 'recent_updates' is reserved. Please choose another key.\")\n",
    "            continue\n",
    "\n",
    "        # Ask what kind of data this key holds\n",
    "        data_type = input(f\"Is '{key}' a (1) normal value, (2) list, or (3) dict? Enter 1/2/3: \").strip()\n",
    "\n",
    "        # NORMAL VALUE\n",
    "        if data_type == \"1\":\n",
    "            value = input(f\"Enter value for '{key}': \").strip()\n",
    "            value = convert_value(value)\n",
    "            student_db[student_id][key] = value\n",
    "            student_db[student_id][\"recent_updates\"].append((key, value))\n",
    "            print(f\"✔️ Added '{key}': {value}\")\n",
    "\n",
    "        # LIST VALUE\n",
    "        elif data_type == \"2\":\n",
    "            print(f\"➡️ Enter list items for '{key}'. Type 'done' to finish:\")\n",
    "            lst = []\n",
    "            while True:\n",
    "                item = input(\"Item: \").strip()\n",
    "                if item.lower() == \"done\":\n",
    "                    break\n",
    "                lst.append(convert_value(item))\n",
    "            student_db[student_id][key] = lst\n",
    "            student_db[student_id][\"recent_updates\"].append((key, lst))\n",
    "            print(f\"✔️ Added list '{key}': {lst}\")\n",
    "\n",
    "        # DICTIONARY VALUE\n",
    "        elif data_type == \"3\":\n",
    "            print(f\"➡️ Enter key-value pairs for '{key}'. Type 'stop' as dict-key to finish.\")\n",
    "            sub_dict = {}\n",
    "            while True:\n",
    "                sub_key = input(\"  Dict Key: \").strip()\n",
    "                if sub_key.lower() == \"stop\":\n",
    "                    break\n",
    "                sub_val = input(f\"  Value for '{sub_key}': \").strip()\n",
    "                sub_dict[sub_key] = convert_value(sub_val)\n",
    "            student_db[student_id][key] = sub_dict\n",
    "            student_db[student_id][\"recent_updates\"].append((key, sub_dict))\n",
    "            print(f\"✔️ Added nested dict '{key}': {sub_dict}\")\n",
    "\n",
    "        else:\n",
    "            print(\"❌ Invalid choice. Skipping this entry.\")\n",
    "\n",
    "    print(f\"\\n✅ Student ID '{student_id}' successfully added.\\n\")\n",
    "\n",
    "# Helper function\n",
    "def convert_value(value):\n",
    "    \"\"\"Converts input string to int, float, bool, or leaves as string\"\"\"\n",
    "    if value.lower() == \"true\":\n",
    "        return True\n",
    "    elif value.lower() == \"false\":\n",
    "        return False\n",
    "    elif value.isdigit():\n",
    "        return int(value)\n",
    "    else:\n",
    "        try:\n",
    "            return float(value)\n",
    "        except ValueError:\n",
    "            return value\n",
    "\n",
    "# Try adding a new student\n",
    "add_new_student(\"S105\")"
   ]
  },
  {
   "cell_type": "code",
   "execution_count": 23,
   "id": "528e4445-f738-448d-97c2-5ed34ed07c82",
   "metadata": {},
   "outputs": [
    {
     "name": "stdout",
     "output_type": "stream",
     "text": [
      "\n",
      "📋 --- All Student Records ---\n",
      "\n",
      "🆔 Student ID: S101\n",
      "  Name: Sonali\n",
      "  Age: 21\n",
      "  School: SCOPE\n",
      "  Department: Computer Science\n",
      "  Scores: {'math': 99, 'science': 99}\n",
      "  Hobbies: ['reading', 'coding', 'sports']\n",
      "  Senses: {'vision': 'normal', 'hearing': 'good'}\n",
      "  Address: {'city': 'Vellore', 'state': 'Tamil Nadu', 'zip': '632002'}\n",
      "  Recent_updates: []\n",
      "----------------------------------------\n",
      "🆔 Student ID: S102\n",
      "  Name: Bob\n",
      "  Age: 21\n",
      "  School: SENSE\n",
      "  Department: Electronics\n",
      "  Scores: {'math': 78, 'science': 88}\n",
      "  Hobbies: ['music', 'chess']\n",
      "  Senses: {'vision': 'corrected', 'hearing': 'normal'}\n",
      "  Address: {'city': 'Vellore', 'state': 'Tamil Nadu', 'zip': '632014'}\n",
      "  Recent_updates: []\n",
      "----------------------------------------\n",
      "🆔 Student ID: S103\n",
      "  Name: Charlie\n",
      "  Age: 19\n",
      "  School: SMBS\n",
      "  Department: Biotechnology\n",
      "  Scores: {'biology': 92, 'chemistry': 89}\n",
      "  Hobbies: ['gardening', 'photography']\n",
      "  Senses: {'vision': 'normal', 'hearing': 'excellent'}\n",
      "  Address: {'city': 'Coimbatore', 'state': 'Tamil Nadu', 'zip': '641001'}\n",
      "  Recent_updates: []\n",
      "----------------------------------------\n",
      "🆔 Student ID: S104\n",
      "  Name: Diana\n",
      "  Age: 22\n",
      "  School: SELECT\n",
      "  Department: Electrical\n",
      "  Scores: {'math': 82, 'physics': 86}\n",
      "  Hobbies: ['robotics', 'gaming']\n",
      "  Senses: {'vision': 'spectacles', 'hearing': 'good'}\n",
      "  Address: {'city': 'Madurai', 'state': 'Tamil Nadu', 'zip': '625001'}\n",
      "  Recent_updates: []\n",
      "----------------------------------------\n",
      "🆔 Student ID: S105\n",
      "  Recent_updates: [('name', 'Tom'), ('age', 20), ('school', 'SCORE'), ('department', 'Computer Science'), ('scores', {'math': 90, 'science': 92}), ('hobbies', ['sports', 'drawing', 'reading']), ('senses', {'vision': 'normal', 'hearing': 'good'}), ('address', {'city': 'chennai', 'state': 'Tamil Nadu', 'zip': 600121})]\n",
      "  Name: Tom\n",
      "  Age: 20\n",
      "  School: SCORE\n",
      "  Department: Computer Science\n",
      "  Scores: {'math': 90, 'science': 92}\n",
      "  Hobbies: ['sports', 'drawing', 'reading']\n",
      "  Senses: {'vision': 'normal', 'hearing': 'good'}\n",
      "  Address: {'city': 'chennai', 'state': 'Tamil Nadu', 'zip': 600121}\n",
      "----------------------------------------\n"
     ]
    }
   ],
   "source": [
    "# Loop through the database and print all details of every student\n",
    "def display_all_students():\n",
    "    print(\"\\n📋 --- All Student Records ---\\n\")\n",
    "    for student_id, details in student_db.items():\n",
    "        print(f\"🆔 Student ID: {student_id}\")\n",
    "        for key, value in details.items():\n",
    "            print(f\"  {key.capitalize()}: {value}\")\n",
    "        print(\"-\" * 40)\n",
    "\n",
    "# function call\n",
    "display_all_students()"
   ]
  },
  {
   "cell_type": "code",
   "execution_count": 27,
   "id": "5df36d8d-e354-4223-93fc-a98a9aa8db45",
   "metadata": {},
   "outputs": [
    {
     "name": "stdout",
     "output_type": "stream",
     "text": [
      "\n",
      "✅ Student ID 'S101' found.\n"
     ]
    },
    {
     "name": "stdin",
     "output_type": "stream",
     "text": [
      "Do you want to view (1) all details or (2) a specific detail? Enter 1 or 2:  1\n"
     ]
    },
    {
     "name": "stdout",
     "output_type": "stream",
     "text": [
      "\n",
      "📋 All details for Student ID S101:\n",
      "  Name: Sonali\n",
      "  Age: 21\n",
      "  School: SCOPE\n",
      "  Department: Computer Science\n",
      "  Scores: {'math': 99, 'science': 99}\n",
      "  Hobbies: ['reading', 'coding', 'sports']\n",
      "  Senses: {'vision': 'normal', 'hearing': 'good'}\n",
      "  Address: {'city': 'Vellore', 'state': 'Tamil Nadu', 'zip': '632002'}\n",
      "  Recent_updates: []\n"
     ]
    }
   ],
   "source": [
    "# Function to retrieve either all or specific details of a student\n",
    "def get_student_detail(student_id):\n",
    "    student = student_db.get(student_id)\n",
    "\n",
    "    if not student:\n",
    "        print(f\"❌ Student ID '{student_id}' not found!\")\n",
    "        return\n",
    "\n",
    "    print(f\"\\n✅ Student ID '{student_id}' found.\")\n",
    "    choice = input(\"Do you want to view (1) all details or (2) a specific detail? Enter 1 or 2: \").strip()\n",
    "\n",
    "    if choice == \"1\":\n",
    "        print(f\"\\n📋 All details for Student ID {student_id}:\")\n",
    "        for key, value in student.items():\n",
    "            print(f\"  {key.capitalize()}: {value}\")\n",
    "\n",
    "    elif choice == \"2\":\n",
    "        key = input(\"Enter the key whose value you want to retrieve: \").strip()\n",
    "        value = student.get(key, \"Not Available\")\n",
    "        print(f\"\\n🔎 {key.capitalize()}: {value}\")\n",
    "\n",
    "    else:\n",
    "        print(\"❌ Invalid choice. Please enter 1 or 2.\")\n",
    "\n",
    "# function call\n",
    "get_student_detail(\"S101\")"
   ]
  },
  {
   "cell_type": "code",
   "execution_count": 31,
   "id": "0697a235-cd3b-4159-bae5-adde03ba631f",
   "metadata": {},
   "outputs": [
    {
     "name": "stdout",
     "output_type": "stream",
     "text": [
      "\n",
      "✅ Student ID 'S101' found.\n"
     ]
    },
    {
     "name": "stdin",
     "output_type": "stream",
     "text": [
      "Do you want to view (1) all details or (2) a specific detail? Enter 1 or 2:  2\n",
      "Enter the key whose value you want to retrieve:  scores\n"
     ]
    },
    {
     "name": "stdout",
     "output_type": "stream",
     "text": [
      "\n",
      "🔎 Scores: {'math': 99, 'science': 99}\n"
     ]
    }
   ],
   "source": [
    "get_student_detail(\"S101\") # retrival function call"
   ]
  },
  {
   "cell_type": "code",
   "execution_count": 35,
   "id": "b64231b7-a3a1-4436-b339-9b2a7e170b31",
   "metadata": {},
   "outputs": [
    {
     "name": "stdout",
     "output_type": "stream",
     "text": [
      "❌ Student ID 'S110' not found!\n"
     ]
    }
   ],
   "source": [
    "get_student_detail(\"S110\")  # retrival function call"
   ]
  },
  {
   "cell_type": "code",
   "execution_count": 39,
   "id": "c8119b1d-8739-42e4-a54b-ba772800bb55",
   "metadata": {},
   "outputs": [
    {
     "name": "stdout",
     "output_type": "stream",
     "text": [
      "\n",
      "✅ Student ID 'S101' found.\n"
     ]
    },
    {
     "name": "stdin",
     "output_type": "stream",
     "text": [
      "Do you want to view (1) all details or (2) a specific detail? Enter 1 or 2:  2\n",
      "Enter the key whose value you want to retrieve:  Recent_updates\n"
     ]
    },
    {
     "name": "stdout",
     "output_type": "stream",
     "text": [
      "\n",
      "🔎 Recent_updates: Not Available\n"
     ]
    }
   ],
   "source": [
    "get_student_detail(\"S101\")  # retrival function call (default value handling)"
   ]
  },
  {
   "cell_type": "code",
   "execution_count": 41,
   "id": "d2a6910e-81ca-49ee-9649-1983cf7a9040",
   "metadata": {},
   "outputs": [
    {
     "data": {
      "text/plain": [
       "[('scores', {'math': 90, 'science': 92}),\n",
       " ('hobbies', ['sports', 'drawing', 'reading']),\n",
       " ('senses', {'vision': 'normal', 'hearing': 'good'}),\n",
       " ('address', {'city': 'chennai', 'state': 'Tamil Nadu', 'zip': 600121})]"
      ]
     },
     "execution_count": 41,
     "metadata": {},
     "output_type": "execute_result"
    }
   ],
   "source": [
    "# Function to retrieve the last n updates\n",
    "def get_recent_updates(student_id, n=4):\n",
    "    return student_db.get(student_id, {}).get(\"recent_updates\", [])[-n:]\n",
    "\n",
    "# function call\n",
    "get_recent_updates(\"S105\")"
   ]
  },
  {
   "cell_type": "code",
   "execution_count": 43,
   "id": "79e44e8d-f278-4d45-83e9-c45a6916d91f",
   "metadata": {},
   "outputs": [
    {
     "name": "stdout",
     "output_type": "stream",
     "text": [
      "\n",
      "--- Sequence Unpacking Demonstration ---\n",
      "👤 Name: Charlie, Age: 19\n",
      "\n",
      "📑 Key-Value pairs:\n",
      "name → Charlie\n",
      "age → 19\n",
      "school → SMBS\n",
      "department → Biotechnology\n",
      "scores → {'biology': 92, 'chemistry': 89}\n",
      "hobbies → ['gardening', 'photography']\n",
      "senses → {'vision': 'normal', 'hearing': 'excellent'}\n",
      "address → {'city': 'Coimbatore', 'state': 'Tamil Nadu', 'zip': '641001'}\n",
      "recent_updates → []\n",
      "\n",
      "🕓 Recent Updates (last 2):\n",
      "\n",
      "🎯 Hobbies Unpacked → First: gardening, Second: photography, Others: []\n"
     ]
    }
   ],
   "source": [
    "# Unpacking Sequence\n",
    "def demonstrate_sequence_unpacking(student_id):\n",
    "    if student_id not in student_db:\n",
    "        print(\"❌ Student ID not found.\")\n",
    "        return\n",
    "\n",
    "    student = student_db[student_id]\n",
    "\n",
    "    print(\"\\n--- Sequence Unpacking Demonstration ---\")\n",
    "\n",
    "    # 1. Unpack name and age\n",
    "    name, age = student[\"name\"], student[\"age\"]\n",
    "    print(f\"👤 Name: {name}, Age: {age}\")\n",
    "\n",
    "    # 2. Unpack dictionary items\n",
    "    print(\"\\n📑 Key-Value pairs:\")\n",
    "    for k, v in student.items():\n",
    "        print(f\"{k} → {v}\")\n",
    "\n",
    "    # 3. Unpack from recent_updates\n",
    "    print(\"\\n🕓 Recent Updates (last 2):\")\n",
    "    for item in student[\"recent_updates\"][-2:]:\n",
    "        k, v = item  # Unpacking tuple\n",
    "        print(f\"Updated {k} to {v}\")\n",
    "\n",
    "    # 4. Unpack hobbies if at least 2\n",
    "    hobbies = student.get(\"hobbies\", [])\n",
    "    if len(hobbies) >= 2:\n",
    "        h1, h2, *others = hobbies\n",
    "        print(f\"\\n🎯 Hobbies Unpacked → First: {h1}, Second: {h2}, Others: {others}\")\n",
    "\n",
    "demonstrate_sequence_unpacking(\"S103\")"
   ]
  },
  {
   "cell_type": "code",
   "execution_count": null,
   "id": "b2eee5c3-4705-40fd-bd7c-e687d1b67f95",
   "metadata": {},
   "outputs": [],
   "source": []
  }
 ],
 "metadata": {
  "kernelspec": {
   "display_name": "Python 3 (ipykernel)",
   "language": "python",
   "name": "python3"
  },
  "language_info": {
   "codemirror_mode": {
    "name": "ipython",
    "version": 3
   },
   "file_extension": ".py",
   "mimetype": "text/x-python",
   "name": "python",
   "nbconvert_exporter": "python",
   "pygments_lexer": "ipython3",
   "version": "3.12.7"
  }
 },
 "nbformat": 4,
 "nbformat_minor": 5
}
