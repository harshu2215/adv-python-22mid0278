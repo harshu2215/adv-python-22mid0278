{
 "cells": [
  {
   "cell_type": "code",
   "execution_count": 1,
   "id": "7aea56a4-9f45-4cab-a5bb-223b03a947c7",
   "metadata": {},
   "outputs": [
    {
     "name": "stdout",
     "output_type": "stream",
     "text": [
      "[1, 2]\n",
      "[2, 3, 4, 5]\n",
      "[4, 5]\n",
      "[]\n"
     ]
    }
   ],
   "source": [
    "# --- List slicing example ---\n",
    "m = [0, 1, 2, 3, 4, 5]\n",
    "\n",
    "print(m[1:3])    # elements from index 1 to 2\n",
    "print(m[2:])     # elements from index 2 to end\n",
    "print(m[-2:])    # last two elements\n",
    "print(m[2:1])    # empty list because start > end"
   ]
  },
  {
   "cell_type": "code",
   "execution_count": 3,
   "id": "7ee7b475-dc30-4ceb-9d13-4cc98fca7c3c",
   "metadata": {},
   "outputs": [],
   "source": [
    "# --- Shallow and deep copy example ---\n",
    "l1 = m[:]   # deep copy using slicing\n",
    "l2 = m      # shallow copy (just a reference)"
   ]
  },
  {
   "cell_type": "code",
   "execution_count": 4,
   "id": "c7113e91-6806-4703-b3f8-628a52c451e8",
   "metadata": {},
   "outputs": [
    {
     "name": "stdout",
     "output_type": "stream",
     "text": [
      "[0, 1, 2, 3, 4, 5] 2435043323648 2435026475840 2435043323648 [0, 1, 2, 3, 4, 5] [0, 1, 2, 3, 4, 5]\n"
     ]
    }
   ],
   "source": [
    "print(m, id(m), id(l1), id(l2), l1, l2)"
   ]
  },
  {
   "cell_type": "code",
   "execution_count": 5,
   "id": "e03e2425-bd2a-4a92-8dfe-b1a146bcc2b2",
   "metadata": {},
   "outputs": [
    {
     "name": "stdout",
     "output_type": "stream",
     "text": [
      "[0, 1, 2, 3, 4, 5, 4] [0, 1, 2, 3, 4, 5] [0, 1, 2, 3, 4, 5, 4]\n"
     ]
    }
   ],
   "source": [
    "# --- Append example ---\n",
    "m.append(4)\n",
    "print(m, l1, l2)"
   ]
  },
  {
   "cell_type": "code",
   "execution_count": 6,
   "id": "e4049250-bd0a-44d4-8827-8b7776792434",
   "metadata": {},
   "outputs": [
    {
     "name": "stdout",
     "output_type": "stream",
     "text": [
      "0\n",
      "1\n",
      "2\n"
     ]
    }
   ],
   "source": [
    "# --- Looping through a slice ---\n",
    "w = m[:3]   # first three elements\n",
    "for i in w:\n",
    "    print(i)  # prints the first three elements\n"
   ]
  },
  {
   "cell_type": "code",
   "execution_count": 7,
   "id": "a7731910-2c53-4d5e-9428-97689921038f",
   "metadata": {},
   "outputs": [
    {
     "name": "stdout",
     "output_type": "stream",
     "text": [
      "(100,)\n"
     ]
    }
   ],
   "source": [
    "# --- Tuple slicing example ---\n",
    "t = (50, 100, 150)\n",
    "print(t[1:2])   # slicing a tuple, gives (100,)"
   ]
  },
  {
   "cell_type": "code",
   "execution_count": 8,
   "id": "51d775c0-6410-4af0-a601-b905ac4a5761",
   "metadata": {},
   "outputs": [
    {
     "name": "stdout",
     "output_type": "stream",
     "text": [
      "=== 1. Off-by-One Behavior ===\n",
      "Index 0, Value 10\n",
      "Index 1, Value 20\n",
      "Index 2, Value 30\n",
      "Index 3, Value 40\n",
      "Index 4, Value 50\n",
      "\n"
     ]
    }
   ],
   "source": [
    "# 1. Off-by-One Behavior\n",
    "# Off-by-one errors are super common when looping.\n",
    "# Happens when I loop one time extra or one time less than I should.\n",
    "# Remember: Python indexing starts at 0, but len() counts from 1 (length).\n",
    "\n",
    "print(\"=== 1. Off-by-One Behavior ===\")\n",
    "numbers = [10, 20, 30, 40, 50]\n",
    "\n",
    "# Wrong way (extra loop) → This will crash with IndexError\n",
    "# for i in range(len(numbers) + 1):  # goes from 0 to 5, but index 5 doesn't exist\n",
    "#     print(numbers[i])\n",
    "\n",
    "# Correct way → only go till len(numbers)-1\n",
    "for i in range(len(numbers)):  # range(5) → 0 to 4\n",
    "    print(f\"Index {i}, Value {numbers[i]}\")\n",
    "print()"
   ]
  },
  {
   "cell_type": "code",
   "execution_count": 9,
   "id": "5e6a3bc4-5a01-4ea2-8832-cd91b266c7ac",
   "metadata": {},
   "outputs": [
    {
     "name": "stdout",
     "output_type": "stream",
     "text": [
      "=== 2. Slicing a List ===\n",
      "['banana', 'cherry', 'date']\n",
      "['apple', 'banana', 'cherry']\n",
      "['cherry', 'date', 'elderberry', 'fig']\n",
      "['apple', 'cherry', 'elderberry']\n",
      "\n"
     ]
    }
   ],
   "source": [
    "# 2. Slicing a List\n",
    "# Slicing syntax → list[start:end:step]\n",
    "# start = inclusive, end = exclusive\n",
    "# step = how much to jump\n",
    "\n",
    "print(\"=== 2. Slicing a List ===\")\n",
    "fruits = [\"apple\", \"banana\", \"cherry\", \"date\", \"elderberry\", \"fig\"]\n",
    "\n",
    "# Some slicing practice\n",
    "print(fruits[1:4])   # from banana to date\n",
    "print(fruits[:3])    # first 3 items\n",
    "print(fruits[2:])    # from cherry till the end\n",
    "print(fruits[::2])   # every 2nd fruit\n",
    "print()"
   ]
  },
  {
   "cell_type": "code",
   "execution_count": 10,
   "id": "01ee5a91-4dfc-48ff-a5cc-a58fc507f6fb",
   "metadata": {},
   "outputs": [
    {
     "name": "stdout",
     "output_type": "stream",
     "text": [
      "=== 3. Looping Through a List ===\n",
      "apple\n",
      "banana\n",
      "cherry\n",
      "date\n",
      "elderberry\n",
      "fig\n",
      "Index 0 → apple\n",
      "Index 1 → banana\n",
      "Index 2 → cherry\n",
      "Index 3 → date\n",
      "Index 4 → elderberry\n",
      "Index 5 → fig\n",
      "\n"
     ]
    }
   ],
   "source": [
    "# 3. Looping Through a List\n",
    "print(\"=== 3. Looping Through a List ===\")\n",
    "\n",
    "# Easiest way: loop directly through elements\n",
    "for fruit in fruits:\n",
    "    print(fruit)\n",
    "\n",
    "# Index-based loop (if I need positions)\n",
    "for i in range(len(fruits)):\n",
    "    print(f\"Index {i} → {fruits[i]}\")\n",
    "print()"
   ]
  },
  {
   "cell_type": "code",
   "execution_count": 11,
   "id": "db3d2538-9d1e-43ce-8408-51961d4a4c93",
   "metadata": {},
   "outputs": [
    {
     "name": "stdout",
     "output_type": "stream",
     "text": [
      "=== 4. Looping Through a Slice ===\n",
      "banana\n",
      "cherry\n",
      "date\n",
      "elderberry\n",
      "apple\n",
      "cherry\n",
      "elderberry\n",
      "\n"
     ]
    }
   ],
   "source": [
    "# 4. Looping Through a Slice\n",
    "print(\"=== 4. Looping Through a Slice ===\")\n",
    "\n",
    "# Loop only over banana to elderberry\n",
    "for fruit in fruits[1:5]:\n",
    "    print(fruit)\n",
    "\n",
    "# Loop over every alternate fruit\n",
    "for fruit in fruits[::2]:\n",
    "    print(fruit)\n",
    "print()"
   ]
  },
  {
   "cell_type": "code",
   "execution_count": 12,
   "id": "7af1ceab-bb7b-41f6-985b-29a191ac88a5",
   "metadata": {},
   "outputs": [
    {
     "name": "stdout",
     "output_type": "stream",
     "text": [
      "=== 5. Understanding Tuples ===\n",
      "Name: Alice\n",
      "Age: 25\n",
      "Profession: Engineer\n",
      "Unpacked → Name: Alice, Age: 25, Profession: Engineer\n",
      "Nested tuple: (1, (2, 3), [4, 5])\n"
     ]
    }
   ],
   "source": [
    "# 5. Understanding Tuples\n",
    "print(\"=== 5. Understanding Tuples ===\")\n",
    "\n",
    "# Tuples = like lists but can't be changed (immutable)\n",
    "person = (\"Alice\", 25, \"Engineer\")\n",
    "\n",
    "# Access normally\n",
    "print(\"Name:\", person[0])\n",
    "print(\"Age:\", person[1])\n",
    "print(\"Profession:\", person[2])\n",
    "\n",
    "# Tuple unpacking\n",
    "name, age, profession = person\n",
    "print(f\"Unpacked → Name: {name}, Age: {age}, Profession: {profession}\")\n",
    "\n",
    "# Tuples can hold lists, other tuples, etc.\n",
    "nested_tuple = (1, (2, 3), [4, 5])\n",
    "print(\"Nested tuple:\", nested_tuple)"
   ]
  },
  {
   "cell_type": "code",
   "execution_count": 13,
   "id": "3633fd21-def2-4601-9832-89c94824d27e",
   "metadata": {},
   "outputs": [
    {
     "name": "stdout",
     "output_type": "stream",
     "text": [
      "[50, 40, 30, 20, 10]\n"
     ]
    }
   ],
   "source": [
    "# --- Reverse a list using slicing ---\n",
    "nums = [10, 20, 30, 40, 50]\n",
    "print(nums[::-1])  # reverse the list"
   ]
  },
  {
   "cell_type": "code",
   "execution_count": 14,
   "id": "100ef6b3-28a5-43a7-919d-4d29e63dd749",
   "metadata": {},
   "outputs": [
    {
     "name": "stdout",
     "output_type": "stream",
     "text": [
      "[10, 30, 50]\n"
     ]
    }
   ],
   "source": [
    "# --- Slice with step ---\n",
    "print(nums[0:5:2])  # every 2nd element"
   ]
  },
  {
   "cell_type": "code",
   "execution_count": 15,
   "id": "c71998c5-d6db-4ae0-bb0e-fe18b6235829",
   "metadata": {},
   "outputs": [
    {
     "name": "stdout",
     "output_type": "stream",
     "text": [
      "[10, 20, 30, 40, 50]\n"
     ]
    }
   ],
   "source": [
    "# --- Copy list using slicing ---\n",
    "copy_nums = nums[:]\n",
    "print(copy_nums)"
   ]
  },
  {
   "cell_type": "code",
   "execution_count": 16,
   "id": "391b2fc9-c1db-4b19-bd07-dd4d0b593dac",
   "metadata": {},
   "outputs": [
    {
     "name": "stdout",
     "output_type": "stream",
     "text": [
      "Original: [10, 20, 30, 40, 50, 60]\n",
      "Copy: [10, 20, 30, 40, 50]\n"
     ]
    }
   ],
   "source": [
    "# --- Modify original list and see effect ---\n",
    "nums.append(60)\n",
    "print(\"Original:\", nums)\n",
    "print(\"Copy:\", copy_nums)  # remains unchanged because of deep copy"
   ]
  },
  {
   "cell_type": "code",
   "execution_count": 17,
   "id": "5e8681a7-978c-470a-a560-2a550a686de1",
   "metadata": {},
   "outputs": [
    {
     "name": "stdout",
     "output_type": "stream",
     "text": [
      "[[3, 4], [5, 6]]\n",
      "[3, 4]\n"
     ]
    }
   ],
   "source": [
    "# --- Nested slicing ---\n",
    "nested = [[1, 2], [3, 4], [5, 6]]\n",
    "print(nested[1:3])      # slice of sublists\n",
    "print(nested[1][0:2])   # slice inside a nested list"
   ]
  },
  {
   "cell_type": "code",
   "execution_count": 18,
   "id": "a773ca14-9507-4641-9dd5-7097185fbebd",
   "metadata": {},
   "outputs": [
    {
     "name": "stdout",
     "output_type": "stream",
     "text": [
      "RED\n",
      "GREEN\n",
      "BLUE\n"
     ]
    }
   ],
   "source": [
    "# --- Loop through a tuple ---\n",
    "my_tuple = ('red', 'green', 'blue')\n",
    "for color in my_tuple:\n",
    "    print(color.upper())"
   ]
  },
  {
   "cell_type": "code",
   "execution_count": 19,
   "id": "db1ab77a-e32e-4f82-97c7-67adba8c8105",
   "metadata": {},
   "outputs": [
    {
     "name": "stdout",
     "output_type": "stream",
     "text": [
      "red green blue\n"
     ]
    }
   ],
   "source": [
    "# --- Tuple unpacking ---\n",
    "a, b, c = my_tuple\n",
    "print(a, b, c)"
   ]
  },
  {
   "cell_type": "code",
   "execution_count": 20,
   "id": "e67b4e8c-5e5c-4df9-9c1c-e3553c7cac42",
   "metadata": {},
   "outputs": [
    {
     "name": "stdout",
     "output_type": "stream",
     "text": [
      "('red', 'green', 'blue', 'yellow')\n"
     ]
    }
   ],
   "source": [
    "# --- Converting tuple to list and back ---\n",
    "temp_list = list(my_tuple)\n",
    "temp_list.append('yellow')\n",
    "my_tuple = tuple(temp_list)\n",
    "print(my_tuple)"
   ]
  },
  {
   "cell_type": "code",
   "execution_count": 21,
   "id": "7e59e7f1-cbec-4092-bdf1-b97bb2505914",
   "metadata": {},
   "outputs": [
    {
     "name": "stdout",
     "output_type": "stream",
     "text": [
      "['e', 'd', 'c']\n"
     ]
    }
   ],
   "source": [
    "# --- Using negative step in slicing ---\n",
    "letters = ['a', 'b', 'c', 'd', 'e']\n",
    "print(letters[4:1:-1])  # ['e', 'd', 'c']"
   ]
  },
  {
   "cell_type": "code",
   "execution_count": 22,
   "id": "81ffa437-6cea-44b0-b3e9-3d14394899d9",
   "metadata": {},
   "outputs": [
    {
     "name": "stdout",
     "output_type": "stream",
     "text": [
      "['a', 'x', 'y', 'd', 'e']\n"
     ]
    }
   ],
   "source": [
    "# --- Slice assignment (only works on lists) ---\n",
    "letters[1:3] = ['x', 'y']\n",
    "print(letters)"
   ]
  },
  {
   "cell_type": "code",
   "execution_count": 23,
   "id": "f4283e44-2737-4b47-bda1-5dac34308d94",
   "metadata": {},
   "outputs": [
    {
     "name": "stdout",
     "output_type": "stream",
     "text": [
      "[0, 3, 6, 9]\n"
     ]
    }
   ],
   "source": [
    "# --- Using range with slices ---\n",
    "r = list(range(10))\n",
    "print(r[::3])  # every 3rd number from 0 to 9"
   ]
  },
  {
   "cell_type": "code",
   "execution_count": 24,
   "id": "2c8ee782-defd-4e96-b7e4-2387a77e4303",
   "metadata": {},
   "outputs": [
    {
     "name": "stdout",
     "output_type": "stream",
     "text": [
      "[[99, 2], [3, 4]]\n",
      "[[99, 2], [3, 4]]\n"
     ]
    }
   ],
   "source": [
    "# --- Checking shallow copy behavior ---\n",
    "list1 = [[1, 2], [3, 4]]\n",
    "list2 = list1[:]  # shallow copy\n",
    "list1[0][0] = 99  # modifies both lists because inner lists are shared\n",
    "print(list1)\n",
    "print(list2)"
   ]
  }
 ],
 "metadata": {
  "kernelspec": {
   "display_name": "Python 3 (ipykernel)",
   "language": "python",
   "name": "python3"
  },
  "language_info": {
   "codemirror_mode": {
    "name": "ipython",
    "version": 3
   },
   "file_extension": ".py",
   "mimetype": "text/x-python",
   "name": "python",
   "nbconvert_exporter": "python",
   "pygments_lexer": "ipython3",
   "version": "3.10.7"
  }
 },
 "nbformat": 4,
 "nbformat_minor": 5
}
