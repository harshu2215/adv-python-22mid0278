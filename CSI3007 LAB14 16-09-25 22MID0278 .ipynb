{
 "cells": [
  {
   "cell_type": "code",
   "execution_count": 3,
   "id": "a03db2b6-063a-49fb-b041-404e495f7e16",
   "metadata": {},
   "outputs": [
    {
     "name": "stdout",
     "output_type": "stream",
     "text": [
      "Files created: dataset.csv,dataset.xlsx,dataset.json\n"
     ]
    }
   ],
   "source": [
    "#Working with CSV Files\n",
    "\n",
    "\n",
    "\n",
    "\n",
    "import pandas as pd\n",
    "\n",
    "# Creating the dataset you provided\n",
    "data = {\n",
    "    \"ID\": [1,2,3,4,5,6,7,8,9,10,11,12,13,14,15,16,17,18,19,20],\n",
    "    \"AGE\": [21,23,22,34,33,43,22,32,32,22,12,17,36,76,43,34,21,23,32,45],\n",
    "    \"BLOODGROUP\": [\"A\",\"B\",\"O\",\"A\",\"A\",\"A\",\"AB\",\"O\",\"AB\",\"B\",\"B\",\"B\",\"O\",\"O\",\"O\",\"A\",\"AB\",\"O\",\"AB\",\"B\"],\n",
    "    \"GENDER\": [\"F\",\"M\",\"F\",\"M\",\"M\",\"M\",\"F\",\"F\",\"F\",\"M\",\"F\",\"F\",\"M\",\"M\",\"M\",\"M\",\"M\",\"F\",\"F\",\"F\"]\n",
    "}\n",
    "\n",
    "df = pd.DataFrame(data)\n",
    "\n",
    "# Saving the dataset as CSV, Excel, and JSON for practice\n",
    "df.to_csv(\"dataset.csv\", index=False)\n",
    "df.to_excel(\"dataset.xlsx\", index=False)\n",
    "df.to_json(\"dataset.json\", orient=\"records\", indent=4)\n",
    "\n",
    "print(\"Files created: dataset.csv,dataset.xlsx,dataset.json\")\n"
   ]
  },
  {
   "cell_type": "code",
   "execution_count": 4,
   "id": "bf8d895e-d2b2-4b11-a116-8f7d9b4d3c7d",
   "metadata": {},
   "outputs": [
    {
     "name": "stdout",
     "output_type": "stream",
     "text": [
      "   ID  AGE BLOODGROUP GENDER\n",
      "0   1   21          A      F\n",
      "1   2   23          B      M\n",
      "2   3   22          O      F\n",
      "3   4   34          A      M\n",
      "4   5   33          A      M\n",
      "    ID  AGE BLOODGROUP GENDER\n",
      "15  16   34          A      M\n",
      "16  17   21         AB      M\n",
      "17  18   23          O      F\n",
      "18  19   32         AB      F\n",
      "19  20   45          B      F\n",
      "(20, 4)\n",
      "Index(['ID', 'AGE', 'BLOODGROUP', 'GENDER'], dtype='object')\n",
      "<class 'pandas.core.frame.DataFrame'>\n",
      "RangeIndex: 20 entries, 0 to 19\n",
      "Data columns (total 4 columns):\n",
      " #   Column      Non-Null Count  Dtype \n",
      "---  ------      --------------  ----- \n",
      " 0   ID          20 non-null     int64 \n",
      " 1   AGE         20 non-null     int64 \n",
      " 2   BLOODGROUP  20 non-null     object\n",
      " 3   GENDER      20 non-null     object\n",
      "dtypes: int64(2), object(2)\n",
      "memory usage: 772.0+ bytes\n",
      "None\n",
      "             ID        AGE\n",
      "count  20.00000  20.000000\n",
      "mean   10.50000  31.150000\n",
      "std     5.91608  13.929427\n",
      "min     1.00000  12.000000\n",
      "25%     5.75000  22.000000\n",
      "50%    10.50000  32.000000\n",
      "75%    15.25000  34.500000\n",
      "max    20.00000  76.000000\n"
     ]
    }
   ],
   "source": [
    "import pandas as pd\n",
    "\n",
    "# Reading a CSV file into a pandas DataFrame\n",
    "df = pd.read_csv(\"dataset.csv\")\n",
    "\n",
    "# Printing the first 5 rows to check the data\n",
    "print(df.head())\n",
    "\n",
    "# Printing the last 5 rows\n",
    "print(df.tail())\n",
    "\n",
    "# Getting the shape of the dataset (rows, columns)\n",
    "print(df.shape)\n",
    "\n",
    "# Getting column names\n",
    "print(df.columns)\n",
    "\n",
    "# Getting basic information about the dataset\n",
    "print(df.info())\n",
    "\n",
    "# Getting basic statistics (mean, min, max, etc.) of numeric columns\n",
    "print(df.describe())\n"
   ]
  },
  {
   "cell_type": "code",
   "execution_count": 5,
   "id": "d1c26018-27b1-4bcf-971e-532d5982a7c4",
   "metadata": {},
   "outputs": [],
   "source": [
    "# Writing the DataFrame into a new CSV file\n",
    "df.to_csv(\"output.csv\", index=False)\n",
    "\n",
    "# Appending new rows to the existing CSV file\n",
    "df.to_csv(\"output.csv\", mode='a', header=False, index=False)\n"
   ]
  },
  {
   "cell_type": "code",
   "execution_count": 6,
   "id": "57d3aad9-46d4-4c45-919e-a0b76c0bb628",
   "metadata": {},
   "outputs": [
    {
     "name": "stdout",
     "output_type": "stream",
     "text": [
      "   ID  AGE BLOODGROUP GENDER\n",
      "0   1   21          A      F\n",
      "1   2   23          B      M\n",
      "2   3   22          O      F\n",
      "3   4   34          A      M\n",
      "4   5   33          A      M\n",
      "   ID  AGE BLOODGROUP GENDER\n",
      "5   6   43          A      M\n",
      "6   7   22         AB      F\n",
      "7   8   32          O      F\n",
      "8   9   32         AB      F\n",
      "9  10   22          B      M\n",
      "    ID  AGE BLOODGROUP GENDER\n",
      "10  11   12          B      F\n",
      "11  12   17          B      F\n",
      "12  13   36          O      M\n",
      "13  14   76          O      M\n",
      "14  15   43          O      M\n",
      "    ID  AGE BLOODGROUP GENDER\n",
      "15  16   34          A      M\n",
      "16  17   21         AB      M\n",
      "17  18   23          O      F\n",
      "18  19   32         AB      F\n",
      "19  20   45          B      F\n"
     ]
    }
   ],
   "source": [
    "# Reading a CSV file in chunks of 100 rows\n",
    "for chunk in pd.read_csv(\"dataset.csv\", chunksize=5):\n",
    "    print(chunk.head())\n"
   ]
  },
  {
   "cell_type": "code",
   "execution_count": 7,
   "id": "92582304-cbd1-44a1-975e-512c67dcddd1",
   "metadata": {},
   "outputs": [
    {
     "name": "stdout",
     "output_type": "stream",
     "text": [
      "0     21\n",
      "1     23\n",
      "2     22\n",
      "3     34\n",
      "4     33\n",
      "5     43\n",
      "6     22\n",
      "7     32\n",
      "8     32\n",
      "9     22\n",
      "10    12\n",
      "11    17\n",
      "12    36\n",
      "13    76\n",
      "14    43\n",
      "15    34\n",
      "16    21\n",
      "17    23\n",
      "18    32\n",
      "19    45\n",
      "Name: AGE, dtype: int64\n",
      "    AGE BLOODGROUP\n",
      "0    21          A\n",
      "1    23          B\n",
      "2    22          O\n",
      "3    34          A\n",
      "4    33          A\n",
      "5    43          A\n",
      "6    22         AB\n",
      "7    32          O\n",
      "8    32         AB\n",
      "9    22          B\n",
      "10   12          B\n",
      "11   17          B\n",
      "12   36          O\n",
      "13   76          O\n",
      "14   43          O\n",
      "15   34          A\n",
      "16   21         AB\n",
      "17   23          O\n",
      "18   32         AB\n",
      "19   45          B\n"
     ]
    }
   ],
   "source": [
    "# Selecting a specific column\n",
    "print(df[\"AGE\"])\n",
    "\n",
    "# Selecting multiple columns\n",
    "print(df[[\"AGE\", \"BLOODGROUP\"]])\n"
   ]
  },
  {
   "cell_type": "code",
   "execution_count": 8,
   "id": "3a2b31fb-450f-4342-84da-1442d935e6e7",
   "metadata": {},
   "outputs": [
    {
     "name": "stdout",
     "output_type": "stream",
     "text": [
      "    ID  AGE BLOODGROUP GENDER\n",
      "3    4   34          A      M\n",
      "4    5   33          A      M\n",
      "5    6   43          A      M\n",
      "7    8   32          O      F\n",
      "8    9   32         AB      F\n",
      "12  13   36          O      M\n",
      "13  14   76          O      M\n",
      "14  15   43          O      M\n",
      "15  16   34          A      M\n",
      "18  19   32         AB      F\n",
      "19  20   45          B      F\n",
      "    ID  AGE BLOODGROUP GENDER\n",
      "10  11   12          B      F\n",
      "11  12   17          B      F\n",
      "0    1   21          A      F\n",
      "16  17   21         AB      M\n",
      "6    7   22         AB      F\n",
      "9   10   22          B      M\n",
      "2    3   22          O      F\n",
      "1    2   23          B      M\n",
      "17  18   23          O      F\n",
      "18  19   32         AB      F\n",
      "8    9   32         AB      F\n",
      "7    8   32          O      F\n",
      "4    5   33          A      M\n",
      "15  16   34          A      M\n",
      "3    4   34          A      M\n",
      "12  13   36          O      M\n",
      "5    6   43          A      M\n",
      "14  15   43          O      M\n",
      "19  20   45          B      F\n",
      "13  14   76          O      M\n"
     ]
    }
   ],
   "source": [
    "# Filtering rows where Age is greater than 25\n",
    "print(df[df[\"AGE\"] > 25])\n",
    "\n",
    "# Sorting rows by Age\n",
    "print(df.sort_values(\"AGE\"))\n"
   ]
  },
  {
   "cell_type": "code",
   "execution_count": 9,
   "id": "6d60e0fd-39ae-4a8d-9625-309edbcc36d6",
   "metadata": {},
   "outputs": [
    {
     "name": "stdout",
     "output_type": "stream",
     "text": [
      "   AGE BLOODGROUP GENDER\n",
      "0   21          A      F\n",
      "1   23          B      M\n",
      "2   22          O      F\n",
      "3   34          A      M\n",
      "4   33          A      M\n"
     ]
    }
   ],
   "source": [
    "# Dropping a column from the DataFrame\n",
    "df_dropped = df.drop(\"ID\", axis=1)\n",
    "print(df_dropped.head())\n"
   ]
  },
  {
   "cell_type": "code",
   "execution_count": 10,
   "id": "8e41becb-abe4-4419-bf23-9f165895a291",
   "metadata": {},
   "outputs": [
    {
     "name": "stdout",
     "output_type": "stream",
     "text": [
      "ID            0\n",
      "AGE           0\n",
      "BLOODGROUP    0\n",
      "GENDER        0\n",
      "dtype: int64\n",
      "   ID  AGE BLOODGROUP GENDER\n",
      "0   1   21          A      F\n",
      "1   2   23          B      M\n",
      "2   3   22          O      F\n",
      "3   4   34          A      M\n",
      "4   5   33          A      M\n"
     ]
    }
   ],
   "source": [
    "# Checking for missing values in the dataset\n",
    "print(df.isnull().sum())\n",
    "\n",
    "# Filling missing values with a default value\n",
    "df_filled = df.fillna(0)\n",
    "print(df_filled.head())\n"
   ]
  },
  {
   "cell_type": "code",
   "execution_count": 11,
   "id": "16dabbaa-f39b-45d7-bba3-890f856cf2bd",
   "metadata": {},
   "outputs": [
    {
     "name": "stdout",
     "output_type": "stream",
     "text": [
      "GENDER\n",
      "F    25.8\n",
      "M    36.5\n",
      "Name: AGE, dtype: float64\n"
     ]
    }
   ],
   "source": [
    "# Grouping data by a column and calculating the mean\n",
    "print(df.groupby(\"GENDER\")[\"AGE\"].mean())\n"
   ]
  },
  {
   "cell_type": "code",
   "execution_count": 17,
   "id": "254d3563-1991-4384-8e56-ac4ac88225a9",
   "metadata": {},
   "outputs": [
    {
     "name": "stdout",
     "output_type": "stream",
     "text": [
      "[{'ID': 1, 'AGE': 21, 'BLOODGROUP': 'A', 'GENDER': 'F'}, {'ID': 2, 'AGE': 23, 'BLOODGROUP': 'B', 'GENDER': 'M'}, {'ID': 3, 'AGE': 22, 'BLOODGROUP': 'O', 'GENDER': 'F'}, {'ID': 4, 'AGE': 34, 'BLOODGROUP': 'A', 'GENDER': 'M'}, {'ID': 5, 'AGE': 33, 'BLOODGROUP': 'A', 'GENDER': 'M'}, {'ID': 6, 'AGE': 43, 'BLOODGROUP': 'A', 'GENDER': 'M'}, {'ID': 7, 'AGE': 22, 'BLOODGROUP': 'AB', 'GENDER': 'F'}, {'ID': 8, 'AGE': 32, 'BLOODGROUP': 'O', 'GENDER': 'F'}, {'ID': 9, 'AGE': 32, 'BLOODGROUP': 'AB', 'GENDER': 'F'}, {'ID': 10, 'AGE': 22, 'BLOODGROUP': 'B', 'GENDER': 'M'}, {'ID': 11, 'AGE': 12, 'BLOODGROUP': 'B', 'GENDER': 'F'}, {'ID': 12, 'AGE': 17, 'BLOODGROUP': 'B', 'GENDER': 'F'}, {'ID': 13, 'AGE': 36, 'BLOODGROUP': 'O', 'GENDER': 'M'}, {'ID': 14, 'AGE': 76, 'BLOODGROUP': 'O', 'GENDER': 'M'}, {'ID': 15, 'AGE': 43, 'BLOODGROUP': 'O', 'GENDER': 'M'}, {'ID': 16, 'AGE': 34, 'BLOODGROUP': 'A', 'GENDER': 'M'}, {'ID': 17, 'AGE': 21, 'BLOODGROUP': 'AB', 'GENDER': 'M'}, {'ID': 18, 'AGE': 23, 'BLOODGROUP': 'O', 'GENDER': 'F'}, {'ID': 19, 'AGE': 32, 'BLOODGROUP': 'AB', 'GENDER': 'F'}, {'ID': 20, 'AGE': 45, 'BLOODGROUP': 'B', 'GENDER': 'F'}]\n"
     ]
    }
   ],
   "source": [
    "#Working with JSON Files\n",
    "import json\n",
    "\n",
    "\n",
    "\n",
    "# Reading JSON data from the file\n",
    "with open(\"dataset.json\", \"r\") as f:\n",
    "    loaded_data = json.load(f)\n",
    "\n",
    "# Printing the loaded data\n",
    "print(loaded_data)\n"
   ]
  },
  {
   "cell_type": "code",
   "execution_count": 18,
   "id": "fe6fa019-fefe-4ce1-85d6-c352ff5cca87",
   "metadata": {},
   "outputs": [
    {
     "name": "stdout",
     "output_type": "stream",
     "text": [
      "{\n",
      "    \"AGE\": [\n",
      "        21,\n",
      "        23,\n",
      "        22,\n",
      "        34,\n",
      "        33,\n",
      "        43,\n",
      "        22,\n",
      "        32,\n",
      "        32,\n",
      "        22,\n",
      "        12,\n",
      "        17,\n",
      "        36,\n",
      "        76,\n",
      "        43,\n",
      "        34,\n",
      "        21,\n",
      "        23,\n",
      "        32,\n",
      "        45\n",
      "    ],\n",
      "    \"BLOODGROUP\": [\n",
      "        \"A\",\n",
      "        \"B\",\n",
      "        \"O\",\n",
      "        \"A\",\n",
      "        \"A\",\n",
      "        \"A\",\n",
      "        \"AB\",\n",
      "        \"O\",\n",
      "        \"AB\",\n",
      "        \"B\",\n",
      "        \"B\",\n",
      "        \"B\",\n",
      "        \"O\",\n",
      "        \"O\",\n",
      "        \"O\",\n",
      "        \"A\",\n",
      "        \"AB\",\n",
      "        \"O\",\n",
      "        \"AB\",\n",
      "        \"B\"\n",
      "    ],\n",
      "    \"GENDER\": [\n",
      "        \"F\",\n",
      "        \"M\",\n",
      "        \"F\",\n",
      "        \"M\",\n",
      "        \"M\",\n",
      "        \"M\",\n",
      "        \"F\",\n",
      "        \"F\",\n",
      "        \"F\",\n",
      "        \"M\",\n",
      "        \"F\",\n",
      "        \"F\",\n",
      "        \"M\",\n",
      "        \"M\",\n",
      "        \"M\",\n",
      "        \"M\",\n",
      "        \"M\",\n",
      "        \"F\",\n",
      "        \"F\",\n",
      "        \"F\"\n",
      "    ],\n",
      "    \"ID\": [\n",
      "        1,\n",
      "        2,\n",
      "        3,\n",
      "        4,\n",
      "        5,\n",
      "        6,\n",
      "        7,\n",
      "        8,\n",
      "        9,\n",
      "        10,\n",
      "        11,\n",
      "        12,\n",
      "        13,\n",
      "        14,\n",
      "        15,\n",
      "        16,\n",
      "        17,\n",
      "        18,\n",
      "        19,\n",
      "        20\n",
      "    ]\n",
      "}\n"
     ]
    }
   ],
   "source": [
    "# Converting a Python dictionary into a JSON string (pretty printed)\n",
    "json_str = json.dumps(data, indent=4, sort_keys=True)\n",
    "print(json_str)\n"
   ]
  },
  {
   "cell_type": "code",
   "execution_count": 19,
   "id": "ed018a9d-4cdd-442f-9e63-d4b3b359f9b0",
   "metadata": {},
   "outputs": [
    {
     "name": "stdout",
     "output_type": "stream",
     "text": [
      "{'AGE': [21, 23, 22, 34, 33, 43, 22, 32, 32, 22, 12, 17, 36, 76, 43, 34, 21, 23, 32, 45], 'BLOODGROUP': ['A', 'B', 'O', 'A', 'A', 'A', 'AB', 'O', 'AB', 'B', 'B', 'B', 'O', 'O', 'O', 'A', 'AB', 'O', 'AB', 'B'], 'GENDER': ['F', 'M', 'F', 'M', 'M', 'M', 'F', 'F', 'F', 'M', 'F', 'F', 'M', 'M', 'M', 'M', 'M', 'F', 'F', 'F'], 'ID': [1, 2, 3, 4, 5, 6, 7, 8, 9, 10, 11, 12, 13, 14, 15, 16, 17, 18, 19, 20]}\n"
     ]
    }
   ],
   "source": [
    "# Converting a JSON string back into a Python dictionary\n",
    "dict_data = json.loads(json_str)\n",
    "print(dict_data)\n"
   ]
  },
  {
   "cell_type": "code",
   "execution_count": 22,
   "id": "d17b34dc-e607-4f75-b033-7b838a32a813",
   "metadata": {},
   "outputs": [
    {
     "name": "stdout",
     "output_type": "stream",
     "text": [
      "   ID  AGE BLOODGROUP GENDER\n",
      "0   1   21          A      F\n",
      "1   2   23          B      M\n",
      "2   3   22          O      F\n",
      "3   4   34          A      M\n",
      "4   5   33          A      M\n",
      "(20, 4)\n",
      "Index(['ID', 'AGE', 'BLOODGROUP', 'GENDER'], dtype='object')\n"
     ]
    }
   ],
   "source": [
    "#Working with Excel Files\n",
    "\n",
    "\n",
    "# Reading data from an Excel file\n",
    "excel_df = pd.read_excel(\"dataset.xlsx\")\n",
    "\n",
    "# Printing the first 5 rows\n",
    "print(excel_df.head())\n",
    "\n",
    "# Getting dataset shape and columns\n",
    "print(excel_df.shape)\n",
    "print(excel_df.columns)\n"
   ]
  },
  {
   "cell_type": "code",
   "execution_count": 23,
   "id": "46994b05-167d-423d-bb6e-0ea09a82936e",
   "metadata": {},
   "outputs": [],
   "source": [
    "# Writing a DataFrame into a new Excel file\n",
    "excel_df.to_excel(\"output.xlsx\", index=False)\n"
   ]
  },
  {
   "cell_type": "code",
   "execution_count": 24,
   "id": "f438b7e0-31ca-411a-ab73-37cd6756dda5",
   "metadata": {},
   "outputs": [
    {
     "name": "stdout",
     "output_type": "stream",
     "text": [
      "    ID  AGE\n",
      "0    1   21\n",
      "1    2   23\n",
      "2    3   22\n",
      "3    4   34\n",
      "4    5   33\n",
      "5    6   43\n",
      "6    7   22\n",
      "7    8   32\n",
      "8    9   32\n",
      "9   10   22\n",
      "10  11   12\n",
      "11  12   17\n",
      "12  13   36\n",
      "13  14   76\n",
      "14  15   43\n",
      "15  16   34\n",
      "16  17   21\n",
      "17  18   23\n",
      "18  19   32\n",
      "19  20   45\n",
      "    ID  AGE BLOODGROUP GENDER\n",
      "3    4   34          A      M\n",
      "4    5   33          A      M\n",
      "5    6   43          A      M\n",
      "7    8   32          O      F\n",
      "8    9   32         AB      F\n",
      "12  13   36          O      M\n",
      "13  14   76          O      M\n",
      "14  15   43          O      M\n",
      "15  16   34          A      M\n",
      "18  19   32         AB      F\n",
      "19  20   45          B      F\n"
     ]
    }
   ],
   "source": [
    "# Selecting specific columns\n",
    "print(excel_df[[\"ID\", \"AGE\"]])\n",
    "\n",
    "# Filtering rows where Age is greater than 25\n",
    "print(excel_df[excel_df[\"AGE\"] > 25])\n"
   ]
  },
  {
   "cell_type": "code",
   "execution_count": 25,
   "id": "2ccf0725-8427-4fad-8f5c-54e3fd57fdd1",
   "metadata": {},
   "outputs": [
    {
     "name": "stdout",
     "output_type": "stream",
     "text": [
      "['Sheet1']\n"
     ]
    }
   ],
   "source": [
    "# Getting all sheet names from an Excel file\n",
    "xls = pd.ExcelFile(\"dataset.xlsx\")\n",
    "print(xls.sheet_names)\n"
   ]
  },
  {
   "cell_type": "code",
   "execution_count": 26,
   "id": "d1acba36-db0a-4280-bbf3-173289e4a448",
   "metadata": {},
   "outputs": [
    {
     "name": "stdout",
     "output_type": "stream",
     "text": [
      "   ID  AGE BLOODGROUP GENDER\n",
      "0   1   21          A      F\n",
      "1   2   23          B      M\n",
      "2   3   22          O      F\n",
      "3   4   34          A      M\n",
      "4   5   33          A      M\n"
     ]
    }
   ],
   "source": [
    "# Reading data from a specific sheet in the Excel file\n",
    "sheet_df = pd.read_excel(\"dataset.xlsx\", sheet_name=\"Sheet1\")\n",
    "print(sheet_df.head())\n"
   ]
  },
  {
   "cell_type": "code",
   "execution_count": 27,
   "id": "52628295-2207-4390-b020-479f535b35ca",
   "metadata": {},
   "outputs": [
    {
     "name": "stdout",
     "output_type": "stream",
     "text": [
      "ID            0\n",
      "AGE           0\n",
      "BLOODGROUP    0\n",
      "GENDER        0\n",
      "dtype: int64\n",
      "   ID  AGE BLOODGROUP GENDER\n",
      "0   1   21          A      F\n",
      "1   2   23          B      M\n",
      "2   3   22          O      F\n",
      "3   4   34          A      M\n",
      "4   5   33          A      M\n"
     ]
    }
   ],
   "source": [
    "# Handling missing values in Excel data\n",
    "print(excel_df.isnull().sum())\n",
    "excel_filled = excel_df.fillna(\"Unknown\")\n",
    "print(excel_filled.head())\n"
   ]
  },
  {
   "cell_type": "code",
   "execution_count": 28,
   "id": "7ad37320-ec3f-4771-ae4f-b20b6530b10e",
   "metadata": {},
   "outputs": [
    {
     "name": "stdout",
     "output_type": "stream",
     "text": [
      "         AGE\n",
      "GENDER      \n",
      "F       25.8\n",
      "M       36.5\n"
     ]
    }
   ],
   "source": [
    "# Creating a pivot table from Excel data (average Age by Gender)\n",
    "pivot = excel_df.pivot_table(values=\"AGE\", index=\"GENDER\", aggfunc=\"mean\")\n",
    "print(pivot)\n"
   ]
  }
 ],
 "metadata": {
  "kernelspec": {
   "display_name": "Python 3 (ipykernel)",
   "language": "python",
   "name": "python3"
  },
  "language_info": {
   "codemirror_mode": {
    "name": "ipython",
    "version": 3
   },
   "file_extension": ".py",
   "mimetype": "text/x-python",
   "name": "python",
   "nbconvert_exporter": "python",
   "pygments_lexer": "ipython3",
   "version": "3.12.1"
  }
 },
 "nbformat": 4,
 "nbformat_minor": 5
}
