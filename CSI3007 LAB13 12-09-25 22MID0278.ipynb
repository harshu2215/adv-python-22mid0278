{
 "cells": [
  {
   "cell_type": "code",
   "execution_count": 1,
   "id": "9e0c3ee2-1fc8-418d-a55a-fc83a4c1422e",
   "metadata": {},
   "outputs": [],
   "source": [
    "#numpy function practise"
   ]
  },
  {
   "cell_type": "code",
   "execution_count": 2,
   "id": "a0ca271a-27d4-472a-9619-af858b9f34e2",
   "metadata": {},
   "outputs": [],
   "source": [
    "import numpy as np"
   ]
  },
  {
   "cell_type": "code",
   "execution_count": 3,
   "id": "237a75ba-e3ed-4893-ad0a-00ef35d03ddb",
   "metadata": {},
   "outputs": [
    {
     "name": "stdout",
     "output_type": "stream",
     "text": [
      "np.array -> [10 20 30 40 50]\n"
     ]
    }
   ],
   "source": [
    "# 1. Creating a NumPy array using np.array()\n",
    "arr = np.array([10, 20, 30, 40, 50])\n",
    "print(\"np.array ->\", arr)"
   ]
  },
  {
   "cell_type": "code",
   "execution_count": 4,
   "id": "91bd9687-2392-479f-82fb-598ef5aa32e5",
   "metadata": {},
   "outputs": [
    {
     "name": "stdout",
     "output_type": "stream",
     "text": [
      "\n",
      "np.eye ->\n",
      " [[1. 0. 0.]\n",
      " [0. 1. 0.]\n",
      " [0. 0. 1.]]\n"
     ]
    }
   ],
   "source": [
    "# 2. Identity matrix with np.eye()\n",
    "eye_mat = np.eye(3)  # generates a 3x3 identity matrix\n",
    "print(\"\\nnp.eye ->\\n\", eye_mat)"
   ]
  },
  {
   "cell_type": "code",
   "execution_count": 5,
   "id": "a30bb58e-3eb1-48d9-be50-a4e234d78062",
   "metadata": {},
   "outputs": [
    {
     "name": "stdout",
     "output_type": "stream",
     "text": [
      "\n",
      "np.linspace -> [1.  1.5 2.  2.5 3.  3.5 4.  4.5 5. ]\n"
     ]
    }
   ],
   "source": [
    "# 3. Evenly spaced values with np.linspace()\n",
    "lin_vals = np.linspace(1, 5, 9)  # 9 values between 1 and 5\n",
    "print(\"\\nnp.linspace ->\", lin_vals)"
   ]
  },
  {
   "cell_type": "code",
   "execution_count": 6,
   "id": "a95c460a-8823-4d0e-989f-812a4d87b3d2",
   "metadata": {},
   "outputs": [
    {
     "name": "stdout",
     "output_type": "stream",
     "text": [
      "\n",
      "np.arange -> [ 2  5  8 11 14]\n"
     ]
    }
   ],
   "source": [
    "# 4. Sequential numbers with np.arange()\n",
    "arange_vals = np.arange(2, 15, 3)  # numbers from 2 to 15 with step size 3\n",
    "print(\"\\nnp.arange ->\", arange_vals)"
   ]
  },
  {
   "cell_type": "code",
   "execution_count": 7,
   "id": "e01d6a5c-4a39-4852-89a8-795292eee3df",
   "metadata": {},
   "outputs": [
    {
     "name": "stdout",
     "output_type": "stream",
     "text": [
      "\n",
      "np.zeros ->\n",
      " [[0. 0. 0. 0. 0. 0.]\n",
      " [0. 0. 0. 0. 0. 0.]]\n"
     ]
    }
   ],
   "source": [
    "# 5. Array of zeros using np.zeros()\n",
    "zero_matrix = np.zeros((2, 6))  # 2 rows, 6 columns filled with 0\n",
    "print(\"\\nnp.zeros ->\\n\", zero_matrix)"
   ]
  },
  {
   "cell_type": "code",
   "execution_count": 8,
   "id": "129b9b49-4625-40d4-bc41-884586bacf24",
   "metadata": {},
   "outputs": [
    {
     "name": "stdout",
     "output_type": "stream",
     "text": [
      "\n",
      "np.ones ->\n",
      " [[1. 1.]\n",
      " [1. 1.]\n",
      " [1. 1.]\n",
      " [1. 1.]]\n"
     ]
    }
   ],
   "source": [
    "# 6. Array of ones using np.ones()\n",
    "ones_matrix = np.ones((4, 2))  # 4 rows, 2 columns filled with 1\n",
    "print(\"\\nnp.ones ->\\n\", ones_matrix)\n"
   ]
  },
  {
   "cell_type": "code",
   "execution_count": 9,
   "id": "5166ae6f-8fa0-4bed-bf24-308aa9b7e3cc",
   "metadata": {},
   "outputs": [
    {
     "name": "stdout",
     "output_type": "stream",
     "text": [
      "\n",
      "np.full ->\n",
      " [[9 9 9 9 9]\n",
      " [9 9 9 9 9]\n",
      " [9 9 9 9 9]]\n"
     ]
    }
   ],
   "source": [
    "# 7. Constant value array using np.full()\n",
    "const_array = np.full((3, 5), 9)  # 3x5 array with all elements = 9\n",
    "print(\"\\nnp.full ->\\n\", const_array)"
   ]
  },
  {
   "cell_type": "code",
   "execution_count": 10,
   "id": "a6164d9e-7c6c-4a71-a20d-e314f2a52fe5",
   "metadata": {},
   "outputs": [
    {
     "name": "stdout",
     "output_type": "stream",
     "text": [
      "\n",
      "np.random.rand ->\n",
      " [[0.1061553  0.90251429]\n",
      " [0.48455247 0.90008912]\n",
      " [0.26650897 0.70926879]]\n"
     ]
    }
   ],
   "source": [
    "# 8. Random floats between 0 and 1 using np.random.rand()\n",
    "random_floats = np.random.rand(3, 2)\n",
    "print(\"\\nnp.random.rand ->\\n\", random_floats)"
   ]
  },
  {
   "cell_type": "code",
   "execution_count": 11,
   "id": "836ea893-20ce-4f22-b210-09870dddf910",
   "metadata": {},
   "outputs": [
    {
     "name": "stdout",
     "output_type": "stream",
     "text": [
      "\n",
      "np.random.randint ->\n",
      " [[18 43 26  9]\n",
      " [45 25 48 12]]\n"
     ]
    }
   ],
   "source": [
    "# 9. Random integers with np.random.randint()\n",
    "random_ints = np.random.randint(5, 50, size=(2, 4))\n",
    "print(\"\\nnp.random.randint ->\\n\", random_ints)\n"
   ]
  },
  {
   "cell_type": "code",
   "execution_count": 12,
   "id": "0b376a08-f652-447c-b0fb-71aca6353821",
   "metadata": {},
   "outputs": [
    {
     "name": "stdout",
     "output_type": "stream",
     "text": [
      "\n",
      "np.indices ->\n",
      " [[[0 0 0]\n",
      "  [1 1 1]]\n",
      "\n",
      " [[0 1 2]\n",
      "  [0 1 2]]]\n"
     ]
    }
   ],
   "source": [
    "# 10. Creating index grids with np.indices()\n",
    "grid_idx = np.indices((2, 3))\n",
    "print(\"\\nnp.indices ->\\n\", grid_idx)"
   ]
  },
  {
   "cell_type": "code",
   "execution_count": 13,
   "id": "3bf5564b-fe2a-4e49-8915-d7d4b5679325",
   "metadata": {},
   "outputs": [
    {
     "name": "stdout",
     "output_type": "stream",
     "text": [
      "\n",
      "Array Properties:\n",
      "Dimensions (ndim): 1\n",
      "Number of elements (size): 5\n",
      "Shape (rows, cols): (5,)\n"
     ]
    }
   ],
   "source": [
    "# 11. Array properties\n",
    "print(\"\\nArray Properties:\")\n",
    "print(\"Dimensions (ndim):\", arr.ndim)\n",
    "print(\"Number of elements (size):\", arr.size)\n",
    "print(\"Shape (rows, cols):\", arr.shape)"
   ]
  },
  {
   "cell_type": "code",
   "execution_count": 14,
   "id": "df8a0c85-fd1a-4bfa-af46-b16ae267e774",
   "metadata": {},
   "outputs": [
    {
     "name": "stdout",
     "output_type": "stream",
     "text": [
      "\n",
      "np.reshape ->\n",
      " [[ 0  1  2  3]\n",
      " [ 4  5  6  7]\n",
      " [ 8  9 10 11]\n",
      " [12 13 14 15]]\n"
     ]
    }
   ],
   "source": [
    "# 12. Reshaping with np.reshape()\n",
    "reshaped_arr = np.arange(16).reshape(4, 4)\n",
    "print(\"\\nnp.reshape ->\\n\", reshaped_arr)"
   ]
  },
  {
   "cell_type": "code",
   "execution_count": 15,
   "id": "7b93d4f9-b808-49fd-bb95-626cb3d7c4e2",
   "metadata": {},
   "outputs": [
    {
     "name": "stdout",
     "output_type": "stream",
     "text": [
      "\n",
      "Transpose ->\n",
      " [[ 0  4  8 12]\n",
      " [ 1  5  9 13]\n",
      " [ 2  6 10 14]\n",
      " [ 3  7 11 15]]\n"
     ]
    }
   ],
   "source": [
    "# 13. Transpose of matrix using .T\n",
    "transposed_arr = reshaped_arr.T\n",
    "print(\"\\nTranspose ->\\n\", transposed_arr)"
   ]
  },
  {
   "cell_type": "code",
   "execution_count": 16,
   "id": "877ffe1f-98da-4707-a71c-f59d5b7d0152",
   "metadata": {},
   "outputs": [
    {
     "name": "stdout",
     "output_type": "stream",
     "text": [
      "\n",
      "Math operations:\n",
      "Sum: 30\n",
      "Average: 6.0\n",
      "Maximum: 10\n",
      "Minimum: 2\n",
      "Std Deviation: 2.8284271247461903\n"
     ]
    }
   ],
   "source": [
    "# 14. Basic mathematical operations\n",
    "nums = np.array([2, 4, 6, 8, 10])\n",
    "print(\"\\nMath operations:\")\n",
    "print(\"Sum:\", np.sum(nums))\n",
    "print(\"Average:\", np.mean(nums))\n",
    "print(\"Maximum:\", np.max(nums))\n",
    "print(\"Minimum:\", np.min(nums))\n",
    "print(\"Std Deviation:\", np.std(nums))\n"
   ]
  },
  {
   "cell_type": "code",
   "execution_count": 17,
   "id": "a54d1d37-0c9e-4101-863b-d21ef72b70df",
   "metadata": {},
   "outputs": [
    {
     "name": "stdout",
     "output_type": "stream",
     "text": [
      "\n",
      "np.diag ->\n",
      " [[ 4  0  0]\n",
      " [ 0  8  0]\n",
      " [ 0  0 12]]\n"
     ]
    }
   ],
   "source": [
    "# 15. Creating a diagonal matrix with np.diag()\n",
    "diag_matrix = np.diag([4, 8, 12])\n",
    "print(\"\\nnp.diag ->\\n\", diag_matrix)"
   ]
  },
  {
   "cell_type": "code",
   "execution_count": 18,
   "id": "4f7b38c9-1de3-4885-85f0-a1ac94b88958",
   "metadata": {},
   "outputs": [
    {
     "name": "stdout",
     "output_type": "stream",
     "text": [
      "\n",
      "np.ravel -> [ 0  1  2  3  4  5  6  7  8  9 10 11 12 13 14 15]\n"
     ]
    }
   ],
   "source": [
    "# 16. Flattening array using np.ravel()\n",
    "flat_arr = reshaped_arr.ravel()\n",
    "print(\"\\nnp.ravel ->\", flat_arr)"
   ]
  },
  {
   "cell_type": "code",
   "execution_count": 19,
   "id": "9f385438-18b5-4b5a-8869-d6a7db560604",
   "metadata": {},
   "outputs": [
    {
     "name": "stdout",
     "output_type": "stream",
     "text": [
      "\n",
      "np.sort -> [ 1  4  7  9 12]\n"
     ]
    }
   ],
   "source": [
    "# 17. Sorting arrays with np.sort()\n",
    "unsorted = np.array([12, 4, 9, 1, 7])\n",
    "sorted_output = np.sort(unsorted)\n",
    "print(\"\\nnp.sort ->\", sorted_output)"
   ]
  },
  {
   "cell_type": "code",
   "execution_count": 20,
   "id": "2e43707f-b05d-41b2-b180-780a5f0db393",
   "metadata": {},
   "outputs": [
    {
     "name": "stdout",
     "output_type": "stream",
     "text": [
      "\n",
      "np.unique -> [1 2 3 4 5]\n"
     ]
    }
   ],
   "source": [
    "# 18. Unique values with np.unique()\n",
    "dup_array = np.array([1, 2, 2, 3, 4, 3, 1, 5])\n",
    "unique_output = np.unique(dup_array)\n",
    "print(\"\\nnp.unique ->\", unique_output)"
   ]
  },
  {
   "cell_type": "code",
   "execution_count": 21,
   "id": "de2531b2-c280-493a-b4f4-18f2b8375eee",
   "metadata": {},
   "outputs": [
    {
     "name": "stdout",
     "output_type": "stream",
     "text": [
      "\n",
      "np.concatenate -> [1 2 3 4 5 6]\n"
     ]
    }
   ],
   "source": [
    "# 19. Concatenating arrays using np.concatenate()\n",
    "arr1 = np.array([1, 2, 3])\n",
    "arr2 = np.array([4, 5, 6])\n",
    "merged = np.concatenate((arr1, arr2))\n",
    "print(\"\\nnp.concatenate ->\", merged)"
   ]
  },
  {
   "cell_type": "code",
   "execution_count": 22,
   "id": "edb3e48b-da05-441e-a175-adf58e5efc4b",
   "metadata": {},
   "outputs": [
    {
     "name": "stdout",
     "output_type": "stream",
     "text": [
      "\n",
      "np.split -> [array([0, 1]), array([2, 3]), array([4, 5]), array([6, 7]), array([8, 9])]\n"
     ]
    }
   ],
   "source": [
    "# 20. Splitting arrays with np.split()\n",
    "splits = np.split(np.arange(10), 5)\n",
    "print(\"\\nnp.split ->\", splits)"
   ]
  },
  {
   "cell_type": "code",
   "execution_count": 23,
   "id": "8a57150c-2cdf-499a-b950-61457d3811f3",
   "metadata": {},
   "outputs": [
    {
     "name": "stdout",
     "output_type": "stream",
     "text": [
      "\n",
      "np.vstack ->\n",
      " [[1 2 3]\n",
      " [4 5 6]]\n"
     ]
    }
   ],
   "source": [
    "# 21. Vertical stacking with np.vstack()\n",
    "v_stacked = np.vstack((arr1, arr2))\n",
    "print(\"\\nnp.vstack ->\\n\", v_stacked)\n"
   ]
  },
  {
   "cell_type": "code",
   "execution_count": 24,
   "id": "bf2f51f5-e039-4058-bdab-2a66e25843b4",
   "metadata": {},
   "outputs": [
    {
     "name": "stdout",
     "output_type": "stream",
     "text": [
      "\n",
      "np.hstack -> [1 2 3 4 5 6]\n"
     ]
    }
   ],
   "source": [
    "# 22. Horizontal stacking with np.hstack()\n",
    "h_stacked = np.hstack((arr1, arr2))\n",
    "print(\"\\nnp.hstack ->\", h_stacked)"
   ]
  },
  {
   "cell_type": "code",
   "execution_count": 25,
   "id": "6177eec3-cab8-43da-b802-2f39175cd5ca",
   "metadata": {},
   "outputs": [
    {
     "name": "stdout",
     "output_type": "stream",
     "text": [
      "\n",
      "np.where -> (array([2, 3, 4]),)\n"
     ]
    }
   ],
   "source": [
    "# 23. Conditional extraction with np.where()\n",
    "cond_arr = np.array([5, 10, 15, 20, 25])\n",
    "indices = np.where(cond_arr > 12)  # find indices where value > 12\n",
    "print(\"\\nnp.where ->\", indices)"
   ]
  },
  {
   "cell_type": "code",
   "execution_count": 26,
   "id": "8d3af5b6-f0fa-4205-99d2-177644c5b299",
   "metadata": {},
   "outputs": [
    {
     "name": "stdout",
     "output_type": "stream",
     "text": [
      "\n",
      "np.clip -> [ 5 15  7 15  5]\n"
     ]
    }
   ],
   "source": [
    "# 24. Clipping values with np.clip()\n",
    "clip_arr = np.array([3, 15, 7, 22, 1])\n",
    "clipped = np.clip(clip_arr, 5, 15)  # keep values within [5, 15]\n",
    "print(\"\\nnp.clip ->\", clipped)"
   ]
  },
  {
   "cell_type": "code",
   "execution_count": 30,
   "id": "599ef67f-bbcc-4474-9666-c666cab23985",
   "metadata": {},
   "outputs": [
    {
     "name": "stdout",
     "output_type": "stream",
     "text": [
      "\n",
      "np.dot ->\n",
      " [[ 4  4]\n",
      " [10  8]]\n"
     ]
    }
   ],
   "source": [
    "# 25. Dot product with np.dot()\n",
    "dot_a = np.array([[1, 2], [3, 4]])\n",
    "dot_b = np.array([[2, 0], [1, 2]])\n",
    "dot_result = np.dot(dot_a, dot_b)\n",
    "print(\"\\nnp.dot ->\\n\", dot_result)"
   ]
  },
  {
   "cell_type": "code",
   "execution_count": 31,
   "id": "5ee77c38-eae4-4ba3-a058-d9ef7b32830e",
   "metadata": {},
   "outputs": [
    {
     "name": "stdout",
     "output_type": "stream",
     "text": [
      "\n",
      "np.cumsum -> [ 1  3  6 10 15]\n"
     ]
    }
   ],
   "source": [
    "# 26. Cumulative sum with np.cumsum()\n",
    "cum_sum = np.cumsum([1, 2, 3, 4, 5])\n",
    "print(\"\\nnp.cumsum ->\", cum_sum)"
   ]
  },
  {
   "cell_type": "code",
   "execution_count": 32,
   "id": "f6a8fdfa-1265-415f-930e-2594212dd3a2",
   "metadata": {},
   "outputs": [
    {
     "name": "stdout",
     "output_type": "stream",
     "text": [
      "\n",
      "np.cumprod -> [ 1  2  6 24]\n"
     ]
    }
   ],
   "source": [
    "# 27. Cumulative product with np.cumprod()\n",
    "cum_prod = np.cumprod([1, 2, 3, 4])\n",
    "print(\"\\nnp.cumprod ->\", cum_prod)"
   ]
  },
  {
   "cell_type": "code",
   "execution_count": 33,
   "id": "5ddb213a-1e40-4e6e-9ef8-60f325a2a89a",
   "metadata": {},
   "outputs": [
    {
     "name": "stdout",
     "output_type": "stream",
     "text": [
      "\n",
      "np.logspace -> [  10.           31.6227766   100.          316.22776602 1000.        ]\n"
     ]
    }
   ],
   "source": [
    "# 28. Generating evenly spaced numbers in log scale with np.logspace()\n",
    "log_vals = np.logspace(1, 3, 5)  # from 10^1 to 10^3 with 5 values\n",
    "print(\"\\nnp.logspace ->\", log_vals)"
   ]
  },
  {
   "cell_type": "code",
   "execution_count": 34,
   "id": "857a89bd-fc5d-42c9-b71f-7b6896ecb404",
   "metadata": {},
   "outputs": [
    {
     "name": "stdout",
     "output_type": "stream",
     "text": [
      "\n",
      "np.isnan -> [False False  True False]\n"
     ]
    }
   ],
   "source": [
    "# 29. Checking NaN values with np.isnan()\n",
    "nan_arr = np.array([1, 2, np.nan, 4])\n",
    "print(\"\\nnp.isnan ->\", np.isnan(nan_arr))"
   ]
  },
  {
   "cell_type": "code",
   "execution_count": 35,
   "id": "329f76b1-8bff-4d37-9600-bcab119c342d",
   "metadata": {},
   "outputs": [
    {
     "name": "stdout",
     "output_type": "stream",
     "text": [
      "\n",
      "Boolean Masking -> [20 25 30]\n"
     ]
    }
   ],
   "source": [
    "# 30. Boolean masking with conditions\n",
    "mask_arr = np.array([10, 15, 20, 25, 30])\n",
    "masked = mask_arr[mask_arr > 18]  # only values > 18\n",
    "print(\"\\nBoolean Masking ->\", masked)"
   ]
  },
  {
   "cell_type": "code",
   "execution_count": null,
   "id": "f2f6adae-d663-4e1d-a791-57ca88b1f5e8",
   "metadata": {},
   "outputs": [],
   "source": []
  }
 ],
 "metadata": {
  "kernelspec": {
   "display_name": "Python 3 (ipykernel)",
   "language": "python",
   "name": "python3"
  },
  "language_info": {
   "codemirror_mode": {
    "name": "ipython",
    "version": 3
   },
   "file_extension": ".py",
   "mimetype": "text/x-python",
   "name": "python",
   "nbconvert_exporter": "python",
   "pygments_lexer": "ipython3",
   "version": "3.12.1"
  }
 },
 "nbformat": 4,
 "nbformat_minor": 5
}
