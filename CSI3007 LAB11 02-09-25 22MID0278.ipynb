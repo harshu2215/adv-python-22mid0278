{
 "cells": [
  {
   "cell_type": "code",
   "execution_count": 1,
   "id": "61f925aa-f492-4f16-bec7-b6ab5047079b",
   "metadata": {},
   "outputs": [
    {
     "name": "stdout",
     "output_type": "stream",
     "text": [
      "Taking a short nap for 1 second...\n",
      "Woke up!\n",
      "Finished in 1.01 seconds\n"
     ]
    }
   ],
   "source": [
    "# 1. Basic function (runs once, no threading yet)\n",
    "import time\n",
    "\n",
    "start = time.perf_counter()  # record start time\n",
    "\n",
    "def do_something():\n",
    "    # This simulates some work\n",
    "    print(\"Taking a short nap for 1 second...\")\n",
    "    time.sleep(1)  # program pauses for 1 second\n",
    "    print(\"Woke up!\")\n",
    "\n",
    "do_something()  # call the function once\n",
    "\n",
    "end = time.perf_counter()  # record end time\n",
    "print(f\"Finished in {round(end - start, 2)} seconds\")  # should take ~1 sec\n"
   ]
  },
  {
   "cell_type": "code",
   "execution_count": 2,
   "id": "94000670-9fb6-429c-a61f-de92a3fa1cc6",
   "metadata": {},
   "outputs": [
    {
     "name": "stdout",
     "output_type": "stream",
     "text": [
      "Taking a short nap for 1 second...\n",
      "Woke up!\n",
      "Taking a short nap for 1 second...\n",
      "Woke up!\n",
      "Finished in 2.01 seconds\n"
     ]
    }
   ],
   "source": [
    "# 2. Running the function twice (sequential, without threads)\n",
    "import time\n",
    "\n",
    "start = time.perf_counter()\n",
    "\n",
    "def do_something():\n",
    "    print(\"Taking a short nap for 1 second...\")\n",
    "    time.sleep(1)  # each call blocks for 1 second\n",
    "    print(\"Woke up!\")\n",
    "\n",
    "do_something()  # first call → takes 1 second\n",
    "do_something()  # second call → adds another 1 second\n",
    "\n",
    "end = time.perf_counter()\n",
    "print(f\"Finished in {round(end - start, 2)} seconds\")  # ~2 seconds total\n"
   ]
  },
  {
   "cell_type": "code",
   "execution_count": 3,
   "id": "399ed607-0942-4420-8627-1b5c44917877",
   "metadata": {},
   "outputs": [
    {
     "name": "stdout",
     "output_type": "stream",
     "text": [
      "Taking a short nap for 1 second...Taking a short nap for 1 second...\n",
      "\n",
      "Finished in 0.0 seconds\n",
      "Woke up!Woke up!\n",
      "\n"
     ]
    }
   ],
   "source": [
    "# 3. Starting threads but without join()\n",
    "import threading\n",
    "import time\n",
    "\n",
    "start = time.perf_counter()\n",
    "\n",
    "def do_something():\n",
    "    print(\"Taking a short nap for 1 second...\")\n",
    "    time.sleep(1)  # thread pauses\n",
    "    print(\"Woke up!\")\n",
    "\n",
    "# create two threads but don’t wait for them yet\n",
    "t1 = threading.Thread(target=do_something)\n",
    "t2 = threading.Thread(target=do_something)\n",
    "\n",
    "t1.start()  # start thread 1\n",
    "t2.start()  # start thread 2\n",
    "\n",
    "# main thread does not wait → moves ahead immediately\n",
    "end = time.perf_counter()\n",
    "print(f\"Finished in {round(end - start, 2)} seconds\")  # almost 0 seconds\n"
   ]
  },
  {
   "cell_type": "code",
   "execution_count": 4,
   "id": "8ba50886-0cc8-4761-b958-15f80c15179c",
   "metadata": {},
   "outputs": [
    {
     "name": "stdout",
     "output_type": "stream",
     "text": [
      "Taking a short nap for 1 second...Taking a short nap for 1 second...\n",
      "\n",
      "Woke up!Woke up!\n",
      "\n",
      "Finished in 1.0 seconds\n"
     ]
    }
   ],
   "source": [
    "# 4. Using join() to make sure both threads finish before continuing\n",
    "import threading\n",
    "import time\n",
    "\n",
    "start = time.perf_counter()\n",
    "\n",
    "def do_something():\n",
    "    print(\"Taking a short nap for 1 second...\")\n",
    "    time.sleep(1)\n",
    "    print(\"Woke up!\")\n",
    "\n",
    "# create two threads\n",
    "t1 = threading.Thread(target=do_something)\n",
    "t2 = threading.Thread(target=do_something)\n",
    "\n",
    "t1.start()  # start first thread\n",
    "t2.start()  # start second thread\n",
    "\n",
    "t1.join()  # wait until thread 1 completes\n",
    "t2.join()  # wait until thread 2 completes\n",
    "\n",
    "end = time.perf_counter()\n",
    "print(f\"Finished in {round(end - start, 2)} seconds\")  # ~1 second\n"
   ]
  },
  {
   "cell_type": "code",
   "execution_count": 5,
   "id": "34ebf1a3-60ec-4651-9d66-0a7ab1152a1e",
   "metadata": {},
   "outputs": [
    {
     "name": "stdout",
     "output_type": "stream",
     "text": [
      "Taking a short nap for 1 second...Taking a short nap for 1 second...\n",
      "Taking a short nap for 1 second...\n",
      "\n",
      "Taking a short nap for 1 second...\n",
      "Taking a short nap for 1 second...\n",
      "Taking a short nap for 1 second...\n",
      "Taking a short nap for 1 second...\n",
      "Taking a short nap for 1 second...\n",
      "Taking a short nap for 1 second...\n",
      "Taking a short nap for 1 second...\n",
      "Woke up!Woke up!\n",
      "Woke up!\n",
      "Woke up!\n",
      "\n",
      "Woke up!\n",
      "Woke up!\n",
      "Woke up!\n",
      "Woke up!\n",
      "Woke up!\n",
      "Woke up!\n",
      "Finished in 1.01 seconds\n"
     ]
    }
   ],
   "source": [
    "# 5. Multiple threads inside a loop\n",
    "import threading\n",
    "import time\n",
    "\n",
    "start = time.perf_counter()\n",
    "\n",
    "def do_something():\n",
    "    print(\"Taking a short nap for 1 second...\")\n",
    "    time.sleep(1)\n",
    "    print(\"Woke up!\")\n",
    "\n",
    "threads = []  # store all thread objects\n",
    "\n",
    "for _ in range(10):  # create 10 threads\n",
    "    t = threading.Thread(target=do_something)\n",
    "    t.start()        # start thread immediately\n",
    "    threads.append(t)\n",
    "\n",
    "# ensure all threads finish before continuing\n",
    "for t in threads:\n",
    "    t.join()\n",
    "\n",
    "end = time.perf_counter()\n",
    "print(f\"Finished in {round(end - start, 2)} seconds\")  # ~1 second total\n"
   ]
  },
  {
   "cell_type": "code",
   "execution_count": 6,
   "id": "663c2fab-7b68-4dd4-837a-0aaa90680f02",
   "metadata": {},
   "outputs": [
    {
     "name": "stdout",
     "output_type": "stream",
     "text": [
      "Sleeping for 1.5 seconds...Sleeping for 1.5 seconds...\n",
      "Sleeping for 1.5 seconds...\n",
      "\n",
      "Sleeping for 1.5 seconds...\n",
      "Sleeping for 1.5 seconds...\n",
      "Done!Done!\n",
      "Done!\n",
      "Done!\n",
      "\n",
      "Done!\n",
      "Finished in 1.51 seconds\n"
     ]
    }
   ],
   "source": [
    "# 6. Threads with arguments (different sleep time)\n",
    "import threading\n",
    "import time\n",
    "\n",
    "start = time.perf_counter()\n",
    "\n",
    "def do_something(seconds):\n",
    "    print(f\"Sleeping for {seconds} seconds...\")\n",
    "    time.sleep(seconds)  # sleep for the given duration\n",
    "    print(\"Done!\")\n",
    "\n",
    "threads = []\n",
    "\n",
    "# create 5 threads, each sleeping for 1.5 seconds\n",
    "for _ in range(5):\n",
    "    t = threading.Thread(target=do_something, args=[1.5])\n",
    "    t.start()\n",
    "    threads.append(t)\n",
    "\n",
    "# wait for all threads to complete\n",
    "for t in threads:\n",
    "    t.join()\n",
    "\n",
    "end = time.perf_counter()\n",
    "print(f\"Finished in {round(end - start, 2)} seconds\")  # ~1.5 seconds total\n"
   ]
  },
  {
   "cell_type": "code",
   "execution_count": 7,
   "id": "bd9cb5d0-3fe4-4eff-b7cf-d9a9f007a7c7",
   "metadata": {},
   "outputs": [
    {
     "name": "stdout",
     "output_type": "stream",
     "text": [
      "Sleeping for 1 seconds...Sleeping for 1 seconds...\n",
      "\n",
      "Sleeping for 1 seconds...\n",
      "Sleeping for 1 seconds...\n",
      "Sleeping for 1 seconds...\n",
      "Finished task after 1 sec\n",
      "Finished task after 1 sec\n",
      "Finished task after 1 sec\n",
      "Finished task after 1 sec\n",
      "Finished task after 1 sec\n",
      "Finished in 1.01 seconds\n"
     ]
    }
   ],
   "source": [
    "# 7. ThreadPoolExecutor (simpler way to handle many threads)\n",
    "import concurrent.futures\n",
    "import time\n",
    "\n",
    "start = time.perf_counter()\n",
    "\n",
    "def do_something(seconds):\n",
    "    print(f\"Sleeping for {seconds} seconds...\")\n",
    "    time.sleep(seconds)\n",
    "    return f\"Finished task after {seconds} sec\"\n",
    "\n",
    "# ThreadPoolExecutor automatically manages threads for us\n",
    "with concurrent.futures.ThreadPoolExecutor() as executor:\n",
    "    results = [executor.submit(do_something, 1) for _ in range(5)]\n",
    "\n",
    "    # print results as they finish (not in order)\n",
    "    for f in concurrent.futures.as_completed(results):\n",
    "        print(f.result())\n",
    "\n",
    "end = time.perf_counter()\n",
    "print(f\"Finished in {round(end - start, 2)} seconds\")  # ~1 sec\n"
   ]
  },
  {
   "cell_type": "code",
   "execution_count": 8,
   "id": "999e1cd4-a60b-43d1-8b0d-649685ed2f09",
   "metadata": {},
   "outputs": [
    {
     "name": "stdout",
     "output_type": "stream",
     "text": [
      "Harshini\n",
      "29\n",
      "Iniya\n",
      "35\n",
      "Soumya\n",
      "46\n",
      "34\n",
      "Tony\n"
     ]
    }
   ],
   "source": [
    "# 8. Printing names and ages in parallel threads\n",
    "import threading\n",
    "import time\n",
    "import random\n",
    "\n",
    "def print_names():\n",
    "    # print 4 names with a delay\n",
    "    for name in (\"Harshini\", \"Iniya\", \"Soumya\", \"Tony\"):\n",
    "        print(name)\n",
    "        time.sleep(random.uniform(0.5, 1.5))  # pause randomly\n",
    "\n",
    "def print_ages():\n",
    "    # print 4 random ages with a delay\n",
    "    for _ in range(4):\n",
    "        print(random.randint(20, 50))\n",
    "        time.sleep(random.uniform(0.5, 1.5))\n",
    "\n",
    "# create threads for both tasks\n",
    "t1 = threading.Thread(target=print_names)\n",
    "t2 = threading.Thread(target=print_ages)\n",
    "\n",
    "t1.start()\n",
    "t2.start()\n",
    "\n",
    "# ensure both finish\n",
    "t1.join()\n",
    "t2.join()\n"
   ]
  },
  {
   "cell_type": "code",
   "execution_count": 9,
   "id": "7a3b58c7-db45-4eaa-a74b-1140332b9521",
   "metadata": {},
   "outputs": [
    {
     "name": "stdout",
     "output_type": "stream",
     "text": [
      "Sleeping 5 seconds...\n",
      "Sleeping 4 seconds...\n",
      "Sleeping 3 seconds...\n",
      "Sleeping 2 seconds...\n",
      "Sleeping 1 seconds...\n",
      "Done sleeping 1\n",
      "Done sleeping 2\n",
      "Done sleeping 3\n",
      "Done sleeping 4\n",
      "Done sleeping 5\n",
      "Finished in 5.01 seconds\n"
     ]
    }
   ],
   "source": [
    "# 9. ThreadPoolExecutor with different sleep times\n",
    "import concurrent.futures\n",
    "import time\n",
    "\n",
    "start = time.perf_counter()\n",
    "\n",
    "def do_something(seconds):\n",
    "    print(f\"Sleeping {seconds} seconds...\")\n",
    "    time.sleep(seconds)\n",
    "    return f\"Done sleeping {seconds}\"\n",
    "\n",
    "times = [5, 4, 3, 2, 1]  # different durations\n",
    "\n",
    "with concurrent.futures.ThreadPoolExecutor() as executor:\n",
    "    futures = [executor.submit(do_something, sec) for sec in times]\n",
    "\n",
    "    # tasks finish in order of shortest sleep first\n",
    "    for f in concurrent.futures.as_completed(futures):\n",
    "        print(f.result())\n",
    "\n",
    "end = time.perf_counter()\n",
    "print(f\"Finished in {round(end - start, 2)} seconds\")\n"
   ]
  },
  {
   "cell_type": "code",
   "execution_count": 12,
   "id": "7f368033-9818-43fc-a1e4-f672eefc5b2d",
   "metadata": {},
   "outputs": [
    {
     "name": "stdout",
     "output_type": "stream",
     "text": [
      "Downloading https://raw.githubusercontent.com/harshu2215/adv-python-22mid0278/main/1-8-2522mid0278.ipynb -> Downloads/1-8-2522mid0278.ipynb\n",
      "Downloading https://raw.githubusercontent.com/harshu2215/adv-python-22mid0278/main/CSI3007 LAB5 22MID0278 29-07-2025.ipynb -> Downloads/CSI3007 LAB5 22MID0278 29-07-2025.ipynb\n",
      "Downloading https://raw.githubusercontent.com/harshu2215/adv-python-22mid0278/main/CSI3007 LAB9 22MID0278 12-08-2025.ipynb -> Downloads/CSI3007 LAB9 22MID0278 12-08-2025.ipynb\n",
      "Downloading https://raw.githubusercontent.com/harshu2215/adv-python-22mid0278/main/CSI3007 lab10 26-08-25 22MID0278.ipynb -> Downloads/CSI3007 lab10 26-08-25 22MID0278.ipynb\n",
      "Downloading https://raw.githubusercontent.com/harshu2215/adv-python-22mid0278/main/CSI3007 lab6 2-8-25 22MID0278.ipynb -> Downloads/CSI3007 lab6 2-8-25 22MID0278.ipynb\n",
      "Downloading https://raw.githubusercontent.com/harshu2215/adv-python-22mid0278/main/CSI3007 lab7 05-08-25 22MID0278.ipynb -> Downloads/CSI3007 lab7 05-08-25 22MID0278.ipynb\n",
      "Downloading https://raw.githubusercontent.com/harshu2215/adv-python-22mid0278/main/Lab3.ipynb -> Downloads/Lab3.ipynb\n",
      "Downloading https://raw.githubusercontent.com/harshu2215/adv-python-22mid0278/main/Lab_Activity_6_Quiz.docx -> Downloads/Lab_Activity_6_Quiz.docx\n",
      "Downloading https://raw.githubusercontent.com/harshu2215/adv-python-22mid0278/main/Python_LAB6_TEAM_WORK.ipynb -> Downloads/Python_LAB6_TEAM_WORK.ipynb\n",
      "Downloading https://raw.githubusercontent.com/harshu2215/adv-python-22mid0278/main/day1.ipynb -> Downloads/day1.ipynb\n",
      "Downloading https://raw.githubusercontent.com/harshu2215/adv-python-22mid0278/main/day1_error.pdf -> Downloads/day1_error.pdf\n",
      "Downloading https://raw.githubusercontent.com/harshu2215/adv-python-22mid0278/main/lab-2.ipynb -> Downloads/lab-2.ipynb\n",
      "Downloading https://raw.githubusercontent.com/harshu2215/adv-python-22mid0278/main/lab2.pdf -> Downloads/lab2.pdf\n",
      "Downloading https://raw.githubusercontent.com/harshu2215/adv-python-22mid0278/main/lab25-7.ipynb -> Downloads/lab25-7.ipynb\n",
      "Downloading https://raw.githubusercontent.com/harshu2215/adv-python-22mid0278/main/practice lab 8-8-25 22mid0278.ipynb -> Downloads/practice lab 8-8-25 22mid0278.ipynb\n",
      "Downloaded Downloads/CSI3007 lab6 2-8-25 22MID0278.ipynb\n",
      "Downloaded Downloads/CSI3007 LAB9 22MID0278 12-08-2025.ipynb\n",
      "Downloaded Downloads/CSI3007 lab7 05-08-25 22MID0278.ipynb\n",
      "Downloaded Downloads/Python_LAB6_TEAM_WORK.ipynb\n",
      "Downloaded Downloads/Lab3.ipynb\n",
      "Downloaded Downloads/1-8-2522mid0278.ipynb\n",
      "Downloaded Downloads/CSI3007 LAB5 22MID0278 29-07-2025.ipynb\n",
      "Downloaded Downloads/day1.ipynb\n",
      "Downloaded Downloads/lab25-7.ipynb\n",
      "Downloaded Downloads/lab-2.ipynb\n",
      "Downloaded Downloads/practice lab 8-8-25 22mid0278.ipynb\n",
      "Downloaded Downloads/lab2.pdf\n",
      "Downloaded Downloads/day1_error.pdf\n",
      "Downloaded Downloads/Lab_Activity_6_Quiz.docx\n",
      "Downloaded Downloads/CSI3007 lab10 26-08-25 22MID0278.ipynb\n",
      " All repo files downloaded successfully!\n"
     ]
    }
   ],
   "source": [
    "# 10. Multi-threaded GitHub Repo Downloader\n",
    "# This will download all files from a GitHub repo into \"Downloads/\"\n",
    "import threading\n",
    "import requests\n",
    "from pathlib import Path\n",
    "import os\n",
    "\n",
    "# create Downloads folder if not present\n",
    "os.makedirs(\"Downloads\", exist_ok=True)\n",
    "\n",
    "def download_file(url, filename):\n",
    "    print(f\"Downloading {url} -> {filename}\")\n",
    "    response = requests.get(url)\n",
    "    Path(filename).write_bytes(response.content)\n",
    "    print(f\"Downloaded {filename}\")\n",
    "\n",
    "# Repo info\n",
    "username = \"harshu2215\"\n",
    "repo = \"adv-python-22mid0278\"\n",
    "branch = \"main\"  # change if repo uses master\n",
    "\n",
    "# GitHub API gives us repo contents\n",
    "api_url = f\"https://api.github.com/repos/{username}/{repo}/contents\"\n",
    "\n",
    "response = requests.get(api_url)\n",
    "if response.status_code != 200:\n",
    "    raise Exception(f\"GitHub API error {response.status_code}\")\n",
    "\n",
    "files = response.json()\n",
    "\n",
    "threads = []\n",
    "for file in files:\n",
    "    if file[\"type\"] == \"file\":  # ignore folders\n",
    "        raw_url = f\"https://raw.githubusercontent.com/{username}/{repo}/{branch}/{file['name']}\"\n",
    "        filename = \"Downloads/\" + file[\"name\"]\n",
    "        t = threading.Thread(target=download_file, args=(raw_url, filename))\n",
    "        t.start()\n",
    "        threads.append(t)\n",
    "\n",
    "# wait for all downloads to finish\n",
    "for t in threads:\n",
    "    t.join()\n",
    "\n",
    "print(\" All repo files downloaded successfully!\")\n",
    "\n"
   ]
  },
  {
   "cell_type": "code",
   "execution_count": null,
   "id": "52ba65e7-b425-49d7-8634-5cbd8f6b0489",
   "metadata": {},
   "outputs": [],
   "source": []
  }
 ],
 "metadata": {
  "kernelspec": {
   "display_name": "Python 3 (ipykernel)",
   "language": "python",
   "name": "python3"
  },
  "language_info": {
   "codemirror_mode": {
    "name": "ipython",
    "version": 3
   },
   "file_extension": ".py",
   "mimetype": "text/x-python",
   "name": "python",
   "nbconvert_exporter": "python",
   "pygments_lexer": "ipython3",
   "version": "3.12.1"
  }
 },
 "nbformat": 4,
 "nbformat_minor": 5
}
