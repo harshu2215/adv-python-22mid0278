{
 "cells": [
  {
   "cell_type": "code",
   "execution_count": 1,
   "id": "6d353f7f-c297-467c-bbf9-c93ffd601bd1",
   "metadata": {},
   "outputs": [
    {
     "name": "stdout",
     "output_type": "stream",
     "text": [
      "hello world\n"
     ]
    }
   ],
   "source": [
    "print(\"hello world\"); #printing hello world"
   ]
  },
  {
   "cell_type": "code",
   "execution_count": 2,
   "id": "2ad656cd-cc65-4b68-870f-5a854536c450",
   "metadata": {},
   "outputs": [
    {
     "name": "stdout",
     "output_type": "stream",
     "text": [
      "10\n",
      "harshini\n"
     ]
    }
   ],
   "source": [
    "#concatination\n",
    "a= 6;\n",
    "b= 4;\n",
    "d= \"harsh\";\n",
    "e= \"ini\";\n",
    "c= a+b; #concatination of number or addition of numbers\n",
    "f= d+e; #concatination of strings\n",
    "print(c)\n",
    "print(f)"
   ]
  },
  {
   "cell_type": "code",
   "execution_count": 11,
   "id": "080a2993-08a1-4459-a00a-57ce4cb2248f",
   "metadata": {},
   "outputs": [
    {
     "name": "stdout",
     "output_type": "stream",
     "text": [
      "Defaulting to user installation because normal site-packages is not writeable\n",
      "Requirement already satisfied: pygame in c:\\users\\harshini supriya\\appdata\\roaming\\python\\python310\\site-packages (2.5.2)\n"
     ]
    },
    {
     "name": "stderr",
     "output_type": "stream",
     "text": [
      "\n",
      "[notice] A new release of pip is available: 24.3.1 -> 25.1.1\n",
      "[notice] To update, run: python.exe -m pip install --upgrade pip\n"
     ]
    }
   ],
   "source": [
    "#package installation \n",
    "!pip install pygame"
   ]
  },
  {
   "cell_type": "code",
   "execution_count": 12,
   "id": "4d11cd0b-8a09-4c18-8c01-39b1b90c1d07",
   "metadata": {},
   "outputs": [
    {
     "name": "stdout",
     "output_type": "stream",
     "text": [
      "pygame 2.5.2 (SDL 2.28.3, Python 3.10.7)\n",
      "Hello from the pygame community. https://www.pygame.org/contribute.html\n"
     ]
    }
   ],
   "source": [
    "#import the package\n",
    "import pygame"
   ]
  },
  {
   "cell_type": "code",
   "execution_count": 13,
   "id": "c284d56f-899d-4ae0-be33-368221336eb4",
   "metadata": {},
   "outputs": [],
   "source": [
    "#initializing\n",
    "pygame.mixer.init()"
   ]
  },
  {
   "cell_type": "code",
   "execution_count": 18,
   "id": "e586545b-6f0e-4e65-ba60-248805d69f43",
   "metadata": {},
   "outputs": [],
   "source": [
    "#creation of internal instance of the audio stream\n",
    "pygame.mixer.music.load(r\"C:\\Users\\Harshini Supriya\\Downloads\\sample-3s.wav\")"
   ]
  },
  {
   "cell_type": "code",
   "execution_count": 21,
   "id": "b3587eef-550c-48df-ae69-35a2fd8ef995",
   "metadata": {},
   "outputs": [
    {
     "name": "stdout",
     "output_type": "stream",
     "text": [
      "Playing sound...\n"
     ]
    }
   ],
   "source": [
    "print(\"Playing sound...\")\n",
    "pygame.mixer.music.play()"
   ]
  },
  {
   "cell_type": "code",
   "execution_count": 22,
   "id": "fcc385e2-9f2f-4af6-94d8-4de4cb4bf042",
   "metadata": {},
   "outputs": [],
   "source": [
    "while pygame.mixer.music.get_busy():\n",
    "    pygame.time.Clock().tick(10)"
   ]
  },
  {
   "cell_type": "code",
   "execution_count": null,
   "id": "4070aaf4-b2a9-4287-94fb-46bfbe8de19e",
   "metadata": {},
   "outputs": [],
   "source": []
  }
 ],
 "metadata": {
  "kernelspec": {
   "display_name": "Python 3 (ipykernel)",
   "language": "python",
   "name": "python3"
  },
  "language_info": {
   "codemirror_mode": {
    "name": "ipython",
    "version": 3
   },
   "file_extension": ".py",
   "mimetype": "text/x-python",
   "name": "python",
   "nbconvert_exporter": "python",
   "pygments_lexer": "ipython3",
   "version": "3.10.7"
  }
 },
 "nbformat": 4,
 "nbformat_minor": 5
}
