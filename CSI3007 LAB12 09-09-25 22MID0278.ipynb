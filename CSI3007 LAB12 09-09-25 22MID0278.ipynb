{
 "cells": [
  {
   "cell_type": "code",
   "execution_count": 1,
   "id": "b4ae15a0-89c6-4213-85f0-528c0c88f773",
   "metadata": {},
   "outputs": [
    {
     "name": "stdout",
     "output_type": "stream",
     "text": [
      "example.csv has been created with student marks data\n"
     ]
    }
   ],
   "source": [
    "# practise for handling csv files with pandas and other functions\n",
    "\n",
    "\n",
    "\n",
    "\n",
    "\n",
    "import pandas as pd\n",
    "\n",
    "# Define a new dataset with two columns\n",
    "data = {\n",
    "    \"sno\": [101, 102, 103, 104, 105, 106, 107, 108],\n",
    "    \"marks\": [55, 67, 72, 40, 85, 91, 63, 77]\n",
    "}\n",
    "\n",
    "# Convert dictionary into a DataFrame\n",
    "df = pd.DataFrame(data)\n",
    "\n",
    "# Save it into a CSV file (without index column)\n",
    "df.to_csv(\"example.csv\", index=False)\n",
    "\n",
    "print(\"example.csv has been created with student marks data\")\n",
    "\n"
   ]
  },
  {
   "cell_type": "code",
   "execution_count": 2,
   "id": "932668c1-40ae-4226-a548-986aadd20280",
   "metadata": {},
   "outputs": [
    {
     "name": "stdout",
     "output_type": "stream",
     "text": [
      "Contents of example.csv:\n",
      "['sno', 'marks']\n",
      "['101', '55']\n",
      "['102', '67']\n",
      "['103', '72']\n",
      "['104', '40']\n",
      "['105', '85']\n",
      "['106', '91']\n",
      "['107', '63']\n",
      "['108', '77']\n"
     ]
    }
   ],
   "source": [
    "import csv\n",
    "\n",
    "# Open the CSV file in read mode\n",
    "with open(\"example.csv\", \"r\") as f:\n",
    "    csv_reader = csv.reader(f)\n",
    "    \n",
    "    # Print each row from the file\n",
    "    print(\"Contents of example.csv:\")\n",
    "    for record in csv_reader:\n",
    "        print(record)\n"
   ]
  },
  {
   "cell_type": "code",
   "execution_count": 3,
   "id": "b460fc0e-89e2-4a81-981e-f8b8a4fc6a0c",
   "metadata": {},
   "outputs": [
    {
     "name": "stdout",
     "output_type": "stream",
     "text": [
      "First 5 rows of example.csv:\n",
      "   sno  marks\n",
      "0  101     55\n",
      "1  102     67\n",
      "2  103     72\n",
      "3  104     40\n",
      "4  105     85\n"
     ]
    }
   ],
   "source": [
    "import pandas as pd\n",
    "\n",
    "# Load CSV into a DataFrame\n",
    "data = pd.read_csv(\"example.csv\")\n",
    "\n",
    "# Display first few rows\n",
    "print(\"First 5 rows of example.csv:\")\n",
    "print(data.head())\n",
    "\n"
   ]
  },
  {
   "cell_type": "code",
   "execution_count": 4,
   "id": "05432503-9e6e-4592-b4aa-730faa844da3",
   "metadata": {},
   "outputs": [
    {
     "name": "stdout",
     "output_type": "stream",
     "text": [
      "New rows added to example.csv\n",
      "Updated CSV data:\n",
      "    sno  marks\n",
      "0  101     55\n",
      "1  102     67\n",
      "2  103     72\n",
      "3  104     40\n",
      "4  105     85\n",
      "5  106     91\n",
      "6  107     63\n",
      "7  108     77\n",
      "8  109     82\n",
      "9  110     59\n"
     ]
    }
   ],
   "source": [
    "import pandas as pd\n",
    "\n",
    "# New rows to add\n",
    "extra_data = pd.DataFrame({\n",
    "    \"sno\": [109, 110],\n",
    "    \"marks\": [82, 59]\n",
    "})\n",
    "\n",
    "# Append to the existing CSV without writing header again\n",
    "extra_data.to_csv(\"example.csv\", mode=\"a\", header=False, index=False)\n",
    "\n",
    "print(\"New rows added to example.csv\")\n",
    "\n",
    "# Show updated DataFrame\n",
    "updated = pd.read_csv(\"example.csv\")\n",
    "print(\"Updated CSV data:\\n\", updated)\n",
    "\n"
   ]
  },
  {
   "cell_type": "code",
   "execution_count": 5,
   "id": "9d159f36-9fea-4a1c-9126-41a2eb97b997",
   "metadata": {},
   "outputs": [
    {
     "name": "stdout",
     "output_type": "stream",
     "text": [
      "Reading example.csv in small chunks:\n",
      "   sno  marks\n",
      "0  101     55\n",
      "1  102     67\n",
      "2  103     72 \n",
      "\n",
      "   sno  marks\n",
      "3  104     40\n",
      "4  105     85\n",
      "5  106     91 \n",
      "\n",
      "   sno  marks\n",
      "6  107     63\n",
      "7  108     77\n",
      "8  109     82 \n",
      "\n",
      "   sno  marks\n",
      "9  110     59 \n",
      "\n"
     ]
    }
   ],
   "source": [
    "import pandas as pd\n",
    "\n",
    "# Read the file in chunks of 3 rows\n",
    "print(\"Reading example.csv in small chunks:\")\n",
    "for piece in pd.read_csv(\"example.csv\", chunksize=3):\n",
    "    print(piece, \"\\n\")\n"
   ]
  },
  {
   "cell_type": "code",
   "execution_count": 6,
   "id": "2476cc6a-8995-4822-9f4b-dc5dc7941c56",
   "metadata": {},
   "outputs": [
    {
     "name": "stdout",
     "output_type": "stream",
     "text": [
      "High scoring students saved into high_scores.csv\n",
      "Filtered Data:\n",
      "    sno  marks\n",
      "2  103     72\n",
      "4  105     85\n",
      "5  106     91\n",
      "7  108     77\n",
      "8  109     82\n"
     ]
    }
   ],
   "source": [
    "import pandas as pd\n",
    "\n",
    "# Load CSV\n",
    "data = pd.read_csv(\"example.csv\")\n",
    "\n",
    "# Keep only rows where marks >= 70\n",
    "high_scorers = data[data[\"marks\"] >= 70]\n",
    "\n",
    "# Save filtered result into new CSV\n",
    "high_scorers.to_csv(\"high_scores.csv\", index=False)\n",
    "\n",
    "print(\"High scoring students saved into high_scores.csv\")\n",
    "print(\"Filtered Data:\\n\", high_scorers)\n",
    "\n"
   ]
  },
  {
   "cell_type": "code",
   "execution_count": 7,
   "id": "43a72306-7a05-417f-9195-5178cc422893",
   "metadata": {},
   "outputs": [
    {
     "name": "stdout",
     "output_type": "stream",
     "text": [
      "Only 'marks' column:\n",
      "    marks\n",
      "0     55\n",
      "1     67\n",
      "2     72\n",
      "3     40\n",
      "4     85\n",
      "5     91\n",
      "6     63\n",
      "7     77\n",
      "8     82\n",
      "9     59\n"
     ]
    }
   ],
   "source": [
    "import pandas as pd\n",
    "\n",
    "# Read only the 'marks' column\n",
    "marks_column = pd.read_csv(\"example.csv\", usecols=[\"marks\"])\n",
    "\n",
    "print(\"Only 'marks' column:\\n\", marks_column)\n",
    "\n"
   ]
  },
  {
   "cell_type": "code",
   "execution_count": 8,
   "id": "1257984c-0728-46d2-8b4c-399f6758ae95",
   "metadata": {},
   "outputs": [
    {
     "name": "stdout",
     "output_type": "stream",
     "text": [
      "CSV with bonus marks column:\n",
      "    sno  marks  marks_with_bonus\n",
      "0  101     55                60\n",
      "1  102     67                72\n",
      "2  103     72                77\n",
      "3  104     40                45\n",
      "4  105     85                90\n"
     ]
    }
   ],
   "source": [
    "import pandas as pd\n",
    "\n",
    "# Load the CSV\n",
    "df = pd.read_csv(\"example.csv\")\n",
    "\n",
    "# Add a new column that adds 5 bonus marks\n",
    "df[\"marks_with_bonus\"] = df[\"marks\"] + 5\n",
    "\n",
    "print(\"CSV with bonus marks column:\\n\", df.head())\n",
    "\n",
    "\n"
   ]
  },
  {
   "cell_type": "code",
   "execution_count": 9,
   "id": "9e8d1daf-1621-4aa0-816d-69421afc8cfc",
   "metadata": {},
   "outputs": [
    {
     "name": "stdout",
     "output_type": "stream",
     "text": [
      " example.csv has 10 rows in total\n"
     ]
    }
   ],
   "source": [
    "import pandas as pd\n",
    "\n",
    "# Load the CSV file\n",
    "df = pd.read_csv(\"example.csv\")\n",
    "\n",
    "# Get row count\n",
    "row_count = len(df)\n",
    "\n",
    "print(f\" example.csv has {row_count} rows in total\")\n"
   ]
  },
  {
   "cell_type": "code",
   "execution_count": null,
   "id": "85282557-0a5e-46ee-a992-83d6c648c797",
   "metadata": {},
   "outputs": [],
   "source": []
  }
 ],
 "metadata": {
  "kernelspec": {
   "display_name": "Python 3 (ipykernel)",
   "language": "python",
   "name": "python3"
  },
  "language_info": {
   "codemirror_mode": {
    "name": "ipython",
    "version": 3
   },
   "file_extension": ".py",
   "mimetype": "text/x-python",
   "name": "python",
   "nbconvert_exporter": "python",
   "pygments_lexer": "ipython3",
   "version": "3.12.1"
  }
 },
 "nbformat": 4,
 "nbformat_minor": 5
}
