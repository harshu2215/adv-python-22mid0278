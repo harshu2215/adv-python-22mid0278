{
 "cells": [
  {
   "cell_type": "code",
   "execution_count": 17,
   "id": "afc9e11e-c54c-48c3-a23b-b3b8e2a41025",
   "metadata": {},
   "outputs": [
    {
     "name": "stdout",
     "output_type": "stream",
     "text": [
      "'The Hitchhiker's Guide to the Galaxy' by Douglas Adams\n"
     ]
    }
   ],
   "source": [
    "# Defines a class representing a book.\n",
    "class Book:\n",
    "    def __init__(self, title, author):\n",
    "        self.title = title\n",
    "        self.author = author\n",
    "\n",
    "    def get_details(self):\n",
    "        return f\"'{self.title}' by {self.author}\"\n",
    "\n",
    "my_book = Book(\"The Hitchhiker's Guide to the Galaxy\", \"Douglas Adams\")\n",
    "print(my_book.get_details())  # Output: 'The Hitchhiker's Guide to the Galaxy' by Douglas Adams\n"
   ]
  },
  {
   "cell_type": "code",
   "execution_count": 18,
   "id": "ea991ce0-153d-4339-ba54-6045d3d98524",
   "metadata": {},
   "outputs": [
    {
     "name": "stdout",
     "output_type": "stream",
     "text": [
      "Simba belongs to the Animalia kingdom.\n"
     ]
    }
   ],
   "source": [
    "class Animal:\n",
    "    kingdom = \"Animalia\"  # Class attribute shared by all animals.\n",
    "\n",
    "    def __init__(self, name):\n",
    "        self.name = name\n",
    "\n",
    "    def display_kingdom(self):\n",
    "        print(f\"{self.name} belongs to the {Animal.kingdom} kingdom.\")\n",
    "\n",
    "lion = Animal(\"Simba\")\n",
    "lion.display_kingdom()  # Output: Simba belongs to the Animalia kingdom."
   ]
  },
  {
   "cell_type": "code",
   "execution_count": 19,
   "id": "4cb9193c-27f7-49c9-a69a-67e123a334df",
   "metadata": {},
   "outputs": [
    {
     "name": "stdout",
     "output_type": "stream",
     "text": [
      "Vehicle is moving.\n",
      "Car is driving.\n"
     ]
    }
   ],
   "source": [
    "class Vehicle:\n",
    "    def move(self):\n",
    "        print(\"Vehicle is moving.\")\n",
    "\n",
    "class Car(Vehicle): # Car inherits from Vehicle\n",
    "    def drive(self):\n",
    "        print(\"Car is driving.\")\n",
    "\n",
    "my_car = Car()\n",
    "my_car.move()   # Inherited method.\n",
    "my_car.drive()\n"
   ]
  },
  {
   "cell_type": "code",
   "execution_count": 20,
   "id": "9a41d747-9d7c-4da5-92d7-d34b21b1fb90",
   "metadata": {},
   "outputs": [
    {
     "name": "stdout",
     "output_type": "stream",
     "text": [
      "Area of square: 25\n"
     ]
    }
   ],
   "source": [
    "class Shape:\n",
    "    def area(self):\n",
    "        return 0 # Default area.\n",
    "\n",
    "class Square(Shape):\n",
    "    def __init__(self, side):\n",
    "        self.side = side\n",
    "\n",
    "    def area(self):  # Overriding the area method.\n",
    "        return self.side * self.side\n",
    "\n",
    "square = Square(5)\n",
    "print(f\"Area of square: {square.area()}\")  # Output: Area of square: 25"
   ]
  },
  {
   "cell_type": "code",
   "execution_count": 21,
   "id": "55e6ae17-754a-4c34-abef-eee9dae65aec",
   "metadata": {},
   "outputs": [
    {
     "name": "stdout",
     "output_type": "stream",
     "text": [
      "Sum: 30\n"
     ]
    }
   ],
   "source": [
    "class MathOperations:\n",
    "    @classmethod\n",
    "    def add_numbers(cls, num1, num2):\n",
    "        return num1 + num2\n",
    "\n",
    "sum_result = MathOperations.add_numbers(10, 20)\n",
    "print(f\"Sum: {sum_result}\")  # Output: Sum: 30"
   ]
  },
  {
   "cell_type": "code",
   "execution_count": 22,
   "id": "4dcbbcf2-fb3e-4c7f-95df-182f2ccb37b8",
   "metadata": {},
   "outputs": [
    {
     "name": "stdout",
     "output_type": "stream",
     "text": [
      "Formatted text: HELLO WORLD\n"
     ]
    }
   ],
   "source": [
    "class Utils:\n",
    "    @staticmethod\n",
    "    def format_text(text):\n",
    "        return text.upper()\n",
    "\n",
    "formatted_string = Utils.format_text(\"hello world\")\n",
    "print(f\"Formatted text: {formatted_string}\")  # Output: Formatted text: HELLO WORLD"
   ]
  },
  {
   "cell_type": "code",
   "execution_count": 23,
   "id": "804f304c-33a1-4495-956d-5bce58e5bc1b",
   "metadata": {},
   "outputs": [
    {
     "name": "stdout",
     "output_type": "stream",
     "text": [
      "Parent value: 10, Child extra value: 5\n"
     ]
    }
   ],
   "source": [
    "class Parent:\n",
    "    def __init__(self, value):\n",
    "        self.value = value\n",
    "\n",
    "class Child(Parent):\n",
    "    def __init__(self, value, extra_value):\n",
    "        super().__init__(value)  # Call the parent's constructor.\n",
    "        self.extra_value = extra_value\n",
    "\n",
    "child_obj = Child(10, 5)\n",
    "print(f\"Parent value: {child_obj.value}, Child extra value: {child_obj.extra_value}\")\n",
    "# Output: Parent value: 10, Child extra value: 5"
   ]
  },
  {
   "cell_type": "code",
   "execution_count": 10,
   "id": "82a81668-a36b-4e97-9629-600af4791993",
   "metadata": {},
   "outputs": [
    {
     "name": "stdout",
     "output_type": "stream",
     "text": [
      "___Simple class and objects___\n",
      "Car 1 Brand: Toyota\n",
      "Car 2 Model: Civic\n",
      "Brand: Toyota, Model: Corolla\n",
      "Brand: Honda, Model: Civic\n"
     ]
    }
   ],
   "source": [
    "print(\"___Simple class and objects___\")\n",
    "# Define a class named 'Car'\n",
    "class Car: \n",
    "    def __init__(self, brand, model):  \n",
    "        # Instance attributes store data unique to each object.\n",
    "        self.brand = brand  \n",
    "        self.model = model\n",
    "    # Instance method defines the behavior of objects created from the class.\n",
    "    def display_info(self):\n",
    "        print(f\"Brand: {self.brand}, Model: {self.model}\")\n",
    "# Create objects (instances) of the Car class.\n",
    "car1 = Car(\"Toyota\", \"Corolla\")\n",
    "car2 = Car(\"Honda\", \"Civic\")\n",
    "# Access attributes using the dot notation.\n",
    "print(f\"Car 1 Brand: {car1.brand}\")\n",
    "print(f\"Car 2 Model: {car2.model}\")\n",
    "# Call instance methods.\n",
    "car1.display_info()\n",
    "car2.display_info()\n"
   ]
  },
  {
   "cell_type": "code",
   "execution_count": 11,
   "id": "cfa42a2d-ef70-4d20-aa37-00df6f71a849",
   "metadata": {},
   "outputs": [
    {
     "name": "stdout",
     "output_type": "stream",
     "text": [
      "___Class methods___\n",
      "Circle 1 Area: 78.53975\n",
      "Circle 2 Area: 78.53975\n"
     ]
    }
   ],
   "source": [
    "print(\"___Class methods___\")\n",
    "class Circle:\n",
    "    pi = 3.14159  # Class attribute: Shared by all instances.\n",
    "    def __init__(self, radius):\n",
    "        self.radius = radius\n",
    "    # Class method uses the @classmethod decorator.\n",
    "    @classmethod\n",
    "    def from_diameter(cls, diameter):\n",
    "        radius = diameter / 2\n",
    "        return cls(radius) # Return a new Circle instance\n",
    "    def area(self):\n",
    "        return self.pi * self.radius ** 2\n",
    "# Create a circle object using the regular constructor\n",
    "circle1 = Circle(5)\n",
    "print(f\"Circle 1 Area: {circle1.area()}\")\n",
    "# Create a circle object using the class method (factory method).\n",
    "circle2 = Circle.from_diameter(10)\n",
    "print(f\"Circle 2 Area: {circle2.area()}\")"
   ]
  },
  {
   "cell_type": "code",
   "execution_count": 3,
   "id": "d2af3b00-1df5-4c39-9aa2-49846f15c6e9",
   "metadata": {},
   "outputs": [
    {
     "name": "stdout",
     "output_type": "stream",
     "text": [
      "Generic Animal makes a sound.\n",
      "Buddy barks.\n"
     ]
    }
   ],
   "source": [
    "print(\"___Inheritance___\")\n",
    "class Animal: # Parent class.\n",
    "    def __init__(self, name):\n",
    "        self.name = name\n",
    "    def speak(self):\n",
    "        print(f\"{self.name} makes a sound.\")\n",
    "class Dog(Animal):  # Child class inheriting from Animal.\n",
    "    def __init__(self, name, breed):\n",
    "        # Call the parent class's constructor using super().\n",
    "        super().__init__(name)\n",
    "        self.breed = breed  # Add a new instance attribute.\n",
    "    def speak(self):  # Method overriding.\n",
    "        print(f\"{self.name} barks.\")\n",
    "# Create objects\n",
    "animal = Animal(\"Generic Animal\")\n",
    "dog = Dog(\"Buddy\", \"Golden Retriever\")\n",
    "animal.speak()\n",
    "dog.speak()"
   ]
  },
  {
   "cell_type": "code",
   "execution_count": 12,
   "id": "94f779ca-fe4b-4d67-9b46-475f7ebc306a",
   "metadata": {},
   "outputs": [
    {
     "name": "stdout",
     "output_type": "stream",
     "text": [
      "___Polymorphism___\n",
      "Whiskers says Meow!\n",
      "Simba says Roar!\n"
     ]
    }
   ],
   "source": [
    "print(\"___Polymorphism___\")\n",
    "class Cat:\n",
    "    def __init__(self, name):\n",
    "        self.name = name\n",
    "    def make_sound(self):\n",
    "        print(f\"{self.name} says Meow!\")\n",
    "class Lion(Cat):  # Lion inherits from Cat\n",
    "    def make_sound(self):  # Overriding the make_sound method\n",
    "        print(f\"{self.name} says Roar!\")\n",
    "# Create objects of different classes.\n",
    "animals = [Cat(\"Whiskers\"), Lion(\"Simba\")]\n",
    "# Iterate through the list and call the make_sound method.\n",
    "for animal in animals:\n",
    "    animal.make_sound()"
   ]
  },
  {
   "cell_type": "code",
   "execution_count": 13,
   "id": "688bfc41-01ab-493e-8984-6c58bf4688cd",
   "metadata": {},
   "outputs": [
    {
     "name": "stdout",
     "output_type": "stream",
     "text": [
      "___encapsulation___\n",
      "Account Owner: Alice\n",
      "Account Balance: 100\n",
      "Deposited 50. New balance: 150\n",
      "Withdrew 20. New balance: 130\n",
      "Invalid withdrawal amount or insufficient funds.\n"
     ]
    }
   ],
   "source": [
    "print(\"___encapsulation___\")\n",
    "class BankAccount:\n",
    "    def __init__(self, owner, balance=0):\n",
    "        self.__owner = owner  # Private attribute (convention: double underscore).\n",
    "        self.__balance = balance\n",
    "    def get_owner(self):  # Getter method.\n",
    "        return self.__owner\n",
    "    def get_balance(self):  # Getter method.\n",
    "        return self.__balance\n",
    "    def deposit(self, amount):\n",
    "        if amount > 0:\n",
    "            self.__balance += amount\n",
    "            print(f\"Deposited {amount}. New balance: {self.__balance}\")\n",
    "        else:\n",
    "            print(\"Deposit amount must be positive.\")\n",
    "    def withdraw(self, amount):\n",
    "        if 0 < amount <= self.__balance:\n",
    "            self.__balance -= amount\n",
    "            print(f\"Withdrew {amount}. New balance: {self.__balance}\")\n",
    "        else:\n",
    "            print(\"Invalid withdrawal amount or insufficient funds.\")\n",
    "# Create an account.\n",
    "account = BankAccount(\"Alice\", 100)\n",
    "# Access attributes using getters.\n",
    "print(f\"Account Owner: {account.get_owner()}\")\n",
    "print(f\"Account Balance: {account.get_balance()}\")\n",
    "# Modify attributes using methods.\n",
    "account.deposit(50)\n",
    "account.withdraw(20)\n",
    "account.withdraw(200) # Invalid withdrawal."
   ]
  },
  {
   "cell_type": "code",
   "execution_count": 14,
   "id": "e3e9bda0-298a-47fb-8d49-417ed5a226b7",
   "metadata": {},
   "outputs": [
    {
     "name": "stdout",
     "output_type": "stream",
     "text": [
      "___Abstract base classes ___\n",
      "Engine started.\n",
      "Driving the car.\n",
      "Stopping the car.\n",
      "Engine started.\n",
      "Riding the motorcycle.\n",
      "Stopping the motorcycle.\n"
     ]
    }
   ],
   "source": [
    "print(\"___Abstract base classes ___\")\n",
    "from abc import ABC, abstractmethod\n",
    "class Vehicle(ABC):  # Abstract Base Class inheriting from ABC.\n",
    "    @abstractmethod  # Decorator to mark a method as abstract.\n",
    "    def drive(self):\n",
    "        pass\n",
    "    @abstractmethod\n",
    "    def stop(self):\n",
    "        pass\n",
    "    def start_engine(self):  # Concrete method (can have implementation).\n",
    "        print(\"Engine started.\")\n",
    "class Car(Vehicle):  # Concrete class inheriting from Vehicle.\n",
    "    def drive(self):\n",
    "        print(\"Driving the car.\")\n",
    "    def stop(self):\n",
    "        print(\"Stopping the car.\")\n",
    "class Motorcycle(Vehicle): # Concrete class inheriting from Vehicle.\n",
    "    def drive(self):\n",
    "        print(\"Riding the motorcycle.\")\n",
    "    def stop(self):\n",
    "        print(\"Stopping the motorcycle.\")\n",
    "# Create objects of concrete classes.\n",
    "car = Car()\n",
    "motorcycle = Motorcycle()\n",
    "# Call methods.\n",
    "car.start_engine()\n",
    "car.drive()\n",
    "car.stop()\n",
    "motorcycle.start_engine()\n",
    "motorcycle.drive()\n",
    "motorcycle.stop()"
   ]
  },
  {
   "cell_type": "code",
   "execution_count": 15,
   "id": "5fff3a63-8f5d-456c-b640-4e74914801a9",
   "metadata": {},
   "outputs": [
    {
     "name": "stdout",
     "output_type": "stream",
     "text": [
      "___Decorators with classes___\n",
      "Creating an instance of Person.\n",
      "Hello, Bob!\n"
     ]
    }
   ],
   "source": [
    "print(\"___Decorators with classes___\")\n",
    "def log_creation(cls):\n",
    "    # This is a class decorator.\n",
    "    # It takes a class (cls) as input and returns a modified class.\n",
    "    class NewClass(cls):\n",
    "        def __init__(self, *args, **kwargs):\n",
    "            print(f\"Creating an instance of {cls.__name__}.\")\n",
    "            super().__init__(*args, **kwargs) # Call the original class's constructor.\n",
    "    return NewClass\n",
    "@log_creation  # Apply the decorator to the Person class.\n",
    "class Person:\n",
    "    def __init__(self, name):\n",
    "        self.name = name\n",
    "    def greet(self):\n",
    "        print(f\"Hello, {self.name}!\")\n",
    "# Create a Person object. The decorator's logic will be executed.\n",
    "person = Person(\"Bob\")\n",
    "person.greet()"
   ]
  },
  {
   "cell_type": "code",
   "execution_count": 16,
   "id": "5f133162-227a-48fb-b2cc-954cee7963f6",
   "metadata": {},
   "outputs": [
    {
     "name": "stdout",
     "output_type": "stream",
     "text": [
      "___Metaclasses___\n",
      "This is my method.\n",
      "This is another method.\n"
     ]
    }
   ],
   "source": [
    "print(\"___Metaclasses___\")\n",
    "class CustomMeta(type):\n",
    "    # This method is called before the class is created.\n",
    "    # It allows you to modify the class's attributes, methods, etc.\n",
    "    def __new__(cls, name, bases, attrs):\n",
    "        # Convert all method names to uppercase (excluding special methods).\n",
    "        modified_attrs = {}\n",
    "        for key, value in attrs.items():\n",
    "            if callable(value) and not key.startswith(\"__\"): # Check if it's a regular method.\n",
    "                modified_attrs[key.upper()] = value\n",
    "            else:\n",
    "                modified_attrs[key] = value\n",
    "        # Create the class using the modified attributes.\n",
    "        return super().__new__(cls, name, bases, modified_attrs)\n",
    "class MyClass(metaclass=CustomMeta): # Use the custom metaclass.\n",
    "    def my_method(self):\n",
    "        print(\"This is my method.\")\n",
    "\n",
    "    def another_method(self):\n",
    "        print(\"This is another method.\")\n",
    "# Create an object of MyClass.\n",
    "obj = MyClass()\n",
    "# Call the methods, now with uppercase names as defined by the metaclass.\n",
    "obj.MY_METHOD()\n",
    "obj.ANOTHER_METHOD()"
   ]
  },
  {
   "cell_type": "code",
   "execution_count": null,
   "id": "66ba3edc-c98f-4d45-a417-bd340f64b5b3",
   "metadata": {},
   "outputs": [],
   "source": []
  }
 ],
 "metadata": {
  "kernelspec": {
   "display_name": "Python 3 (ipykernel)",
   "language": "python",
   "name": "python3"
  },
  "language_info": {
   "codemirror_mode": {
    "name": "ipython",
    "version": 3
   },
   "file_extension": ".py",
   "mimetype": "text/x-python",
   "name": "python",
   "nbconvert_exporter": "python",
   "pygments_lexer": "ipython3",
   "version": "3.12.4"
  }
 },
 "nbformat": 4,
 "nbformat_minor": 5
}
