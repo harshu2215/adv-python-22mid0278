{
 "cells": [
  {
   "cell_type": "code",
   "execution_count": 51,
   "id": "3466f912-db00-4090-9d00-a8944e77acdb",
   "metadata": {},
   "outputs": [
    {
     "name": "stdout",
     "output_type": "stream",
     "text": [
      "lab8\n",
      "harshini supriya J - 22MID0278\n"
     ]
    }
   ],
   "source": [
    "print(\"lab8\")\n",
    "print(\"harshini supriya J - 22MID0278\")"
   ]
  },
  {
   "cell_type": "code",
   "execution_count": 31,
   "id": "5ff2d75d-eabb-4e73-b88f-19e070ae74c8",
   "metadata": {},
   "outputs": [],
   "source": [
    "class emp1:\n",
    "    no_of_employees = 0\n",
    "    raise_amount = 1.04\n",
    "\n",
    "    def __init__(self, first, last, pay):  \n",
    "        self.first = first\n",
    "        self.last = last\n",
    "        self.pay = pay\n",
    "       \n",
    "        emp1.no_of_employees += 1 \n",
    "\n",
    "    def apply_raise(self):\n",
    "        self.pay = int(self.pay * self.raise_amount) # Changed `employee` to `self` to access the class variable\n"
   ]
  },
  {
   "cell_type": "code",
   "execution_count": 28,
   "id": "408e1fee-df5b-4979-96ba-556ddfff9eb0",
   "metadata": {},
   "outputs": [],
   "source": [
    "emp1.no_of_employees = 0 #resetting the counter to zero"
   ]
  },
  {
   "cell_type": "code",
   "execution_count": 25,
   "id": "9e67f7a9-051c-414a-a740-87c02abfbcf5",
   "metadata": {},
   "outputs": [],
   "source": [
    "e1 = emp1(\"micky\",\"mouse\",20000) #creation of instance"
   ]
  },
  {
   "cell_type": "code",
   "execution_count": 26,
   "id": "3ef6a2ec-8d4a-4208-87e0-904f0b54721f",
   "metadata": {},
   "outputs": [
    {
     "name": "stdout",
     "output_type": "stream",
     "text": [
      "1\n"
     ]
    }
   ],
   "source": [
    "print(emp1.no_of_employees)"
   ]
  },
  {
   "cell_type": "code",
   "execution_count": 27,
   "id": "9990e39e-aa71-4599-892f-a56086377671",
   "metadata": {},
   "outputs": [
    {
     "name": "stdout",
     "output_type": "stream",
     "text": [
      "1\n",
      "3\n"
     ]
    }
   ],
   "source": [
    "print(emp1.no_of_employees)\n",
    "e2 = emp1(\"micky\",\"mouse\",20000)\n",
    "e3 = emp1(\"micky\",\"mouse\",20000)\n",
    "print(emp1.no_of_employees)"
   ]
  },
  {
   "cell_type": "code",
   "execution_count": 14,
   "id": "b19b35b1-de4d-4e58-83c3-c0dae43cb273",
   "metadata": {},
   "outputs": [
    {
     "name": "stdout",
     "output_type": "stream",
     "text": [
      "20000\n"
     ]
    }
   ],
   "source": [
    "print(e1.pay) #extracting value instance variable"
   ]
  },
  {
   "cell_type": "code",
   "execution_count": 29,
   "id": "b16af6bd-2d26-4457-8727-35afc8b591fe",
   "metadata": {},
   "outputs": [
    {
     "name": "stdout",
     "output_type": "stream",
     "text": [
      "{'first': 'micky', 'last': 'mouse', 'pay': 20000}\n"
     ]
    }
   ],
   "source": [
    "print(e1.__dict__) # __dict__ acts as the namespace for both classes and instances"
   ]
  },
  {
   "cell_type": "code",
   "execution_count": 16,
   "id": "26b42784-b01d-4e59-83a5-a72a4866287c",
   "metadata": {},
   "outputs": [
    {
     "name": "stdout",
     "output_type": "stream",
     "text": [
      "{'__module__': '__main__', 'no_of_employees': 6, 'raise_amount': 1.04, '__init__': <function emp1.__init__ at 0x73856181e700>, 'apply_raise': <function emp1.apply_raise at 0x73856181e980>, '__dict__': <attribute '__dict__' of 'emp1' objects>, '__weakref__': <attribute '__weakref__' of 'emp1' objects>, '__doc__': None}\n"
     ]
    }
   ],
   "source": [
    "print(emp1.__dict__)"
   ]
  },
  {
   "cell_type": "code",
   "execution_count": 17,
   "id": "a1aabcf7-06e4-406d-97bd-069dd012b368",
   "metadata": {},
   "outputs": [],
   "source": [
    "e1.raise_amount = 1.05"
   ]
  },
  {
   "cell_type": "code",
   "execution_count": 21,
   "id": "e3f49738-1dab-47d9-8691-5303997ffb27",
   "metadata": {},
   "outputs": [
    {
     "name": "stdout",
     "output_type": "stream",
     "text": [
      "1.04\n",
      "1.05\n"
     ]
    }
   ],
   "source": [
    "print(emp1.raise_amount)\n",
    "print(e1.raise_amount)  #here the scope of variables changes , so we get 2 different values wrt the scope "
   ]
  },
  {
   "cell_type": "code",
   "execution_count": 47,
   "id": "70204492-8beb-44b0-96a1-935643285260",
   "metadata": {},
   "outputs": [
    {
     "name": "stdout",
     "output_type": "stream",
     "text": [
      "hello from parent\n",
      "hello from child\n"
     ]
    }
   ],
   "source": [
    "#single inheritance\n",
    "class parent:\n",
    "    def greet(self):\n",
    "        print(\"hello from parent\")\n",
    "class child(parent):\n",
    "    def greet(self):\n",
    "        super().greet()  #calls parent class greet by using super() method\n",
    "        print(\"hello from child\")\n",
    "\n",
    "obj = child()\n",
    "obj.greet()"
   ]
  },
  {
   "cell_type": "code",
   "execution_count": 35,
   "id": "8350560c-0abc-4446-9b06-dbea066fd4ff",
   "metadata": {},
   "outputs": [
    {
     "name": "stdout",
     "output_type": "stream",
     "text": [
      "method A\n",
      "method B\n"
     ]
    }
   ],
   "source": [
    "#multiple inhertance\n",
    "class A:\n",
    "    def method_a(self):\n",
    "        print(\"method A\")\n",
    "\n",
    "class B:\n",
    "    def method_b(self):\n",
    "        print(\"method B\")\n",
    "\n",
    "class C(A,B): #inherts from A and B\n",
    "    pass\n",
    "\n",
    "obj = C()\n",
    "obj.method_a()\n",
    "obj.method_b()"
   ]
  },
  {
   "cell_type": "code",
   "execution_count": 36,
   "id": "35c2bb30-45ca-47ce-a1ab-58521253ae94",
   "metadata": {},
   "outputs": [
    {
     "name": "stdout",
     "output_type": "stream",
     "text": [
      "Animal is eating\n",
      "Mammal is walking\n",
      "Dog is barking\n"
     ]
    }
   ],
   "source": [
    "#multilevel inheritance\n",
    "class Animal:  # Base Class (Grandparent)\n",
    "    def eat(self):\n",
    "        print(\"Animal is eating\")\n",
    "\n",
    "class Mammal(Animal):  # Derived Class (Parent)\n",
    "    def walk(self):\n",
    "        print(\"Mammal is walking\")\n",
    "\n",
    "class Dog(Mammal):  # Derived Class (Child/Grandchild)\n",
    "    def bark(self):\n",
    "        print(\"Dog is barking\")\n",
    "\n",
    "# Create an object of the most derived class (Dog)\n",
    "dog = Dog()\n",
    "\n",
    "# Access methods from all levels of the inheritance chain\n",
    "dog.eat()   # Inherited from Animal\n",
    "dog.walk()  # Inherited from Mammal\n",
    "dog.bark()  # Defined in Dog\n"
   ]
  },
  {
   "cell_type": "code",
   "execution_count": 44,
   "id": "a797eb69-d6fe-40a0-963e-f9342351decd",
   "metadata": {},
   "outputs": [],
   "source": [
    "class contact:                       #inheritance is uni-directional\n",
    "    all_contacts=[]\n",
    "    def __init__(self,name,email):\n",
    "        self.name= name\n",
    "        self.email=email\n",
    "        contact.all_contacts.append(self)"
   ]
  },
  {
   "cell_type": "code",
   "execution_count": 39,
   "id": "fc67684d-f3f9-4e86-8c59-2232f2333b13",
   "metadata": {},
   "outputs": [],
   "source": [
    "class supplier(contact):\n",
    "    def order(self, order):\n",
    "        print(\"send\"\"{} order to {}\".format(order, self.name))"
   ]
  },
  {
   "cell_type": "code",
   "execution_count": 40,
   "id": "ef31f3e7-894d-4550-b710-a550534dcc63",
   "metadata": {},
   "outputs": [
    {
     "name": "stdout",
     "output_type": "stream",
     "text": [
      "some body somebody@example.com supplier supplier@example.net\n"
     ]
    }
   ],
   "source": [
    "c = contact(\"some body\",\"somebody@example.com\")\n",
    "s = supplier(\"supplier\", \"supplier@example.net\")\n",
    "print(c.name, c.email, s.name, s.email)"
   ]
  },
  {
   "cell_type": "code",
   "execution_count": 41,
   "id": "505d3d22-13a7-4b56-ab96-82b248d3c347",
   "metadata": {},
   "outputs": [
    {
     "data": {
      "text/plain": [
       "[<__main__.contact at 0x7385783c2d20>, <__main__.supplier at 0x7385783c23f0>]"
      ]
     },
     "execution_count": 41,
     "metadata": {},
     "output_type": "execute_result"
    }
   ],
   "source": [
    "c.all_contacts"
   ]
  },
  {
   "cell_type": "code",
   "execution_count": 43,
   "id": "cab4a780-f140-4a8b-9c5d-80bce4cea8ee",
   "metadata": {},
   "outputs": [
    {
     "name": "stdout",
     "output_type": "stream",
     "text": [
      "sendineed pliers order to supplier\n"
     ]
    }
   ],
   "source": [
    "s.order(\"ineed pliers\")"
   ]
  },
  {
   "cell_type": "code",
   "execution_count": 46,
   "id": "483d7a5f-c094-4097-a5b9-efdf39d7ef07",
   "metadata": {},
   "outputs": [
    {
     "ename": "AttributeError",
     "evalue": "'contact' object has no attribute 'order'",
     "output_type": "error",
     "traceback": [
      "\u001b[0;31m---------------------------------------------------------------------------\u001b[0m",
      "\u001b[0;31mAttributeError\u001b[0m                            Traceback (most recent call last)",
      "Cell \u001b[0;32mIn[46], line 1\u001b[0m\n\u001b[0;32m----> 1\u001b[0m c\u001b[38;5;241m.\u001b[39morder(\u001b[38;5;124m\"\u001b[39m\u001b[38;5;124mineed pliers\u001b[39m\u001b[38;5;124m\"\u001b[39m)\n",
      "\u001b[0;31mAttributeError\u001b[0m: 'contact' object has no attribute 'order'"
     ]
    }
   ],
   "source": [
    "c.order(\"ineed pliers\") #parent can't inhert from child(error)"
   ]
  },
  {
   "cell_type": "code",
   "execution_count": 49,
   "id": "1ad75b90-26c6-408c-9037-d48b473d29bb",
   "metadata": {},
   "outputs": [
    {
     "name": "stdout",
     "output_type": "stream",
     "text": [
      "This function is in parent class.\n",
      "This function is in child 1.\n",
      "This function is in parent class.\n",
      "This function is in child 2.\n"
     ]
    }
   ],
   "source": [
    "#Hierarchical Inheritance:\n",
    "# Base class\n",
    "class Parent:\n",
    "    def func1(self):\n",
    "        print(\"This function is in parent class.\")\n",
    "\n",
    "# Derived class\n",
    "class Child1(Parent):\n",
    "    def func2(self):\n",
    "        print(\"This function is in child 1.\")\n",
    "\n",
    "class Child2(Parent):\n",
    "    def func3(self):\n",
    "        print(\"This function is in child 2.\")\n",
    "\n",
    "object1 = Child1()\n",
    "object2 = Child2()\n",
    "\n",
    "object1.func1()\n",
    "object1.func2()\n",
    "object2.func1()\n",
    "object2.func3()"
   ]
  },
  {
   "cell_type": "code",
   "execution_count": 50,
   "id": "6fa5c3d0-7206-4cde-a92d-f9cabe52e406",
   "metadata": {},
   "outputs": [
    {
     "name": "stdout",
     "output_type": "stream",
     "text": [
      "This function is in school.\n",
      "This function is in student 1.\n"
     ]
    }
   ],
   "source": [
    "#hybrid inheritance\n",
    "# Base class\n",
    "class School:\n",
    "    def func1(self):\n",
    "        print(\"This function is in school.\")\n",
    "\n",
    "# Derived class 1 (Single Inheritance)\n",
    "class Student1(School):\n",
    "    def func2(self):\n",
    "        print(\"This function is in student 1.\")\n",
    "\n",
    "# Derived class 2 (Another Single Inheritance)\n",
    "class Student2(School):\n",
    "    def func3(self):\n",
    "        print(\"This function is in student 2.\")\n",
    "\n",
    "# Derived class 3 (Multiple Inheritance)\n",
    "class Student3(Student1, School):\n",
    "    def func4(self):\n",
    "        print(\"This function is in student 3.\")\n",
    "\n",
    "# Driver code\n",
    "obj = Student3()\n",
    "obj.func1()\n",
    "obj.func2()"
   ]
  }
 ],
 "metadata": {
  "kernelspec": {
   "display_name": "Python 3 (ipykernel)",
   "language": "python",
   "name": "python3"
  },
  "language_info": {
   "codemirror_mode": {
    "name": "ipython",
    "version": 3
   },
   "file_extension": ".py",
   "mimetype": "text/x-python",
   "name": "python",
   "nbconvert_exporter": "python",
   "pygments_lexer": "ipython3",
   "version": "3.12.4"
  }
 },
 "nbformat": 4,
 "nbformat_minor": 5
}
