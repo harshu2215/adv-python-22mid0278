{
 "cells": [
  {
   "cell_type": "code",
   "execution_count": 15,
   "id": "636317af-faf8-471c-b1b1-6ba190a11ba5",
   "metadata": {},
   "outputs": [
    {
     "name": "stdout",
     "output_type": "stream",
     "text": [
      "7\n",
      "30\n"
     ]
    }
   ],
   "source": [
    "# Addition\n",
    "add = lambda x, y: x + y\n",
    "print(add(3, 4))  # Output: 7\n",
    "\n",
    "# Multiplication\n",
    "multiply = lambda x, y: x * y\n",
    "print(multiply(5, 6))  # Output: 30"
   ]
  },
  {
   "cell_type": "code",
   "execution_count": 16,
   "id": "2a2380bd-92e3-4a59-aeac-2b6af6e578e5",
   "metadata": {},
   "outputs": [
    {
     "name": "stdout",
     "output_type": "stream",
     "text": [
      "[1, 4, 9, 16, 25]\n"
     ]
    }
   ],
   "source": [
    "numbers = [1, 2, 3, 4, 5]\n",
    "squared_numbers = list(map(lambda x: x**2, numbers))\n",
    "print(squared_numbers)  # Output: [1, 4, 9, 16, 25]"
   ]
  },
  {
   "cell_type": "code",
   "execution_count": 17,
   "id": "d328945f-06f1-4dfa-be0b-7806da2bb6a1",
   "metadata": {},
   "outputs": [
    {
     "name": "stdout",
     "output_type": "stream",
     "text": [
      "[2, 4, 6]\n"
     ]
    }
   ],
   "source": [
    "numbers = [1, 2, 3, 4, 5, 6]\n",
    "even_numbers = list(filter(lambda x: x % 2 == 0, numbers))\n",
    "print(even_numbers)  # Output: [2, 4, 6]"
   ]
  },
  {
   "cell_type": "code",
   "execution_count": 18,
   "id": "f6f128f0-3069-43ee-bd8f-d2dd01a6e928",
   "metadata": {},
   "outputs": [
    {
     "name": "stdout",
     "output_type": "stream",
     "text": [
      "[(2, 1), (4, 2), (1, 3)]\n"
     ]
    }
   ],
   "source": [
    "# Sort a list of tuples by the second element\n",
    "data = [(1, 3), (2, 1), (4, 2)]\n",
    "sorted_data = sorted(data, key=lambda x: x[1])\n",
    "print(sorted_data) # Output: [(2, 1), (4, 2), (1, 3)]"
   ]
  },
  {
   "cell_type": "code",
   "execution_count": 1,
   "id": "d791b257-9673-456f-929e-0674430fb52a",
   "metadata": {},
   "outputs": [
    {
     "name": "stdout",
     "output_type": "stream",
     "text": [
      "apple\n",
      "banana\n",
      "cherry\n"
     ]
    }
   ],
   "source": [
    "my_list = ['apple', 'banana', 'cherry']\n",
    "my_iterator = iter(my_list) # Create an iterator from the list\n",
    "\n",
    "for fruit in my_iterator: # Iterate through the elements\n",
    "    print(fruit)"
   ]
  },
  {
   "cell_type": "code",
   "execution_count": 3,
   "id": "7f1de7f0-d89e-47a7-8bb3-a3a1f2f3549f",
   "metadata": {},
   "outputs": [
    {
     "name": "stdout",
     "output_type": "stream",
     "text": [
      "Original integer list: [10, 20, 30, 40, 50]\n",
      "Converted string list: ['10', '20', '30', '40', '50']\n"
     ]
    }
   ],
   "source": [
    "integer_list = [10, 20, 30, 40, 50] \n",
    "string_list = [] \n",
    "# Iterate through the list and convert each integer to a string\n",
    "for number in integer_list:\n",
    "    string_number = str(number) # Convert the integer to a string\n",
    "    string_list.append(string_number) # Add the string to the new list\n",
    "print(f\"Original integer list: {integer_list}\")\n",
    "print(f\"Converted string list: {string_list}\")"
   ]
  },
  {
   "cell_type": "code",
   "execution_count": 8,
   "id": "b3bd5898-e137-41d9-a429-461f06288aa9",
   "metadata": {},
   "outputs": [
    {
     "name": "stdout",
     "output_type": "stream",
     "text": [
      "['__add__', '__class__', '__class_getitem__', '__contains__', '__delattr__', '__delitem__', '__dir__', '__doc__', '__eq__', '__format__', '__ge__', '__getattribute__', '__getitem__', '__getstate__', '__gt__', '__hash__', '__iadd__', '__imul__', '__init__', '__init_subclass__', '__iter__', '__le__', '__len__', '__lt__', '__mul__', '__ne__', '__new__', '__reduce__', '__reduce_ex__', '__repr__', '__reversed__', '__rmul__', '__setattr__', '__setitem__', '__sizeof__', '__str__', '__subclasshook__', 'append', 'clear', 'copy', 'count', 'extend', 'index', 'insert', 'pop', 'remove', 'reverse', 'sort']\n"
     ]
    }
   ],
   "source": [
    "digi=[22,2,24,25,26,27]\n",
    "print(dir(digi))"
   ]
  },
  {
   "cell_type": "code",
   "execution_count": 7,
   "id": "9a9d3ba2-5579-41b7-8f25-7765a0d548d8",
   "metadata": {},
   "outputs": [
    {
     "name": "stdout",
     "output_type": "stream",
     "text": [
      "[1, 2, 3, 4, 5]\n",
      "1\n",
      "2\n",
      "3\n",
      "4\n",
      "5\n"
     ]
    }
   ],
   "source": [
    "number = 12345  # Define a number\n",
    "digits = [int(d) for d in str(number)] # Convert the number to a string, then to a list of integer digits\n",
    "print(digits)\n",
    "\n",
    "for digit in digits:\n",
    "    print(digit)"
   ]
  },
  {
   "cell_type": "code",
   "execution_count": 13,
   "id": "b017bc0d-2f96-4ce3-8d22-d97453509117",
   "metadata": {},
   "outputs": [
    {
     "name": "stdout",
     "output_type": "stream",
     "text": [
      "<class 'list'>\n",
      "<class 'list_iterator'>\n",
      "ema\n",
      "tom\n",
      "hinton\n"
     ]
    },
    {
     "ename": "StopIteration",
     "evalue": "",
     "output_type": "error",
     "traceback": [
      "\u001b[0;31m---------------------------------------------------------------------------\u001b[0m",
      "\u001b[0;31mStopIteration\u001b[0m                             Traceback (most recent call last)",
      "Cell \u001b[0;32mIn[13], line 8\u001b[0m\n\u001b[1;32m      6\u001b[0m \u001b[38;5;28mprint\u001b[39m(\u001b[38;5;28mnext\u001b[39m(looper))\n\u001b[1;32m      7\u001b[0m \u001b[38;5;28mprint\u001b[39m(\u001b[38;5;28mnext\u001b[39m(looper))\n\u001b[0;32m----> 8\u001b[0m \u001b[38;5;28mprint\u001b[39m(\u001b[38;5;28mnext\u001b[39m(looper))\n",
      "\u001b[0;31mStopIteration\u001b[0m: "
     ]
    }
   ],
   "source": [
    "name = ['ema','tom','hinton']\n",
    "looper = name.__iter__() #using iter \n",
    "print(type(name))\n",
    "print(type(looper))\n",
    "print(next(looper)) #using next\n",
    "print(next(looper))\n",
    "print(next(looper))\n",
    "print(next(looper)) #documenting stopiteration error"
   ]
  },
  {
   "cell_type": "code",
   "execution_count": 19,
   "id": "06c0c2e5-1d47-49aa-a986-b96ff12c7b70",
   "metadata": {},
   "outputs": [
    {
     "name": "stdout",
     "output_type": "stream",
     "text": [
      "Alice\n",
      "Bob\n",
      "Charlie\n"
     ]
    }
   ],
   "source": [
    "names = [\"Alice\", \"Bob\", \"Charlie\"]  \n",
    "\n",
    "looper = iter(names) \n",
    "\n",
    "while True:  # Start an infinite loop\n",
    "    try:\n",
    "        name = next(looper)  # Get the next element from the iterator\n",
    "        print(name)\n",
    "    except StopIteration:  # Catch the StopIteration exception\n",
    "        break  # Exit the loop when the iterator is exhausted\n"
   ]
  },
  {
   "cell_type": "code",
   "execution_count": 23,
   "id": "14803022-b12c-47e3-8975-e5e74a437295",
   "metadata": {},
   "outputs": [
    {
     "name": "stdout",
     "output_type": "stream",
     "text": [
      "___iterable___\n",
      "\n",
      "--- List Iteration ---\n",
      "apple\n",
      "banana\n",
      "cherry\n",
      "\n",
      "--- Tuple Iteration ---\n",
      "red\n",
      "green\n",
      "blue\n",
      "\n",
      "--- String Iteration ---\n",
      "P\n",
      "y\n",
      "t\n",
      "h\n",
      "o\n",
      "n\n",
      "\n",
      "--- Dictionary Key Iteration ---\n",
      "name\n",
      "age\n",
      "city\n",
      "\n",
      "--- Dictionary Value Iteration ---\n",
      "Alice\n",
      "30\n",
      "New York\n",
      "\n",
      "--- Dictionary Item Iteration ---\n",
      "name: Alice\n",
      "age: 30\n",
      "city: New York\n",
      "\n",
      "--- Set Iteration ---\n",
      "cat\n",
      "mouse\n",
      "dog\n",
      "\n",
      "--- Range Object Iteration ---\n",
      "0\n",
      "1\n",
      "2\n",
      "\n",
      "--- Custom Iterable Iteration ---\n",
      "1\n",
      "2\n",
      "3\n",
      "4\n"
     ]
    }
   ],
   "source": [
    "#iterable demonstration\n",
    "print(\"___iterable___\\n\")\n",
    "# Lists\n",
    "my_list = ['apple', 'banana', 'cherry']\n",
    "print(\"--- List Iteration ---\")\n",
    "for item in my_list:\n",
    "    print(item)\n",
    "\n",
    "# Tuples\n",
    "my_tuple = ('red', 'green', 'blue')\n",
    "print(\"\\n--- Tuple Iteration ---\")\n",
    "for color in my_tuple:\n",
    "    print(color)\n",
    "\n",
    "# Strings\n",
    "my_string = \"Python\"\n",
    "print(\"\\n--- String Iteration ---\")\n",
    "for char in my_string:\n",
    "    print(char)\n",
    "\n",
    "# Dictionaries (iterating over keys)\n",
    "my_dict = {'name': 'Alice', 'age': 30, 'city': 'New York'}\n",
    "print(\"\\n--- Dictionary Key Iteration ---\")\n",
    "for key in my_dict:\n",
    "    print(key)\n",
    "\n",
    "# Dictionaries (iterating over values)\n",
    "print(\"\\n--- Dictionary Value Iteration ---\")\n",
    "for value in my_dict.values():\n",
    "    print(value)\n",
    "\n",
    "# Dictionaries (iterating over key-value pairs)\n",
    "print(\"\\n--- Dictionary Item Iteration ---\")\n",
    "for key, value in my_dict.items():\n",
    "    print(f\"{key}: {value}\")\n",
    "\n",
    "# Sets\n",
    "my_set = {'cat', 'dog', 'mouse'}\n",
    "print(\"\\n--- Set Iteration ---\")\n",
    "for animal in my_set:\n",
    "    print(animal)\n",
    "\n",
    "# Range object (generates numbers on the fly)\n",
    "print(\"\\n--- Range Object Iteration ---\")\n",
    "for num in range(3):\n",
    "    print(num)\n",
    "\n",
    "# Custom iterable class\n",
    "class MyIterable:\n",
    "    def __init__(self, start, end):\n",
    "        self.current = start\n",
    "        self.end = end\n",
    "\n",
    "    def __iter__(self):\n",
    "        return self\n",
    "\n",
    "    def __next__(self):\n",
    "        if self.current <= self.end:\n",
    "            val = self.current\n",
    "            self.current += 1\n",
    "            return val\n",
    "        else:\n",
    "            raise StopIteration\n",
    "\n",
    "my_custom_iterable = MyIterable(1, 4)\n",
    "print(\"\\n--- Custom Iterable Iteration ---\")\n",
    "for val in my_custom_iterable:\n",
    "    print(val)\n"
   ]
  },
  {
   "cell_type": "code",
   "execution_count": 24,
   "id": "4945660f-ca20-4de2-b913-0e6415f4f339",
   "metadata": {},
   "outputs": [
    {
     "name": "stdout",
     "output_type": "stream",
     "text": [
      "___non iterable___\n",
      "\n",
      "\n",
      "--- Non-Iterable: Integer ---\n",
      "Error: 'int' object is not iterable\n",
      "\n",
      "--- Non-Iterable: Float ---\n",
      "Error: 'float' object is not iterable\n",
      "\n",
      "--- Non-Iterable: Boolean ---\n",
      "Error: 'bool' object is not iterable\n",
      "\n",
      "--- Non-Iterable: None ---\n",
      "Error: 'NoneType' object is not iterable\n"
     ]
    }
   ],
   "source": [
    "#non iterable demonstration\n",
    "print(\"___non iterable___\\n\")\n",
    "\n",
    "# Integers\n",
    "my_int = 123\n",
    "print(\"\\n--- Non-Iterable: Integer ---\")\n",
    "try:\n",
    "    for digit in my_int:\n",
    "        print(digit)\n",
    "except TypeError as e:\n",
    "    print(f\"Error: {e}\")\n",
    "\n",
    "# Floats\n",
    "my_float = 3.14\n",
    "print(\"\\n--- Non-Iterable: Float ---\")\n",
    "try:\n",
    "    for f_part in my_float:\n",
    "        print(f_part)\n",
    "except TypeError as e:\n",
    "    print(f\"Error: {e}\")\n",
    "\n",
    "# Booleans\n",
    "my_bool = True\n",
    "print(\"\\n--- Non-Iterable: Boolean ---\")\n",
    "try:\n",
    "    for b_val in my_bool:\n",
    "        print(b_val)\n",
    "except TypeError as e:\n",
    "    print(f\"Error: {e}\")\n",
    "\n",
    "# None type\n",
    "my_none = None\n",
    "print(\"\\n--- Non-Iterable: None ---\")\n",
    "try:\n",
    "    for n_val in my_none:\n",
    "        print(n_val)\n",
    "except TypeError as e:\n",
    "    print(f\"Error: {e}\")\n"
   ]
  },
  {
   "cell_type": "code",
   "execution_count": 28,
   "id": "963dbc75-2490-4e8a-b698-240afb6773fd",
   "metadata": {},
   "outputs": [
    {
     "name": "stdout",
     "output_type": "stream",
     "text": [
      "[1, 4, 9, 16, 25]\n"
     ]
    }
   ],
   "source": [
    "#map demo\n",
    "def square (x):\n",
    " return x*x\n",
    "numbers=[1,2,3,4,5]\n",
    "print(list(map(square,numbers))) #map usage"
   ]
  },
  {
   "cell_type": "code",
   "execution_count": 33,
   "id": "2aee8e4b-6242-4c31-b387-acfe88627d77",
   "metadata": {},
   "outputs": [
    {
     "name": "stdout",
     "output_type": "stream",
     "text": [
      "[1, 4, 9, 16, 25]\n"
     ]
    }
   ],
   "source": [
    "#replacing map with lambda\n",
    "numbers=[1,2,3,4,5]\n",
    "print(list(map(lambda x:x*x,numbers))) #lambda usage"
   ]
  },
  {
   "cell_type": "code",
   "execution_count": 41,
   "id": "eb7334ab-17f3-4e11-a91b-551dabde25ec",
   "metadata": {},
   "outputs": [
    {
     "name": "stdout",
     "output_type": "stream",
     "text": [
      "Squared odd numbers: [1, 9, 25]\n"
     ]
    }
   ],
   "source": [
    "# 1. Filter out even numbers (keep odd numbers)\n",
    "odd_numbers_filtered = filter(lambda x: x % 2 != 0, numbers)\n",
    "# 2. Map (square) the odd numbers\n",
    "squared_odd_numbers = map(lambda x: x**2, odd_numbers_filtered)\n",
    "# Convert the map object to a list for printing\n",
    "result = list(squared_odd_numbers)\n",
    "print(f\"Squared odd numbers: {result}\")"
   ]
  },
  {
   "cell_type": "code",
   "execution_count": 38,
   "id": "53cf787b-6e70-4250-8185-a613bda5f76e",
   "metadata": {},
   "outputs": [
    {
     "name": "stdout",
     "output_type": "stream",
     "text": [
      "Doubled and then filtered numbers: [10]\n"
     ]
    }
   ],
   "source": [
    "# 1. Map (double) each number\n",
    "doubled_numbers = map(lambda x: x * 2, numbers)\n",
    "# 2. Filter out numbers less than 10\n",
    "filtered_doubled_numbers = filter(lambda x: x >= 10, doubled_numbers)\n",
    "# Convert the filter object to a list\n",
    "result = list(filtered_doubled_numbers)\n",
    "print(f\"Doubled and then filtered numbers: {result}\")"
   ]
  },
  {
   "cell_type": "code",
   "execution_count": 45,
   "id": "4e51ecf2-4f6e-4127-8d49-3526fdb0abfb",
   "metadata": {},
   "outputs": [
    {
     "name": "stdout",
     "output_type": "stream",
     "text": [
      "Uppercase names of people older than 28: ['BOB', 'DAVID', 'FRANK', 'GRACE', 'STEVE']\n"
     ]
    }
   ],
   "source": [
    "#Chaining operations for more complex data transformation\n",
    "people = [\n",
    "    {\"name\": \"Alice\", \"age\": 25},\n",
    "    {\"name\": \"Bob\", \"age\": 30},\n",
    "    {\"name\": \"Charlie\", \"age\": 28},\n",
    "    {\"name\": \"David\", \"age\": 35},\n",
    "    {\"name\": \"Eve\", \"age\": 22},\n",
    "    {\"name\": \"Frank\", \"age\": 40},\n",
    "    {\"name\": \"Grace\", \"age\": 32},\n",
    "    {\"name\": \"Sara\", \"age\": 26},\n",
    "    {\"name\": \"Steve\", \"age\": 29},\n",
    "]\n",
    "# 1. Filter people older than 28\n",
    "older_people = filter(lambda person: person[\"age\"] > 28, people)\n",
    "# 2. Map (extract name and convert to uppercase)\n",
    "uppercase_names = map(lambda person: person[\"name\"].upper(), older_people)\n",
    "# Convert to a list\n",
    "result_names = list(uppercase_names)\n",
    "print(f\"Uppercase names of people older than 28: {result_names}\")"
   ]
  },
  {
   "cell_type": "code",
   "execution_count": 43,
   "id": "f9f496c3-44c9-4497-96b2-5131baeab666",
   "metadata": {},
   "outputs": [
    {
     "name": "stdout",
     "output_type": "stream",
     "text": [
      "[1, 2, 3, 4, 5]\n"
     ]
    }
   ],
   "source": [
    "#replacing map with lamba and filter\n",
    "numbers=[1,2,3,4,5]\n",
    "print(list(filter(lambda x:x*x,numbers)))"
   ]
  },
  {
   "cell_type": "code",
   "execution_count": 46,
   "id": "aef2e481-d33e-4afd-922d-9e1bfdc0ca33",
   "metadata": {},
   "outputs": [
    {
     "name": "stdout",
     "output_type": "stream",
     "text": [
      "Uppercase names: ['ALICE', 'BOB', 'CHARLIE', 'DAVID', 'EVE']\n",
      "Lowercase names: ['alice', 'bob', 'charlie', 'david', 'eve']\n"
     ]
    }
   ],
   "source": [
    "names = [\"Alice\", \"Bob\", \"Charlie\", \"david\", \"EVE\"]\n",
    "\n",
    "# Convert all names to uppercase using map() and str.upper\n",
    "uppercase_names = list(map(str.upper, names))\n",
    "print(f\"Uppercase names: {uppercase_names}\") # Output: ['ALICE', 'BOB', 'CHARLIE', 'DAVID', 'EVE']\n",
    "\n",
    "# Convert all names to lowercase using map() and str.lower\n",
    "lowercase_names = list(map(str.lower, names))\n",
    "print(f\"Lowercase names: {lowercase_names}\") # Output: ['alice', 'bob', 'charlie', 'david', 'eve']"
   ]
  },
  {
   "cell_type": "code",
   "execution_count": 47,
   "id": "115c53fb-2f8f-47e1-866c-c1a430278560",
   "metadata": {},
   "outputs": [
    {
     "name": "stdout",
     "output_type": "stream",
     "text": [
      "Names <= 5 characters: ['Alice', 'Bob', 'David', 'Eve', 'Frank', 'Grace']\n",
      "Names starting with 'C': ['Charlie']\n"
     ]
    }
   ],
   "source": [
    "names = [\"Alice\", \"Bob\", \"Charlie\", \"David\", \"Eve\", \"Frank\", \"Grace\"]\n",
    "\n",
    "# Filter out names longer than 5 characters\n",
    "short_names = list(filter(lambda name: len(name) <= 5, names))\n",
    "print(f\"Names <= 5 characters: {short_names}\")\n",
    "# Output: Names <= 5 characters: ['Alice', 'Bob', 'David', 'Eve']\n",
    "\n",
    "# Filter out names that start with a specific letter\n",
    "names_starting_with_c = list(filter(lambda name: name.startswith('C'), names))\n",
    "print(f\"Names starting with 'C': {names_starting_with_c}\")"
   ]
  },
  {
   "cell_type": "code",
   "execution_count": 51,
   "id": "ca8e5efe-8b4f-4eb0-8046-3688a96da337",
   "metadata": {},
   "outputs": [
    {
     "name": "stdout",
     "output_type": "stream",
     "text": [
      "15\n"
     ]
    }
   ],
   "source": [
    "from functools import reduce\n",
    "numbers = [1, 2, 3, 4, 5]  # Define `numbers` as a list\n",
    "total = reduce(lambda x, y: x + y, numbers)\n",
    "print(total)"
   ]
  },
  {
   "cell_type": "code",
   "execution_count": 1,
   "id": "a5869450-daae-4956-8888-6f7211a96e9e",
   "metadata": {},
   "outputs": [
    {
     "name": "stdout",
     "output_type": "stream",
     "text": [
      "Tokens: ['The', 'only', 'way', 'to', 'do', 'great', 'work', 'is', 'to', 'love', 'what', 'you', 'do.']\n",
      "Reconstructed sentence (uppercase): THE ONLY WAY TO DO GREAT WORK IS TO LOVE WHAT YOU DO.\n"
     ]
    }
   ],
   "source": [
    "from functools import reduce\n",
    "quote = \"The only way to do great work is to love what you do.\"\n",
    "# 1. Tokenize the quote into a list of words (split by space).\n",
    "tokens = quote.split() \n",
    "print(f\"Tokens: {tokens}\") \n",
    "# 2. Use map() to add a space after each token\n",
    "# using a lambda function.\n",
    "spaced_tokens_uppercase = map(lambda word: word.upper() + \" \", tokens)\n",
    "# 3. Use reduce() to combine the tokens into a single string (the sentence)\n",
    "sentence = reduce(lambda x, y: x + y, spaced_tokens_uppercase).strip() \n",
    "print(f\"Reconstructed sentence (uppercase): {sentence}\")"
   ]
  },
  {
   "cell_type": "code",
   "execution_count": 3,
   "id": "bfaddd53-3149-42ab-b8e7-e756bc66ca6f",
   "metadata": {},
   "outputs": [
    {
     "name": "stdout",
     "output_type": "stream",
     "text": [
      "MAP, LAMBDA, and FILTER are Python tools used for functional programming\n",
      "\n",
      "map applies a transformation to each item, filter selects items based on a conditionan\n",
      "\n",
      "lambda provides a concise way to define the functions for these operations.\n",
      "\n"
     ]
    }
   ],
   "source": [
    "print(\"MAP, LAMBDA, and FILTER are Python tools used for functional programming\\n\")\n",
    "print(\"map applies a transformation to each item, filter selects items based on a conditionan\\n\")\n",
    "print(\"lambda provides a concise way to define the functions for these operations.\\n\")"
   ]
  },
  {
   "cell_type": "code",
   "execution_count": null,
   "id": "904433b3-67f8-4a98-b8c4-d19a436cf077",
   "metadata": {},
   "outputs": [],
   "source": []
  }
 ],
 "metadata": {
  "kernelspec": {
   "display_name": "Python 3 (ipykernel)",
   "language": "python",
   "name": "python3"
  },
  "language_info": {
   "codemirror_mode": {
    "name": "ipython",
    "version": 3
   },
   "file_extension": ".py",
   "mimetype": "text/x-python",
   "name": "python",
   "nbconvert_exporter": "python",
   "pygments_lexer": "ipython3",
   "version": "3.12.4"
  }
 },
 "nbformat": 4,
 "nbformat_minor": 5
}
